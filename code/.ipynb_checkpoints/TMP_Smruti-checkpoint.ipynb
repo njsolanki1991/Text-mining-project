{
 "cells": [
  {
   "cell_type": "code",
   "execution_count": 1,
   "metadata": {},
   "outputs": [],
   "source": [
    "# Libraries\n",
    "import json\n",
    "import nltk, re, pprint\n",
    "from nltk import word_tokenize"
   ]
  },
  {
   "cell_type": "code",
   "execution_count": 2,
   "metadata": {},
   "outputs": [],
   "source": [
    "# Opening Files and loading data\n",
    "with open('.\\\\Datasets\\\\pan20-authorship-verification-training-small\\\\pan20-authorship-verification-training-small-truth.jsonl', 'r') as json_file:\n",
    "    GroundTruth_jsonlist = list(json_file)\n",
    "with open('.\\\\Datasets\\\\pan20-authorship-verification-training-small\\\\pan20-authorship-verification-training-small.jsonl', 'r') as json_file:\n",
    "    TrainingData_jsonlist = list(json_file)"
   ]
  },
  {
   "cell_type": "code",
   "execution_count": 3,
   "metadata": {},
   "outputs": [
    {
     "name": "stdout",
     "output_type": "stream",
     "text": [
      "{'id': '6cced668-6e51-5212-873c-717f2bc91ce6', 'same': True, 'authors': ['1446633', '1446633']}\n"
     ]
    }
   ],
   "source": [
    "# Conversion of JSON to list\n",
    "GroundTruthList=[]\n",
    "for json_str in GroundTruth_jsonlist:\n",
    "    GroundTruthList.append(json.loads(json_str)) \n",
    "TrainingDataList=[]\n",
    "for json_str in TrainingData_jsonlist:\n",
    "    TrainingDataList.append(json.loads(json_str))"
   ]
  },
  {
   "cell_type": "code",
   "execution_count": 5,
   "metadata": {},
   "outputs": [
    {
     "name": "stdout",
     "output_type": "stream",
     "text": [
      "{'id': '6cced668-6e51-5212-873c-717f2bc91ce6', 'same': True, 'authors': ['1446633', '1446633']}\n",
      "{'id': '6cced668-6e51-5212-873c-717f2bc91ce6', 'fandoms': [\"Guardians of Ga'Hoole\", 'Hetalia - Axis Powers'], 'pair': ['I shift a bit, warily letting my eyes dart from one owl to the other -- but my eyes are trained on the Barn Owl the most. Like Hoole...so like Hoole... He turns a bit, and our eyes meet directly. I can\"t describe it...in this next moment, I don\"t look away, how awkward it seems. I stare into his eyes. They\"re like Hoole\"s... They are Barn Owl eyes, but Hoole\"s eyes. They\"re his eyes...Hoole\"s eyes... They hold that light of valor, justice, that one glow that I always made me feel my gizzard twitch in the bottom of my heart. Hoole... He never wanted me, did he? He loved me, but only who I was pretending to be. He never loved me, only Emerilla...lucky owl. I just wanted to belong -- because I was nothing -- and he gave me that. He was so fair, so kind...he gave me something even Kreeth could not. Mum and Da -- Ygryk and Pleek -- were supposed to be my parents. I was supposed to be their chick, Lutta. Yet they left me. They talked about me behind my back...I was a freak. My own parents loathed me. Oh, they tried, but they left in the end. They didn\"t love me. Kreeth used me. No one really loved me, or even looked at me normally. All I was was a freak, nothing at all. Then he came along. Him, Hoole. The only one who let me belong, looked at me with kindness in his gaze, not looking like I was a...monster... Why was I born? Not one person cared about me. I was just freak my parents didn\"t want, a weapon for auntie\"s uses, and a fake to my only love. He cared, but didn\"t know me. In the end, I was a monster to him too. Now I\"m back. And now I wonder... I suddenly stiffen as I think up to a thought. \"What happened?\" I shoot up and stare into those kind eyes. I trust him to answer. \"Please, who are you? Where am I? Where\"s...Where\"s\"--I choke up, but the question is already on my tongue--\"Hoole?\" My talons clench as the name leaves me. At once, I see sympathy clearly written over their faces. A pang enters my heart. Sympathy for me? A nothing? \"Lutta.\" Sweet words again, and I suddenly wonder how this Barn Owl knows my name. \"It\"s hard to explain, but please...\" \"Listen carefully.\" Everyone, including me, jumps as the Great Gray speaks -- in a rather booming voice -- for the first time. The Elf Owl frowns at him. The older Barn Owl gives him a quick nudge. Words tumble from the young Barn Owl\"s beak. \"Lutta, we read about you in legends. It\"s been a long time since you were... \"Well, you\"re at the Great Ga\"Hoole Tree, and it\"s been a long time since you were...\" His voice dies down as he hesitates. \"Dead,\" the older Barn Owl finishes. He says it with that sympathy shown in his eyes. \"It\"s been thousands of years from your time, and we read about you from some legends about some...events...\" He clears his throat, determined to go on. \"Coryn here\"--a gesture at the young Barn Owl--\"is the king. I\"m his uncle, Soren. This is Gylfie\"--a gesture at the Elf Owl, who nods in greeting--\"Twilight,\" the Great Gray, \"and Digger\"--what a funny looking Burrowing Owl. \"My uncle and his friends are called the Band,\" Coryn adds. I let this newfound information seep in. Thousands of years? Could this be possible? I was dead, right? It\"s been so long -- and...I was dead? How...? \"I have a GIZZARD!\" \"You do not have a gizzard, you fool! you idiot! I created you.\" \"You created me, but I created this gizzard!\" \"No!\" What is this? \"Emerilla?\" He turns as I change. He knows now...what am I to do? Dismay spreads through my body. He\"ll probably think I\"m a freak too, and he\"ll hate me. But I love him! In the next second, I\"m flying at him. Adrenline floods me as I feel...am I losing myself? This gref... He\"ll hate me now. I slam into him, and he flies backward. \"I love you!\" I want to scream. I want to scream those three words. To let him understand. I want to scream, \"I love you!\" Then, an enexpected blow to the back of my head. Pain. Unexpected pain. Then talons, stopping me in my tracks. Talons...digging into me, slashing everywhere. My vision spins to red. I\"m being ripped apart at the seams. Torn. No... Why are you...? I sink, and I fall apart, literally. My feathers fall off, as my body becomes a lump of darkness. A lump of feathers. I truly am nothing... You\"d expect a real body when one is torn by claws -- and yet...feathers only. My phantom gizzard lurches. \"Half-hags!\" \"I had to kill her.\" WHY? \"She pretended to be my Emerilla.\" Is that all! I\"m going to die like this! Just because I was an imposter! \"I knew from the start that something was not right about her. A blood deception she was -- a hagsfiend.\" Anger -- hot, seeping rage enters me. And cold feelings. Feeling that make me want to shed tears. \"No!\" I manage. \"Who are you?\" Who? Hoole...you accept me as someone? Hoole... \"I am nothing...and yet, I loved...\" I loved... \"Lutta?\" \"Hey! Are you all right?\" \"What\"s wrong? Lutta!\" I sink down as my mind spins. Then, I black out. All was dark except for the fluttering movement of wings -- brown wings. A Barn Owl shifted in the branches of the magnificent tree, her dark eyes gleaming as she looked into the hollow. How strange that she could get so close to the tree so easily. She was but a sillhouette against the branched skies. She eyed the hollow, and the inhabitants. Her son...too bad she would have to kill him. He would have made a fine pure owl, had he not inherited his uncle\"s stupid softness. She could just kill him, right there and then. How easy, that everything she had been working for for the last few months would just be completed now, so easily. She could easily snatch the ember, then swoop in and kill Coryn, his disgraceful uncle, and get her dear mate\"s -- rest his soul -- revenge. Then, kill those pathetic owls that were always around Soren, and anyone else she comes across in the tree, just for a bonus. It would be wonderful to see their pained, stupefied faces as she sank her claws through their feathers, one by one. Then she saw the hagsfiend, and her eyes widened in horror. I am the last! How is this possible? Why is she in that hollow! She could just kill her as well -- but her eyes caught something, and her gizzard twitched. No...she\"ll just stay back and observe. This hagsfiend could prove some use to her and... Sadistic impulse shot through Nyra\"s gizzard. The adoring gleam in the hagsfiend\"s eye as she stared at Nyroc. No, she\"ll wait. Nyra silently spread her wings and swooped into the night sky. She had plotting to do. PT: Please, enjoy :) I hope I can fill up some holes in the story as soon as I can. Though, they\"re there for suspense. Please review! Nothing, Yet A Love Never Dying PT: THANKS SO MUCH FOR READING, EVERYONE!! Enjoy! I have a little more to say: I know the last book already came out, and I\"ve finished it already. I\"m a little stunned, but in courtesy of those who have not yet finished it, I won\"t spoil it. However, despite the end, I\"m continuing the fic the way it is. I\"ve just noticed how much I\"ve been neglecting the story O.o Anyways, I was rather...displeased with a few stories stuck in the GoGH fandom, and while I was planning to leave it after finishing this fic, I might a few more fics for this. Not that I have hubris...I just...don\"t know...I just think I\"ll contribute to the fandom with a few fics of angst :D Anani Mouse Thank you, thank you so much :D -Head swells- Frosted Fate Yeah, poor Lutta D: Wish Hoole ended up with her. One of the Populace Oh...-sobs- Hi! :D FlamingSerpent Thanks! I\"m flattered x) True, Nyra\"s so important to the plot -- being sadistic and plotting revenge, among other things :) Hawkrain I\"m glad you\"re eager :D Thanks for reviewing and liking it! :) Lara-Van Thank you, thank you -bows- X) It\"s great that you think that; cheered me right up ;) The Great Tree I can make them hurt... My Mum and Da. I can make them feel the pain that they\"ve put on me. They can hurt, and I\"d be able to do it to them. A change in our positions is want I want so badly, and they\"d taste the bile they stuck in my throat. They left me...they left me, their chick Lutta. Theirs. I have the power now -- to make them hurt. I can make them hurt. I can make them hurt... \"Lutta!\" Stop slapping me. \"Lutta, wake up!\" Slap. Stop slapping me with your wing, it stings. Slap. Slap. \"WAKE UP, Lutta.\" Slap. Slap. Stop it! I\"m trying to-- \"Lutta, please!\" ...Hoole? Hoole\"s voice! I flick my eyelids open -- all four of them -- at the same time. Hoole? No, it\"s Coryn. Just Coryn. \"Lutta, are you all right?\" The way he looks at me...it\"s like Hoole. So much like Hoole. \"I\"m fine,\" I answer, and immediately scan my surroundings. Perhaps I have become overly paranoid with time, but I can\"t be sure. In any case, I can\"t let my guard down in this case; I could find myself dead in a second, just like that I died in an instant -- killed by Strix Strumajen. I shudder, remembering the memory of being ripped. Ripping, ripping, tearing, blood, pain-- Death. And then... Well, I don\"t want to think about what I don\"t remember. After that, there was nothing but a cluster of memories of what happened within death-- Falling. Falling... Floating...unraveling...flowing through the winds...becoming one with nature...then falling.... Falling, falling downwards, a curse uttered upon my kind: \"To hagsmire.\" Hagsmire, where the ones who have sinned within their lives went, for eternal damnation. Hagsmire, for hagsfiends, and...and... Nothings. Nothings -- they who mean nothing to the world, who should never have entered this life, this realm of breathing. Falling, agony, curses, darkness, cold hate. Those flaws of what life and death decide. And nothings. Nothings, like me. Nothing. Snap out of it. I don\"t want to remember. Of being one of the damned. And now I\"m back. Why? \"Lutta?\" -- and I look up. Hoole -- no, Coryn. Coryn, the Barn Owl. Unconsciously, I stare at him with huge eyes that deserve to pop out of their sockets. \"Yes?\" I say. Oh Coryn, please don\"t look at me like that. You look like Hoole, please, don\"t look sympathic...please don\"t...I want it but you don\"t have to give it. Can you not see that my heart has already been broken? \"Lutta,\" he says, softly, and gives me a tender nudge with his wing. \"Can you stand?\" I nod, because I cannot find myself shaking my head. \"Yes.\" Can my legs work? He steps back slightly, to give me room, and I try to remember how to use legs again. Now, I just...position them...and push upwards... A searing pain. My legs! They hurt! They hurt! Fall down again -- No, I can\"t. I can\"t fall; I\"ve told Coryn that I will stand, will be able, and I will not lie; not anymore; I have already lied and tricked Hoole, I will not do so again, not to any owl. Nor this owl. This owl, who stares with the eyes of a true king. A young king, but a wise one, and a good one. With difficulty, I stagger forward, out of the small nest. I feel the bark underneath my claws as I step on it; bark again, how it brings back thoughts of those days. It feels a bit unfamiliar, but I cannot forget bark. Such a thing is pathetic. I feel my legs quivering, wanting to give way, but no. No. I have said that I will stand. How they quiver! -- stop it. Stop quivering! I have said I will walk, and I will walk, even if this pain continues -- like fire searing at me, numbing in a way. I will not lie again. Deception has torn me once before; never again. I look at Coryn, see the concern in his eyes; he hesitates to step forward, wanting to help. No, I can do it. Please. Let me. I walk, a little faster, wanting my legs to stride. They work, a little better. I look at Coryn again, and I ask, \"Where am I?\" \"The Great Ga\"Hoole Tree.\" Silence. My breathe hitches quickly. \"The...\" I pause, mind spinning and reeling. The Tree? The Great Ga\"Hoole Tree, that was reigned over by...Hoole? \"Tree?\" The Tree. The Great Ga\"Hoole Tree. And my mind explodes. \"Th -- Then!\" I jump as I begin stuttering. \"The Ga\"Hoole Tree! I -- I don\"t belong here! I am nothing! I lo-- \"Hoole, he...NO! I am a disgrace! My presence is dirtying this tree!\" I back away, seeking some sort of exit. I don\"t belong here. No. I am defiling the Tree. How long has it been since the last time I was here? I deceived the good king, I nearly killed him -- he was a great king, and a great owl! I don\"t deserve to be here! How many good owls reside in this tree now, the Tree that was grown by -- as rumor says -- the sorrow and goodness of Hoole? I don\"t belong here! Coryn jumps now. Please, no! \"Lutta!\" he says, eyes flashing with some sort of fire that started. \"You are not!\" Not? But...Hoole! Hoole! -- please no! You--! I stare, transfixed, as I see Coryn change. I don\"t see Coryn anymore. I see...you. Hoole. Eyes, eyes that spoke of what you believed in. Your sense of love for those close to you, your fiery will that would see indiscrimation to the very end. I\"m sorry Hoole! I deceived you! I am everything you are not! -- and should not be! I am NOTHING! I back away, seeing Hoole. He steps forward, that look in his eyes-- \"You deserve to be here! You--\" I stumble backwards as I shriek, \"Hoole! Don\"t! Don\"t you understand!\" Now is my time to confess! I never told him that I was-- I\"m sorry Hoole. I\"m so sorry! \"Lutta!\" The owl before me is -- He\"s pleading! No, I don\"t deserve it! \"Lutta, you do! Just as any owl!\" My gizzard throbs, beating against its surroundings. I stare upwards, feeling it grow cold. \"NO! I DON\"T DESERVE TO BE HERE! I AM NOTHING! I -- DO -- NOT -- BELONG -- HERE! I AM...\" My gizzard gives a jerk. My throat fills with pebbles; \"Nothing....\" My words are choked. It\"s true. I am nothing. I don\"t deserve to be here, at the Great Tree. PT: Like? Hate? Please review. I hope to update soon. Fill up the plot holes, twist the story...you know. Nothing, Yet A Love Never Dying PT: I really need to update more often. xD -Shot- ...-looks out window- Well, I thought I\"d take some advantage. Now that I\"m in high school, and in the JROTC program, I\"ve joined the drill team that saps up all the members\" time. But as of this month practice has been cancelled until further notice. Now I have the energy and time for writing, so yeah -shrugs- FlamingSerpent I know, right? So sad...last book...oh the nostalgia.... PokemonKnight Yes, isn\"t that talent just so impressive? x) -shot- Thank you. silverrosetail Thank you, and thanks for the further information ^^ Hopefully, once this is pointed out, things will definitely unfold a little more. SamPD Mmhm...since I\"ve already replied to you... Crazydragonlord Thank you~! n_n I appreciate that. Move Again, Step By Step Nyra glanced down at the small bit of parchment in her right claw, squinting slightly to make out the ancient words. The Kraakish scrawled upon it was old, but young enough for her to translate. The general of the Pure Ones had to stop the glee that was bubbling upwards in her gizzard -- no, not yet, when this isn\"t confirmed to work -- but she allowed herself to flush slightly with success. For the sake of her sanity and her own feelings of encouragement. Success was near... Nearing... ...Bit -- by -- bit. \"Yes.\" A glint came to concentrated eyes. \"This is it.\" I look up. Consciousness is drifting back with a comforting steadiness. It comes kindly, but firmly. But I let it come. Hell. My body aches -- all of it, it aches and hurts and pinches itself. It\"s a twisted rag -- I\"m a twisted rag. Hoole. Coryn. Oh... I shouldn\"t be here. The thought is fire, or else ice. I shouldn\"t be here. I don\"t deserve to be here. My thoughts are taking flight from where they have left off. I don\"t deserve to be here. Of course I don\"t. I look around as my vision clears; he is not here...Coryn, was it? No one is here. My phantom gizzard -- phantom, yes... -- speaks...it sends a jolt of alarm. Warning. They have left me. They must have. Kind as they seemed to be, they must have left me here...in this hollow...perhaps wanting me to leave on my own, too disgusted to act. A saddening thought. They acknowledged me, though, and they were kind. Perhaps they saw through to something... But that\"s reality, is it not? -- of course, freak that I am; player of the confidant game that I am...an actor, nothing more. There is no real me. My grief has quieted. I should leave then -- it cracks my phantom gizzard in half -- this is the tree; and I am nothing. I shall leave then...go somewhere else to rot, quietly, for the peace. This tree has something...something...that revives Hoole\"s life. I wonder, then...if he is looking down here. I wonder what he is thinking. At least he is at peace. There is no me to disturb him, and I shall bother him no more in this tree. Hoole. I am sorry. I don\"t deserve any of your love. And I will not bother Coryn. He reminds me so much of you. I turn to face the opening of the hollow, veiled by lichen. Pretty. How alive. There is air outside; nighttime seeps through the fleshy fibers. Cool air, and a wide expanse. Shall I fly till the end of my miserable days? I shift; I can move. Then I can leave. There is no reason to stay here, of course...this is Hoole\"s home; I shall not taint it. Oh, it\"s silent -- I can\"t believe it took so long for me to notice it; my feathers are rustling -- I must look ugly -- and my feet shift. I can move. This is life. I am alive. Truly, truly alive. I cannot tell what exact state I am in, but I know I must be a mess. But outside I can release, can I not? Release, and perhaps become one with nature, earth or sky. There is a whole world out there, limitless. I can wander till the end of my days, past even the confinements of the land we owls know. Beyond the beyond the beyond. I fear no danger; in fact, the danger can come, and I shall not care if it kills me. I am an owl -- whatever I am -- with nothing to lose and nothing to gain. Then I am ready. I listen one more time, pause, before beginning the endless journey. Nothing. There is nothing but the hum of silence, scratching in cadence. I must be desperate to stay, as if I truly deserve it. I don\"t. I cannot stop thinking about this; I deserve nothing. I am nothing, after all. If I am damned to this line of reality for this whole retake at life, then so be it. Then, I will take my leave. Good riddance, then. My eyes mist. When I shake my head to clear the fog, I hop forward -- painful -- and I manage to walk. I can do this. There is the opening; I will go now. I must be cherishing the whisper of lush wind. I will go. I will go. With a shake of my ruffled feathers, I jump out, brush through the lichen that caresses my wings in farewell -- with pity? -- and snap my wings open. A prickling sensation. With a quick look downwards, as the world rushes in, I see the silver-gray plumage restored to my chest. A shapeshifter again. Coryn watched the candle before him splutter wetly, in its final throes of death. Though fire was life, it needed something to last. Something that helped it, hurled it onward. Without, it would die, die and scream. Then it would fall silent and blow out of existence. And that would be that. Died, and was dead. But undoubtedly, irrevocably, dead. How, then...how? -- how did a dead owl, undoubtedly gone for years upon years upon years...how could a dead owl rise, fresh and breathing, from the dead? This was illogical, and beyond the illogical itself. Of course there could be attempts to raise the dead, but...the body. And the sheer closeness to impossibility. Lutta, the owl of legend, was alive after being dead for so long. How...? Her body must have withered and become nothing but food for the earth to devour greedily. Though the beyond of the horizon of the logical was boundless, this was still... How, he mused. How. That was what he was pursuing. How? How? How? How had she returned to the earth? Was she an illusion? -- if so, she was something beyond illusion...she was too perfect to be something to be called a mere illusion. Coryn mused onward as he turned back to the sheafs of paper -- he had left Lutta for the pursuit of something...something that could shed its light upon the happenings. So long ago. Lutta. Was this a work of nachtmagen? There was that possibility, faded as the yellow craft was. Then who had performed it? Coryn could not grab it; he snatched at empty air. There was nothing to tell him. Nothing that anything could tell him, nor aid him. This was an enigma beyond most anagrams of matters. This was a mess. He had found her, Lutta, merely lying on some branch of the tree. And, through some urging of the gizzard, he had brought her back into the tree itself. This made little sense. He dived into another pool of thoughts. What if...? There was a bang; he jumped and turned. There was a curse of \"raccdrops!\" Twilight. Coryn called, one wing still laid flat over a book, \"What\"s going on?\" More cursing, followed by Gylfie\"s reprimands. There was a loud whirlwind of a flutter, and soon the whole Band was within the room! \"What?\" Coryn said loudly at the undignified relative of a heap before him. \"What\"s happened?\" Something shot through his gizzard. Soren spoke first, in a rushed but determined voice. \"She\"s gone!\" Another shot. Something like cold fear and wonder. \"She\"s gone!\" Gylfie wailed. \"Lutta\"s gone!\"', '\"All will become one with Russia,\" he said, almost simply, his cheer eerie. Fists were already clenched; now they groped about, for a pan, a rifle, a sword-there was nothing. In some way, this brought her but a sigh of relief-Gilbert and Roderich, she was reminded, were not here to suffer as well. If Ivan put his giant hands on Roderich... Click, went an object, and Elizaveta was snapped into the world when her own instincts pulled her head away; on time, for Ivan\"s collar was soon found to be touching the tip of her nose: she went cross-eyed staring at the thing: it pinched her skin, now red with anger. How dare you- Oppression! No one could lay that yoke above her again!-she would never allow it! Even when a sort of purple shroud seemed to wrap itself about Ivan and blaze as a fire would...even as a faint eerie \"kolkolkol\" was thick in the air...Elizaveta held her ground-glaring, hating, repulsing. Oppression. No more oppression...! His eyes dropped; his hand followed: with a bolt of alarm-lechery?-feint?-Elizaveta took one step back, bristling as the wolf does. Watching the muscles of the Russian arms twitch, she ducked when he snatched at where her waist would have been had she remained still; with a quick flush of indignation, she glared upward; if only Ludwig had not been forced out! He had retreated with such haste, back to Berlin, offering to bring her with him, though knowing that she would not leave-Hungary was her, and her place. So he had left, alone and resigned to the fact that even Veneziano had to leave him, taken by the Allies. Elizaveta had watched him go with as much resignation. Endsieg, the Germans called it. Ivan was huge, behemoth above an ant...no, not an ant, but perhaps a lotus...perhaps a hybrid of that with a rose. There is no rose without thorns, after all. The Soviets had already been merciless, ruthless as the next army: the ache of rape and massacre fluttered about the land. If anything, the nation itself would fight. Useless as it was. Ivan dropped the collar. Still galvanizing with mental shocks down the spine, she watched closely. Too closely. Ivan\"s hand dove downwards and snatched. With a horrified she jumped back, giving a swift right hook to his neck, the closest she could reach. -And in the end, it almost didn\"t matter. Ivan smiled triumphantly as a long-forgotten weight was shifted from her belt. With a savage look from one of him and Elizaveta, the paper was in between his fingers...Elizaveta looked, stunned-in the moment it felt as if the appendix had been removed from her body. As useless yet familiar thing was there, the memory of its origins...filled with not blood, but gore-milk skin against the universe of deadness. The paper was scrolled about the Russian\"s fingers; somehow, it completed the image-a bloody Soviet, grinning wickedly as the royal purple billowed from his eyes: to top it all off, a dirty cream paper twisted about his raised digits. It was almost gray. She had long since forgotten about the thing; the small text, written in Gilbert\"s-a frantic parry-handwriting; out fell a finger, and it was the one from the bombed wreck. Just its weight-it had been there all along, useless, a little keepsake of Berlin; what she had seen there. What she had left behind for her own Hungarian version. It was white still, yet shriveled, and dry-that was all; it had changed, though not enough. \"German,\" Ivan said, warmly-no, coldly...swelteringly icy, and that was oxymoronic, but oxymoronic was practically the composure of him...him, all him. \"This is a finger from Germany, da?\" \"How do you...\" She sucked in a breath; refused to let her eyes widen. The grin widened; \"Just a lucky guess.\" He giggled, sickeningly, violet mist shrouding the remains of his person; his teeth were a white and perfect-they flashed in the buttercup sun, which laid its yellow upon the stiff white ground, touched with chill. Elizaveta stood stock-still then: she did the whole time; something had been torn away, and it lay resting among Ivan\"s grubby fingers, clad in leather-worn leather gloves that anyone would wear these days...she rubbed at her own, slightly shredded, at the still-clothed fingertips. Hands-they were worn down: hers and Ivan\"s. Beaten flesh. Looking up again, relief flashed briefly, the white light stark against her crimson crumbling heart, or else the mind-one was meaningful as the other; with that thought, of Roderich, Gilbert, Ludwig, Veneziano, and the war as a human, Ares... Endsieg. There was nothing to lose, but more lives. Eyeing the Russians, who had swept her land into scorched blood, she charged. There was nothing more to lose, and she kept on telling herself that. Even as the Soviets rushed over, rustling the paper with the breeze stirred by their boots; even as she lay ready to die, ready to live, tired as a nation at the end of his time. There was plenty of dust, and plenty of blood, and her body ached. It fit-it all fit. The yoke had been laid over her shoulders-the niggling thought that it was cracked brought no satisfaction: the Soviets still had claim laid over the land fought so hard for: Everything I\"ve done, she thought, as a cough formed within her throat, was for my people. Her thoughts flickered, at Roderich, at Gilbert-if she could not fight, she could marry, or give herself over; but she could fight, she merely needed the mentality rather than the plentiful physique: that was why she was in...this. \"Fuck,\" she breathed, eyes shut against the world. The last soldier soon disappeared through the limits of sound; peace and dust remained-not one stray man was left, no one else to strap the lead to her bones. Limbs aching, heart aching, mind aching, she lay there among the debris- No wonder, then, said the idle mind; she could have scowled, but it would have hurt too much-coughing did not help: if it stayed, it hurt the throat; if it was released, it cut the throat; the effort of checking it racked the whole body, and there was none of it anyway. Head lolling back, Elizaveta felt the paper, the finger, lying dead on the ground: Russia had dropped it, mockingly, to replace the grave flowers. There were no flowers, aside from those withered things in her hair. They were papery. Still, being near dead...the well of strength was dry. There was but moisture left in the moss growing upon the clammy stone-up the frozen cylinder it traveled, and so she flinched when the hand came. It was cold. Cold-and yet, hot as ice-white and freezing; the touch was familiar. It was light as a feather. The feather was upon the shoulder; it pressed, though not harshly; still, it could not be described as gentle. The hand was frail as her strength-brittle and cold and old. She refused to open her eyes then. She had decided, some time ago, that she liked the dark. She preferred it; it was friendly, and it allowed ignorance to be an excuse. It was kind, and she wished it could be a closer friend. But white-why white... \"Hey,\" said something, someone, something, someone. The ax scraped against the stone; it rasped with a familiar tinge of the past months, which were long as eternity, significant as the rest of time\"s children. It was a beautifully ugly voice, salty, bloody, white as fire. In the next moment there was nothing but one thing-it could not be. The pressure increased, it was beginning to hurt. Not able to growl, Elizaveta shifted with painful instinct-another cough ripped through her chest. \"Hey,\" said something again, and she summoned what was left of the moisture in the moss to flick her eyes open-it hurt: her eyes stung in white with water, but she knew it would come to pass. Everything comes to pass. Everything-absolutely everything: she had to keep on telling herself that, for though it passed, it took its very sweet time doing so; so that she could almost taste the bitter sparks on her tongue; it was parched, and thus drier. Spice. \"Fuck you,\" she whistled through her throat. It stung. It could not be. The pressure increased, not unexpectedly; it squeezed upon her shoulder, and it took a large muster of strength to finally blink the fluids away from the eyes, so that they were a clear green again-the first sight was white, as it always was-the second blink brought the sight of red, and some part of her-somewhere, deep down or hidden-despaired: agony nudged at her again, and she knew that those papers would not have been so kind as to let her go: no, she had to confront; it was a gift of something...that would not irk her for the rest of eternity, and yet a curse of more pain. The choice of selfishness or selflessness, when both loosed their boundaries and came together. And that hurt. More than anything, that hurt-the scorch of disappointment; denial, anxiety, fear-there was too much of it. And yet, she did not want him dead. It had taken her time, so much time to realize that...but she did not wish death upon anyone, having seen too much of it as the clock ticked away-she had never wanted anyone to truly die. Gilbert Beilschmidt, though she hated him above all, was no exception. But in times such as now, when war tore the world apart-when history decided to twist itself about-when the nations crumbled-how could death not be a blessing?-at this point she could almost want them all to be dead. Roderich, Gilbert, Veneziano, Ludwig...and yet she would watch with relief on the day that each of them would pick themselves up, and charge into the distance with life. She hated war. She blinked rapidly, staring, always watching; though she ached, she let the next batter of coughing come to pass-shock, it overcame her then. Charging upward, body screaming in protest, she could only slap him with strength that came by habit, before wrapping both arms around him, wondering how and why in hell- \"Get off me, woman!\" he protested, attempting to flail; she saw now that the tin had been stripped away, or at least most of it, as she felt him, flesh and cloth and hair-from the unhealthy pallor of his skin, from the dried hard uniform, to the pinked and browned hair, silver still shining boldly beneath the blood. He was unusually warm-hot even-when she felt him; clearly the cold had been warded off, though his hands still felt like ice; remembering the documents found in Ludwig\"s office, she realized that it was fever. But his head-feeling about the neck, she knew it was there-desperately feeling, just to know how cruel death was, she felt it, finding no seam-with a thin cry of joy and pain she kissed it, squeezing him till he was strangled- \"You\"re alive,\" she breathed, even as garbled speech flew from his lips. She was going into spasms-this was too unreal! And yet it was. He was so, so solid. His eyes were ruby. No petty pink glaze upon the Kingdom of Prussia\"s gaze-no death frosting them over. Clinging to him, something told her that she would never let go-a stupid little piece of wishful thought, no doubt: never let go, how ridiculous; and yet she did not release him, as he calmed between her limbs, resigning with guilty pleasure, rigid with denial. She could not even loosen about him-there was nothing but the jail scene playing and replaying itself in her mind-letting their hands drop, parting, and then the sickening sound of the guillotine\"s strike. Water, red, pink, silver, white, black. The swastika rose over all, as if to mock... \"Where in Isten\"s name have you been?\" she muttered against his shoulder, before lifting her head away hastily; still, though, she did not let go; she wanted to savor it. As the vampire feasts on blood. The scent of metal clung to him. \"Get off,\" was the obstinate reply; she lifted her hand and slapped him again, not knowing what else to do. \"Ow!\" \"Where\"ve you been?\" she said again. \"You were supposed to be dead-\" \"Well, I\"m so freaking not-\" \"I saw your head!\" she said, voice reaching a higher octave. \"It was a fake!\" \"Impossible,\" she declared, eyes widening before she finished; it came to her, suddenly-the way it had fallen, the sudden hush of death, the blindfold of stars, the blood-she had seen it, touched it, waded in the water it buried itself in.... She had suffered with him at death. \"You were dead...,\" she whispered; it gave way to coughing, and he only watched as she did; held onto her and she held onto him. \"I heard the thud. If you were dead-\" He grunted. When she looked up, his eyes were a bitter red. \"The head was fake. They...held me down.\" Scowling, he looked away; admittance was ignominy. \"They held me down up there. There were lots of them, Hungary-scheiße, there was a lot of back-up that we didn\"t notice; I couldn\"t beat off all of them. And my gun ran out...\" His voice faded; still, his scowl deepened, and he finished to his own satisfaction. \"Their leader was fun to kill though.\" He laughed, cruelly, forcefully-he found no love for death, though he had seen enough of it to mind less. Elizaveta decided against shaking her head-it could only be true; she had known him for years, since they were incomplete nations, just children running about with swords of both wood and steel. Just as he had sifted out her identity from that of Elisabeth Wertheim\"s, it was with ease that she found that this man in front of her was real: as nations in human form, they were allowed the same detached senses as those immortal. Stupid, she scolded herself, knowing not to trust so easily; but it was what it was. She noticed the shards of tin still upon his flesh then-of course, he could not have been thrown out so easily-time was needed, so much time; some things did not change, but could. They trapped him. Shackled his person. Still not releasing-he was too real, too solid, to let go-she let the glimpses of his uniform and body form in her mind; she looked about, saw the blood, the bruises, the sickly pallor of his skin. Dread formed with it, in a way almost instinctive, be it Gilbert or not: \"What did they do to you.\" It was not a question-it was an exclamation, asking, wondering, but not questioning. The papers came to mind again. A pause-it was too long, in Elizaveta\"s mind. With a ferociousness that came at will, that sapped her meager strength as well as supplied it, she asked, this time, demanded, \"What did they do to you?\" He was biting his lips, not speaking; still, obstinately, she took him by the shoulders again, harder, saying, \"What did they do to you?\" The papers came to mind again...how Ludwig had admitted it, how Gilbert had been so emotionless for the past year.... A protectiveness that she had never felt before, for but Roderich and Veneziano, but never this man, emerged; it reared its head menacingly-some maternal side of her glared outwards, and she shook him. \"Tell me!\" He only bit his lips harder. \"Tell me, God damn it,\" she said. \"I found documents in Ludwig\"s office. Is it true...\" he looked at her \"...that, throughout the war....\" \"Ja,\" he said, finally; his tone shook at the slightest, but was steely at the same time. His eyes grew hard. Elizaveta had never seen him like this, before the war-so close to tiredness, so close to a sort of trauma; he spread trauma, he did not suffer from it. She had known him for so long, and yet finally.... Not noticing how hard she was holding onto him, as if to crush him, she leaned in with complete urgency, green pools of eyes reflecting the cracked image of Gilbert Beilschmidt. \"Russia...hurt my people. So much.\" He snorted softly, in disgust. \"And der Führer\"-derision-\"doesn\"t like me a lot.\" The line along his brows became harsh, harsher than they needed to be. \"My people aren\"t West\"s. They\"re different. And they don\"t like der fucking Führer. \"West didn\"t know; he only knew later, but they told him I was dead. He was pissed and everything; he lost my awesomeness after all.\" The grin curled along his chapped lips. There was no humor in it. \"I\"m just a small state now; I\"m the most freaking awesome state that existed, but I\"m still just a state. \"They experimented on me,\" he continued; Elizaveta could see the anger etched along his face, and she felt it too; she had suffered, though not as much, by the way it sounded-her Jews were still her people, no matter what the Germans said. She could never understand why others could do this to people.... \"Russia\"s people and West\"s people. They raped the women and killed the children.\" A shudder passed through him, in painful memory; again, Elizaveta noted his love as a nation for his people; Prussian, Crusader, Knight he may be, he still had people. \"Well, mostly Russia\"s. West\"s did too, but mostly they just did those experiments and sent them off to work.\" Another sour laugh. \"Hitler thought I wasn\"t really important later on-before that he just sat around glaring and all. I had to go to jail several times-they said I was encouraging sedition against him, and that\"s when it happened.\" \"They...\" Elizaveta spoke at last. \"Torture,\" he said, nodding coolly. \"Later Hitler started doing it outright-he thought that I wasn\"t good enough, and didn\"t deserve his shithole of a Reich. What a failure,\" he added darkly. She scowled at him, alarmed, angered, bewildered; \"Why didn\"t you tell Ludwig?\" \"And what would he have done?\" he answered cuttingly. \"Kicked him off and told the Allies and Jews that he was sorry?-West\"s a stubborn arschloch, and he loves his Führer so much.\" \"Oh Gilbert...,\" was all she could say, and she could only blink aside from that. \"Was?\" he snapped, silver locks bouncing. \"Is this why...\" \"Ja. Haven\"t you noticed that this Gott-forsaken war is tearing the world apart?\" \"I have,\" she said quietly, not protesting; his statement was horribly obvious. \"I don\"t think it\"d be easy to miss.\" Now it was her turn to smile, so she did; it was bitter as his, and the worn grinning soldiers were twins. She sucked in a breath before wheezing at the slightest; the image shattered. \"And,\" he added, though almost hastily, \"I\"ve always wanted to know\"-she looked at him, albeit with some anxiety for the topic-\"what in hell do you see in Roderich?\" She should\"ve slapped him. She should\"ve pummeled him into the ground. She should\"ve left him then and there. She should\"ve. She could\"ve. In the end she did not. She saw it coming. She knew it had to-it was bound to, heading her way; the circumstances catapulted them at her; the tension crackling in the air, like electricity powered it-I should have come sooner, but now...she had never been able to measure the distance from whence it came. Now it was laid before, and she wondered why this exchange had never occurred between them-they were too busy fighting. Hating each other. And she still hated him, but they had enough now, to ceasefire for the moment. Enough of what, she could not say. Roderich. How could she tell him...as she stared wistfully at Gilbert\"s crimson eyes, some part of her wished that she had never met him, nor Roderich-if only one should be nothing to her, she would be happy; he would be happy-no tumbling love, no turmoil with the blood split between them. If she had only grown up to be a boy after all; if only it would be when she was still the wild girl on the plains (not that she would ever miss Mongolia, Turkey, or having to carry a bow and arrows out with her from so young an age...), beating Roderich-Austria-back till he could not even move; even before Gilbert began to defend her land. But no. In the end she had met someone so kind, someone who had given her love in a hate-filled life; someone who gave her a second glance, and more, not in hostility or for the sake of land-he was fortunate Austria, who valued peace. Perfection did not exist-but to Elizaveta, he was the closest to achieving it; never had anyone been so positively unreal. She loved him. She could trust him. Gilbert had been hell-sent. He had made fun of all the trials of her life-hurt Roderich...was a barbarian who cared for none for himself; there was nothing but power, and all who even stumbled in his path were gleefully slaughtered. Studying his face now, she could see the years imprinted upon his face; the stupid boy, the hateful man, dishonorable dog he was. And yet-in the end, she had been proven wrong about his care: he loved Ludwig. His people. In some way, there were binds tying them together. If not loved, then cared for; in the end, he was proven to be human, if not a ruthless one. In the end, however...they were both merely tired nations, one about to drop dead; it was painful to think of. Had she fallen in love with this man? This man...who was merely one step away from even raping Roderich-she had thought it so when he came back speaking of lost Silesia, though she had been quick in recalling the pious side of her Prussian foe-could she have fallen in love? It was not impossible to love two-and it was only now that she thought it, thought hard. Unthinkable! she snapped. She proved herself wrong when she put their mouths together. \"Roderich is better than you,\" she hissed through their teeth; his lips were cold, pale, chapped; chapped and cold as hers. He was complying coolly, almost thoughtfully. \"You may have claimed my vital regions first\"-they smirked in unison-\"but my heart is still Austrian territory.\" She then muttered against his tongue all that she thought, of him, of Roderich-of Roderich\"s kindness and heaven-sent presence, of Gilbert\"s disgusting being. They were all true, they both knew; but hate and love were married in a balanced union: thus she hated him, and did not all at once.']}\n"
     ]
    }
   ],
   "source": [
    "# Display Ground Truth and Training Data for 1st row\n",
    "print(GroundTruthList[0])\n",
    "print(TrainingDataList[0])"
   ]
  },
  {
   "cell_type": "code",
   "execution_count": 6,
   "metadata": {},
   "outputs": [
    {
     "name": "stdout",
     "output_type": "stream",
     "text": [
      "52601\n",
      "52601\n"
     ]
    }
   ],
   "source": [
    "# Length of the lists containing in each list\n",
    "print(len(TrainingDataList))\n",
    "print(len(GroundTruthList))"
   ]
  },
  {
   "cell_type": "code",
   "execution_count": 9,
   "metadata": {},
   "outputs": [
    {
     "name": "stdout",
     "output_type": "stream",
     "text": [
      "DT: determiner\n",
      "    all an another any both del each either every half la many much nary\n",
      "    neither no some such that the them these this those\n"
     ]
    }
   ],
   "source": [
    "# Example to check the part os speech\n",
    "nltk.help.upenn_tagset('DT')"
   ]
  },
  {
   "cell_type": "markdown",
   "metadata": {},
   "source": [
    "# Processing of 1st and 2nd text of 1st list entry of TrainingDataList"
   ]
  },
  {
   "cell_type": "code",
   "execution_count": 48,
   "metadata": {},
   "outputs": [],
   "source": [
    "# Generating tags of all possible words in both texts\n",
    "text1_tagset=nltk.pos_tag(word_tokenize(TrainingDataList[0]['pair'][0]),tagset='universal')\n",
    "text2_tagset=nltk.pos_tag(word_tokenize(TrainingDataList[0]['pair'][1]),tagset='universal')"
   ]
  },
  {
   "cell_type": "code",
   "execution_count": 23,
   "metadata": {},
   "outputs": [],
   "source": [
    "# Changing the datatype to nltk.text\n",
    "text1=nltk.Text(word_tokenize(TrainingDataList[0]['pair'][0]))\n",
    "text2=nltk.Text(word_tokenize(TrainingDataList[0]['pair'][1]))"
   ]
  },
  {
   "cell_type": "code",
   "execution_count": 430,
   "metadata": {},
   "outputs": [
    {
     "name": "stdout",
     "output_type": "stream",
     "text": [
      "<Text: I shift a bit , warily letting my...>\n",
      "<Text: `` All will become one with Russia ,...>\n"
     ]
    }
   ],
   "source": [
    "# printing of texts\n",
    "print(text1)\n",
    "print(text2)"
   ]
  },
  {
   "cell_type": "code",
   "execution_count": 25,
   "metadata": {},
   "outputs": [
    {
     "data": {
      "text/plain": [
       "('but', 'CC')"
      ]
     },
     "execution_count": 25,
     "metadata": {},
     "output_type": "execute_result"
    }
   ],
   "source": [
    "tagged_token = nltk.tag.str2tuple('but/CC')\n",
    "tagged_token"
   ]
  },
  {
   "cell_type": "code",
   "execution_count": 433,
   "metadata": {},
   "outputs": [
    {
     "name": "stdout",
     "output_type": "stream",
     "text": [
      "owl s bottom back end words feathers branches memory thoughts general\n",
      "sake opening confinements beyond hum whisper horizon sheafs pursuit\n",
      "None\n",
      "teeth lips path\n",
      "None\n"
     ]
    }
   ],
   "source": [
    "# Words similar to eyes\n",
    "print(text1.similar('eyes'))\n",
    "print(text2.similar('eyes'))"
   ]
  },
  {
   "cell_type": "code",
   "execution_count": 44,
   "metadata": {},
   "outputs": [
    {
     "name": "stdout",
     "output_type": "stream",
     "text": [
      "Displaying 22 of 22 matches:\n",
      "I shift a bit , warily letting my eyes dart from one owl to the other -- bu\n",
      " from one owl to the other -- but my eyes are trained on the Barn Owl the most\n",
      "e Hoole ... He turns a bit , and our eyes meet directly . I can '' t describe \n",
      " awkward it seems . I stare into his eyes . They '' re like Hoole '' s ... The\n",
      "ike Hoole '' s ... They are Barn Owl eyes , but Hoole '' s eyes . They '' re h\n",
      "y are Barn Owl eyes , but Hoole '' s eyes . They '' re his eyes ... Hoole '' s\n",
      "but Hoole '' s eyes . They '' re his eyes ... Hoole '' s eyes ... They hold th\n",
      ". They '' re his eyes ... Hoole '' s eyes ... They hold that light of valor , \n",
      "I shoot up and stare into those kind eyes . I trust him to answer . `` Please \n",
      "s it with that sympathy shown in his eyes . `` It '' s been thousands of years\n",
      "s of the magnificent tree , her dark eyes gleaming as she looked into the holl\n",
      "Then she saw the hagsfiend , and her eyes widened in horror . I am the last ! \n",
      "uld just kill her as well -- but her eyes caught something , and her gizzard t\n",
      "nsciously , I stare at him with huge eyes that deserve to pop out of their soc\n",
      "owl . This owl , who stares with the eyes of a true king . A young king , but \n",
      "ok at Coryn , see the concern in his eyes ; he hesitates to step forward , wan\n",
      "lease , no ! `` Lutta ! '' he says , eyes flashing with some sort of fire that\n",
      "yn anymore . I see ... you . Hoole . Eyes , eyes that spoke of what you believ\n",
      "ore . I see ... you . Hoole . Eyes , eyes that spoke of what you believed in .\n",
      " He steps forward , that look in his eyes -- `` You deserve to be here ! You -\n",
      "es . '' A glint came to concentrated eyes . `` This is it . '' I look up . Con\n",
      "my leave . Good riddance , then . My eyes mist . When I shake my head to clear\n",
      "None\n",
      "Displaying 14 of 14 matches:\n",
      "ssion . No more oppression ... ! His eyes dropped ; his hand followed : with a\n",
      "s the royal purple billowed from his eyes : to top it all off , a dirty cream \n",
      "ked in a breath ; refused to let her eyes widen . The grin widened ; `` Just a\n",
      ". this . `` Fuck , '' she breathed , eyes shut against the world . The last so\n",
      "ld and old . She refused to open her eyes then . She had decided , some time a\n",
      "he moisture in the moss to flick her eyes open-it hurt : her eyes stung in whi\n",
      "to flick her eyes open-it hurt : her eyes stung in white with water , but she \n",
      "nally blink the fluids away from the eyes , so that they were a clear green ag\n",
      " it was . He was so , so solid . His eyes were ruby . No petty pink glaze upon\n",
      "'' `` Impossible , '' she declared , eyes widening before she finished ; it ca\n",
      "e grunted . When she looked up , his eyes were a bitter red . `` The head was \n",
      "ut was steely at the same time . His eyes grew hard . Elizaveta had never seen\n",
      "th complete urgency , green pools of eyes reflecting the cracked image of Gilb\n",
      "ed wistfully at Gilbert '' s crimson eyes , some part of her wished that she h\n",
      "None\n"
     ]
    }
   ],
   "source": [
    "# Finding the context words for the word eyes in both the texts\n",
    "print(text1.concordance('eyes'))\n",
    "print(text2.concordance('eyes'))"
   ]
  },
  {
   "cell_type": "code",
   "execution_count": 46,
   "metadata": {},
   "outputs": [
    {
     "name": "stdout",
     "output_type": "stream",
     "text": [
      "['Barn Owl', 'Love Never', 'Never Dying', 'twisted rag', 'Hoole Tree', 'like Hoole', 'phantom gizzard', 'Stop slapping', 'Please review', 'Great Gray', 'older Barn', 'Elf Owl', 'last book', 'upon years', 'years upon', 'back away', 'young Barn', 'time since', 'something ...', 'long time', 'Great Tree', 'dead owl', 'sorry Hoole', 'see Coryn', 'Hoole ...', 'loved ...', 'hurt ...', '... Hoole', '... something', 'nothing ...', 'eyes ...']\n",
      "['pressure increased', 'held onto', 'Gilbert Beilschmidt', 'one step', 'papers came', 'head away', 'could see', 'said something', 'much time', 'never let', 'would never', 'could almost', 'dead ...', 'Roderich ...', '... Elizaveta']\n"
     ]
    }
   ],
   "source": [
    "# Find the collocation list for both the texts\n",
    "print(text1.collocation_list(50))\n",
    "print(text2.collocation_list(50))"
   ]
  },
  {
   "cell_type": "code",
   "execution_count": 435,
   "metadata": {},
   "outputs": [
    {
     "name": "stdout",
     "output_type": "stream",
     "text": [
      "[('.', 1237), ('NOUN', 989), ('VERB', 884), ('PRON', 676), ('DET', 360), ('ADP', 360), ('ADV', 314), ('ADJ', 205), ('CONJ', 126), ('PRT', 112), ('X', 19), ('NUM', 15)]\n",
      "[('.', 903), ('VERB', 870), ('NOUN', 818), ('PRON', 553), ('ADP', 406), ('ADV', 341), ('DET', 337), ('ADJ', 279), ('CONJ', 126), ('PRT', 102), ('NUM', 10), ('X', 2)]\n"
     ]
    }
   ],
   "source": [
    "# Frequency distribution of words in text1 and text 2\n",
    "text1_tag_fd = nltk.FreqDist(tag for (word, tag) in text1_tagset)\n",
    "text2_tag_fd = nltk.FreqDist(tag for (word, tag) in text2_tagset)\n",
    "print(text1_tag_fd.most_common())\n",
    "print(text2_tag_fd.most_common())"
   ]
  },
  {
   "cell_type": "code",
   "execution_count": 54,
   "metadata": {},
   "outputs": [
    {
     "data": {
      "image/png": "[encoded data removed]",
      "text/plain": [
       "<Figure size 432x288 with 1 Axes>"
      ]
     },
     "metadata": {
      "needs_background": "light"
     },
     "output_type": "display_data"
    },
    {
     "data": {
      "text/plain": [
       "<matplotlib.axes._subplots.AxesSubplot at 0x1c7294b7ef0>"
      ]
     },
     "execution_count": 54,
     "metadata": {},
     "output_type": "execute_result"
    }
   ],
   "source": [
    "# Plotting freqency distribution table for text1\n",
    "text1_tag_fd.plot()"
   ]
  },
  {
   "cell_type": "code",
   "execution_count": 55,
   "metadata": {},
   "outputs": [
    {
     "data": {
      "image/png": "[encoded data removed]",
      "text/plain": [
       "<Figure size 432x288 with 1 Axes>"
      ]
     },
     "metadata": {
      "needs_background": "light"
     },
     "output_type": "display_data"
    },
    {
     "data": {
      "text/plain": [
       "<matplotlib.axes._subplots.AxesSubplot at 0x1c72958a470>"
      ]
     },
     "execution_count": 55,
     "metadata": {},
     "output_type": "execute_result"
    }
   ],
   "source": [
    "# Plotting freqency distribution table for text2\n",
    "text2_tag_fd.plot()"
   ]
  },
  {
   "cell_type": "code",
   "execution_count": 437,
   "metadata": {},
   "outputs": [
    {
     "name": "stdout",
     "output_type": "stream",
     "text": [
      "['was', 'is', 'be', 'can', 'am', 'have', 'don', 'will', 's', 'are', 'could', 'had', 'want', 'see', 'been', 'look', 'left']\n"
     ]
    }
   ],
   "source": [
    "# Finding most common verbs in first 100 most common words\n",
    "text1_word_tag_fd = nltk.FreqDist(text1_tagset)\n",
    "print([wt[0] for (wt, _) in text1_word_tag_fd.most_common(100) if wt[1] == 'VERB'])"
   ]
  },
  {
   "cell_type": "code",
   "execution_count": 438,
   "metadata": {},
   "outputs": [
    {
     "name": "stdout",
     "output_type": "stream",
     "text": [
      "['Hoole', 't', 'eyes', 'Coryn', 's', 'nothing', 'Lutta', 'm', 'owl', 'gizzard', 'Owl', 'Tree', 'something', 'time', 'tree', 'Barn']\n"
     ]
    }
   ],
   "source": [
    "# Finding most common nouns in first 100 most common words\n",
    "print([wt[0] for (wt, _) in text1_word_tag_fd.most_common(100) if wt[1] == 'NOUN'])"
   ]
  },
  {
   "cell_type": "code",
   "execution_count": 66,
   "metadata": {},
   "outputs": [],
   "source": [
    "# Conditional frequency distribution for text1 tagset\n",
    "text1_cfd = nltk.ConditionalFreqDist(text1_tagset)"
   ]
  },
  {
   "cell_type": "code",
   "execution_count": 73,
   "metadata": {},
   "outputs": [
    {
     "data": {
      "text/plain": [
       "[('NOUN', 2)]"
      ]
     },
     "execution_count": 73,
     "metadata": {},
     "output_type": "execute_result"
    }
   ],
   "source": [
    "# Conditional Frequency distribution of most common tags used for word 'FlamingSerpent' \n",
    "text1_cfd['FlamingSerpent'].most_common()"
   ]
  },
  {
   "cell_type": "code",
   "execution_count": 75,
   "metadata": {},
   "outputs": [
    {
     "name": "stdout",
     "output_type": "stream",
     "text": [
      "               NOUN \n",
      "FlamingSerpent    2 \n"
     ]
    }
   ],
   "source": [
    "# Conditional Frequency distribution table with condition='FlamingSerpent' and samples='NOUN'\n",
    "text1_cfd.tabulate(conditions=['FlamingSerpent'],samples=['NOUN'])"
   ]
  },
  {
   "cell_type": "code",
   "execution_count": 80,
   "metadata": {},
   "outputs": [
    {
     "name": "stdout",
     "output_type": "stream",
     "text": [
      "['bit', 'eyes', 'owl', 'Barn', 'Owl', 'Hoole', 'describe', 'moment', 's', 'light', 'valor', 'justice', 'glow', 'gizzard', 'twitch', 'bottom', 'heart', 'Emerilla', 'nothing', 'kind', 'something', 'Kreeth', 'Mum', 'Da', 'Ygryk', 'Pleek', 'parents', 'chick', 'Lutta', 'back', 'freak', 'end', 't', 'one', 'Him', 'kindness', 'gaze', 'monster', 'person', 'weapon', 'auntie', 'fake', 'love', 'didn', 'm', 'thought', 'Please', 'question', 'tongue', 'talons', 'clench', 'name', 'pang', 'enters', 'Sympathy', 'Sweet', 'words', 'please', 'Listen', 'Everyone', 'Great', 'Gray', 'voice', 'time', 'Elf', 'frowns', 'quick', 'nudge', 'Words', 'beak', 'legends', 're', 'Ga', 'Tree', 'finishes', 'thousands', 'years', 'events', 'throat', 'Coryn', 'gesture', 'king', 'uncle', 'Soren', 'Gylfie', 'Twilight', 'Digger', 'Burrowing', 'friends', 'Band', 'information', 'seep', 'Thousands', 'GIZZARD', 'Dismay', 'body', 'll', 'second', 'Adrenline', 'floods', 'gref', 'blow', 'head', 'Pain', 'pain', 'tracks', 'Talons', 'vision', 'spins', 'seams', 'Torn', 'feathers', 'lump', 'darkness', 'claws', 'lurches', 'Just', 'imposter', 'start', 'blood', 'deception', 'hagsfiend', 'Anger', 'rage', 'feelings', 'tears', 'someone', 'Hey', 'Are', 'mind', 'movement', 'wings', 'branches', 'tree', 'hollow', 'sillhouette', 'skies', 'inhabitants', 'son', 'pure', 'softness', 'How', 'everything', 'months', 'ember', 'swoop', 'mate', 'soul', 'revenge', 'owls', 'anyone', 'bonus', 'horror', 'No', 'observe', 'use', 'Sadistic', 'impulse', 'shot', 'Nyra', 'gleam', 'eye', 'Nyroc', 'wait', 'night', 'sky', 'enjoy', 'holes', 'story', 'Though', 'suspense', 'review', 'Nothing', 'Love', 'Never', 'Dying', 'PT', 'THANKS', 'SO', 'MUCH', 'READING', 'EVERYONE', 'Enjoy', 'book', 've', 'courtesy', 'fic', 'way', 'O.o', 'Anyways', 'stories', 'GoGH', 'fandom', 'fics', 'hubris', 'don', 'contribute', 'angst', 'D', 'Anani', 'Mouse', 'Thank', 'swells-', 'Frosted', 'Fate', 'Yeah', 'Populace', 'Oh', 'Hi', 'FlamingSerpent', 'Thanks', 'x', 'True', 'plot', 'things', 'glad', 'eager', 'Lara-Van', 'My', 'd', 'change', 'positions', 'bile', 'Theirs', 'power', 'Stop', 'Slap', 'wing', 'WAKE', 'UP', 'eyelids', 'fine', 'surroundings', 'case', 'instant', 'Strix', 'Strumajen', 'memory', 'Ripping', 'Death', 'Well', 'remember', 'cluster', 'memories', 'death', 'Falling', 'winds', 'nature', 'downwards', 'curse', 'Hagsmire', 'ones', 'lives', 'damnation', 'hagsfiends', 'Nothings', 'world', 'life', 'realm', 'agony', 'curses', 'hate', 'flaws', 'decide', 'nothings', 'Snap', 'sockets', 'look', 'tender', 'Can', 'work', 'room', 'position', 'upwards', 'searing', 'Fall', 'fall', 'wise', 'difficulty', 'nest', 'bark', 'thoughts', 'days', 'thing', 'legs', 'fire', 'Deception', 'concern', 'faster', 'Silence', 'hitches', 'explodes', 'Th', 'belong', 'disgrace', 'presence', 'sort', 'exit', 'deserve', 'rumor', 'sorrow', 'goodness', 'jumps', 'Eyes', 'spoke', 'sense', 'fiery', 'indiscrimation', 'backwards', 'Don', 'throbs', 'cold', 'DON', 'T', 'DESERVE', 'TO', 'BE', 'HERE', 'NOT', 'BELONG', 'jerk', 'fills', 'pebbles', 'Hate', 'Fill', '-Shot-', 'advantage', 'school', 'JROTC', 'program', 'drill', 'team', 'members', 'month', 'practice', 'notice', 'energy', 'writing', 'nostalgia', 'PokemonKnight', 'Yes', 'isn', 'talent', 'thanks', '^^', 'Hopefully', 'SamPD', 'Mmhm', 'Crazydragonlord', 'you~', 'n_n', 'Move', 'Again', 'Step', 'parchment', 'claw', 'ancient', 'Kraakish', 'general', 'Pure', 'Ones', 'glee', 'success', 'sake', 'sanity', 'encouragement', 'Success', 'Nearing', 'Bit', 'glint', 'Consciousness', 'steadiness', 'Hell', 'aches', 'hurts', 'pinches', 'rag', 'ice', 'flight', 'course', 't.', 'phantom', 'speaks', 'jolt', 'alarm', 'Kind', 'reality', 'player', 'game', 'actor', 'grief', 'peace', 'opening', 'lichen', 'Pretty', 'air', 'seeps', 'fibers', 'Cool', 'expanse', 'Shall', 'reason', 'home', 'silent', 'feet', 'shift', 'Truly', 'state', 'mess', 'Release', 'earth', 'limitless', 'confinements', 'land', 'danger', 'fact', 'pause', 'journey', 'hum', 'silence', 'cadence', 'line', 'retake', 'leave', 'riddance', 'mist', 'fog', 'whisper', 'wind', 'shake', 'brush', 'farewell', 'pity', 'sensation', 'plumage', 'chest', 'shapeshifter', 'candle', 'throes', 'existence', 'Died', 'rise', 'breathing', 'attempts', 'sheer', 'closeness', 'impossibility', 'legend', 'food', 'horizon', 'logical', 'Was', 'illusion', 'sheafs', 'paper', 'pursuit', 'happenings', 'nachtmagen', 'possibility', 'yellow', 'craft', 'anything', 'enigma', 'anagrams', 'matters', 'branch', 'urging', 'pool', 'bang', 'raccdrops', 'cursing', 'whirlwind', 'flutter', 'relative', 'heap', 'fear', 'wonder']\n"
     ]
    }
   ],
   "source": [
    "# Reversing condions and samples for text1 tagest\n",
    "text1_cfd_new = nltk.ConditionalFreqDist((tag, word) for (word, tag) in text1_tagset)\n",
    "print(list(text1_cfd_new['NOUN']))"
   ]
  },
  {
   "cell_type": "code",
   "execution_count": 86,
   "metadata": {},
   "outputs": [
    {
     "data": {
      "text/plain": [
       "42"
      ]
     },
     "execution_count": 86,
     "metadata": {},
     "output_type": "execute_result"
    }
   ],
   "source": [
    "# Finding the words which were used both as noun and verbs\n",
    "text1_Noun_Verb=[w for w in text1_cfd.conditions() if 'NOUN' in text1_cfd[w] and 'VERB' in text1_cfd[w]]\n",
    "len(text1_Noun_Verb)"
   ]
  },
  {
   "cell_type": "code",
   "execution_count": 87,
   "metadata": {},
   "outputs": [
    {
     "name": "stdout",
     "output_type": "stream",
     "text": [
      "['shift', 't', 'don', 'look', 're', 's', 'belong', 'freak', 'didn', 'love', 'm', 'wonder', 'thought', 'please', 'jumps', 'speaks', 'change', 'll', 'hate', 'blow', 'fall', 'd', 'mind', 'owls', 'use', 'shot', 'PT', 'leave', 'Stop', 'remember', 'Falling', 'breathing', 'deserve', 'Can', 'work', 't.', 'pause', 'spoke', 'notice', 'aches', 'fear', 'shake']\n"
     ]
    }
   ],
   "source": [
    "# Displaying the words which were used both as noun and verbs\n",
    "print(text1_Noun_Verb)"
   ]
  },
  {
   "cell_type": "code",
   "execution_count": 88,
   "metadata": {},
   "outputs": [],
   "source": [
    "# Function which find 5 most commonly used part of speech with input as tag_pre and tagged_text\n",
    "def findtags(tag_prefix, tagged_text):\n",
    "    cfd = nltk.ConditionalFreqDist((tag, word) for (word, tag) in tagged_text\n",
    "                                  if tag.startswith(tag_prefix))\n",
    "    return dict((tag, cfd[tag].most_common(5)) for tag in cfd.conditions())\n",
    "tagdict = findtags('NOUN', text1_tagset)"
   ]
  },
  {
   "cell_type": "code",
   "execution_count": 90,
   "metadata": {},
   "outputs": [
    {
     "name": "stdout",
     "output_type": "stream",
     "text": [
      "{'VERB': [('was', 49), ('is', 33), ('be', 27), ('can', 26), ('am', 24)]}\n"
     ]
    }
   ],
   "source": [
    "# Function which find 5 most commonly used part of speech with input as tag_pre and tagged_text\n",
    "print(findtags('VERB', text1_tagset))"
   ]
  },
  {
   "cell_type": "code",
   "execution_count": 95,
   "metadata": {},
   "outputs": [
    {
     "name": "stdout",
     "output_type": "stream",
     "text": [
      "[',', '...', 'beyond', 'even', 'that', 'to', 'was']\n"
     ]
    }
   ],
   "source": [
    "# All the words which comes after something as something in 1st word in bigram\n",
    "print(sorted(set(b for (a, b) in nltk.bigrams(text1) if a == 'something')))"
   ]
  },
  {
   "cell_type": "code",
   "execution_count": 100,
   "metadata": {},
   "outputs": [
    {
     "name": "stdout",
     "output_type": "stream",
     "text": [
      "Displaying 14 of 14 matches:\n",
      "s so fair , so kind ... he gave me something even Kreeth could not . Mum and Da\n",
      "er ! `` I knew from the start that something was not right about her . A blood \n",
      "her as well -- but her eyes caught something , and her gizzard twitched . No ..\n",
      "kind . Perhaps they saw through to something ... But that '' s reality , is it \n",
      "ly , for the peace . This tree has something ... something ... that revives Hoo\n",
      "eace . This tree has something ... something ... that revives Hoole '' s life .\n",
      ". Though fire was life , it needed something to last . Something that helped it\n",
      "fe , it needed something to last . Something that helped it , hurled it onward \n",
      "e an illusion ? -- if so , she was something beyond illusion ... she was too pe\n",
      "sion ... she was too perfect to be something to be called a mere illusion . Cor\n",
      " had left Lutta for the pursuit of something ... something that could shed its \n",
      "a for the pursuit of something ... something that could shed its light upon the\n",
      "e him . `` What '' s happened ? '' Something shot through his gizzard . Soren s\n",
      " She '' s gone ! '' Another shot . Something like cold fear and wonder . `` She\n"
     ]
    }
   ],
   "source": [
    "# All context words for word 'something'\n",
    "text1.concordance('something')"
   ]
  },
  {
   "cell_type": "code",
   "execution_count": 101,
   "metadata": {},
   "outputs": [
    {
     "name": "stdout",
     "output_type": "stream",
     "text": [
      "   .  PRT  ADV VERB  ADP  DET \n",
      "   5    2    1    1    1    1 \n"
     ]
    }
   ],
   "source": [
    "# The freqency distribution for tags of all possible words thats comes after 'something' in bigram of text1\n",
    "tags = [b[1] for (a, b) in nltk.bigrams(text1_tagset) if a[0] == 'something']\n",
    "fd = nltk.FreqDist(tags)\n",
    "fd.tabulate()"
   ]
  },
  {
   "cell_type": "code",
   "execution_count": 447,
   "metadata": {},
   "outputs": [],
   "source": [
    " # Searching for Three-Word Phrases Using POS Tags with trigrams with 1st and 3rd words starts with V and middle word 'TO'\n",
    " def process(sentence):\n",
    "     for (w1,t1), (w2,t2), (w3,t3) in nltk.trigrams(sentence): # [_three-word]\n",
    "         if (t1.startswith('V') and t2 == 'TO' and t3.startswith('V')): # [_verb-to-verb]\n",
    "             print(w1, w2, w3,end=', ') # [_print-words]"
   ]
  },
  {
   "cell_type": "code",
   "execution_count": 448,
   "metadata": {},
   "outputs": [
    {
     "data": {
      "text/plain": [
       "504"
      ]
     },
     "execution_count": 448,
     "metadata": {},
     "output_type": "execute_result"
    }
   ],
   "source": [
    "# Tokenisation into sentences\n",
    "# https://subscription.packtpub.com/book/application_development/9781782167853/1/ch01lvl1sec09/tokenizing-text-into-sentences\n",
    "from nltk.tokenize import sent_tokenize\n",
    "len(sent_tokenize(TrainingDataList[0]['pair'][0]))"
   ]
  },
  {
   "cell_type": "code",
   "execution_count": 449,
   "metadata": {},
   "outputs": [
    {
     "name": "stdout",
     "output_type": "stream",
     "text": [
      "pretending to be, wanted to belong, supposed to be, supposed to be, determined to go, want to scream, want to scream, want to scream, had to kill, pretended to be, going to die, want to shed, have to kill, plotting to do, planning to leave, want to think, want to remember, deserve to pop, have to give, try to remember, wanting to give, hesitates to step, wanting to help, deserve to be, hope to update, need to update, had to stop, confirmed to work, seemed to be, disgusted to act, turn to face, manage to walk, "
     ]
    }
   ],
   "source": [
    "# Generating 3 word phases by calling process()\n",
    "for item in sent_tokenize(TrainingDataList[0]['pair'][0]):\n",
    "    process(nltk.pos_tag(word_tokenize(item)))"
   ]
  },
  {
   "cell_type": "code",
   "execution_count": 239,
   "metadata": {},
   "outputs": [],
   "source": [
    "# Conditional Frequency distribution with words as conditions and tag as samples\n",
    "data = nltk.ConditionalFreqDist((word.lower(), tag)\n",
    "    for (word, tag) in text1_tagset)"
   ]
  },
  {
   "cell_type": "code",
   "execution_count": 243,
   "metadata": {},
   "outputs": [
    {
     "name": "stdout",
     "output_type": "stream",
     "text": [
      "[('NOUN', 5), ('VERB', 6)]\n"
     ]
    }
   ],
   "source": [
    "# Conditional Frequency distribution with words = 'deserve'\n",
    "print(sorted(data['deserve'].most_common()))"
   ]
  },
  {
   "cell_type": "code",
   "execution_count": 242,
   "metadata": {},
   "outputs": [
    {
     "data": {
      "text/plain": [
       "2"
      ]
     },
     "execution_count": 242,
     "metadata": {},
     "output_type": "execute_result"
    }
   ],
   "source": [
    "len(data['deserve'])"
   ]
  },
  {
   "cell_type": "code",
   "execution_count": 244,
   "metadata": {},
   "outputs": [
    {
     "name": "stdout",
     "output_type": "stream",
     "text": [
      "['!', \"''\", ')', ',', '--', '-bows-', '-head', '-looks', '-shot-', '-shrugs-', '-sobs-', '.', '...', ':', ';', '?', '^^', '``', 'a', 'able', 'about', 'accept', 'aches', 'acknowledged', 'across', 'act', 'actor', 'adds', 'adoring', 'adrenline', 'advantage', 'after', 'again', 'against', 'ago', 'agony', 'aid', 'air', 'alarm', 'alive', 'all', 'allowed', 'along', 'already', 'always', 'am', 'among', 'an', 'anagrams', 'anani', 'ancient', 'and', 'anger', 'angst', 'another', 'answer', 'any', 'anymore', 'anyone', 'anything', 'anyways', 'apart', 'appreciate', 'are', 'around', 'as', 'ask', 'at', 'attempts', 'auntie', 'away', 'awkward', 'back', 'backward', 'backwards', 'bad', 'badly', 'band', 'bang', 'bark', 'barn', 'be', 'beak', 'beating', 'because', 'become', 'becomes', 'becoming', 'been', 'before', 'begin', 'beginning', 'behind', 'being', 'believe', 'believed', 'belong', 'best', 'better', 'beyond', 'bile', 'bit', 'black', 'blood', 'blow', 'body', 'bonus', 'book', 'booming', 'born', 'bother', 'bottom', 'boundless', 'branch', 'branched', 'branches', 'breathe', 'breathing', 'brings', 'broken', 'brought', 'brown', 'brush', 'bubbling', 'burrowing', 'but', 'by', 'cadence', 'called', 'came', 'can', 'cancelled', 'candle', 'care', 'cared', 'carefully', 'caresses', 'case', 'caught', 'change', 'cheered', 'cherishing', 'chest', 'chick', 'choke', 'choked', 'claw', 'claws', 'clear', 'clearly', 'clears', 'clench', 'close', 'closeness', 'cluster', 'cold', 'come', 'comes', 'comforting', 'completed', 'concentrated', 'concern', 'confess', 'confidant', 'confinements', 'confirmed', 'consciousness', 'continues', 'continuing', 'contribute', 'cool', 'coryn', 'could', 'course', 'courtesy', 'cracks', 'craft', 'crazydragonlord', 'created', 'curse', 'curses', 'cursing', 'd', 'da', 'damnation', 'damned', 'danger', 'dark', 'darkness', 'dart', 'days', 'dead', 'dear', 'death', 'deceived', 'deception', 'decide', 'defiling', 'definitely', 'describe', 'deserve', 'desperate', 'despite', 'determined', 'devour', 'did', 'didn', 'die', 'died', 'dies', 'difficulty', 'digger', 'digging', 'directly', 'dirtying', 'disgrace', 'disgraceful', 'disgusted', 'dismay', 'displeased', 'disturb', 'dived', 'do', 'don', 'down', 'downwards', 'drifting', 'drill', 'dying', 'eager', 'earth', 'easily', 'easy', 'elf', 'else', 'ember', 'emerilla', 'empty', 'encouragement', 'end', 'ended', 'endless', 'energy', 'enexpected', 'enigma', 'enjoy', 'enough', 'entered', 'enters', 'eternal', 'even', 'events', 'everyone', 'everything', 'everywhere', 'exact', 'except', 'existence', 'exit', 'expanse', 'expect', 'explain', 'explodes', 'eye', 'eyed', 'eyelids', 'eyes', 'face', 'faces', 'fact', 'faded', 'fair', 'fake', 'fall', 'falling', 'fandom', 'farewell', 'faster', 'fate', 'fear', 'feathers', 'feel', 'feeling', 'feelings', 'feels', 'feet', 'few', 'fibers', 'fic', 'fics', 'fiery', 'fill', 'fills', 'final', 'find', 'fine', 'finished', 'finishes', 'finishing', 'fire', 'firmly', 'first', 'flamingserpent', 'flashing', 'flat', 'flattered', 'flaws', 'fleshy', 'flick', 'flies', 'flight', 'floating', 'floods', 'flowing', 'flush', 'flutter', 'fluttering', 'fly', 'flying', 'fog', 'followed', 'food', 'fool', 'for', 'forget', 'forward', 'found', 'four', 'freak', 'fresh', 'friends', 'from', 'frosted', 'frowns', 'funny', 'further', 'ga', 'gain', 'game', 'gave', 'gaze', 'general', 'gesture', 'get', 'give', 'gives', 'gizzard', 'glad', 'glanced', 'gleam', 'gleaming', 'glee', 'glint', 'glow', 'go', 'gogh', 'going', 'gone', 'good', 'goodness', 'grab', 'gray', 'great', 'greedily', 'greeting', 'gref', 'grief', 'grow', 'grown', 'guard', 'gylfie', 'had', 'hagsfiend', 'hagsfiends', 'hagsmire', 'half', 'half-hags', 'happened', 'happenings', 'hard', 'has', 'hate', 'have', 'hawkrain', 'he', 'head', 'heap', 'heart', 'hell', 'help', 'helped', 'her', 'here', 'herself', 'hesitates', 'hey', 'hi', 'high', 'him', 'his', 'hitches', 'hold', 'holes', 'hollow', 'home', 'hoole', 'hop', 'hope', 'hopefully', 'horizon', 'horror', 'hot', 'how', 'however', 'hubris', 'huge', 'hum', 'hurled', 'hurt', 'hurts', 'i', 'ice', 'idiot', 'if', 'illogical', 'illusion', 'immediately', 'important', 'impossibility', 'imposter', 'impressive', 'impulse', 'in', 'including', 'indiscrimation', 'information', 'inhabitants', 'inherited', 'instant', 'into', 'irrevocably', 'is', 'isn', 'it', 'its', 'itself', 'jerk', 'joined', 'jolt', 'journey', 'jrotc', 'jump', 'jumped', 'jumps', 'just', 'justice', 'kill', 'killed', 'kills', 'kind', 'kindly', 'kindness', 'king', 'knew', 'know', 'knows', 'kraakish', 'kreeth', 'laid', 'land', 'lara-van', 'last', 'least', 'leave', 'leaves', 'left', 'legend', 'legends', 'legs', 'let', 'letting', 'lichen', 'lie', 'lied', 'life', 'light', 'like', 'liking', 'limitless', 'line', 'listen', 'literally', 'little', 'lives', 'll', 'lo', 'loathed', 'logical', 'long', 'look', 'looked', 'looking', 'looks', 'lose', 'losing', 'loud', 'loudly', 'love', 'loved', 'lucky', 'lump', 'lurches', 'lush', 'lutta', 'lying', 'm', 'made', 'magnificent', 'make', 'manage', 'many', 'mate', 'matters', 'me', 'mean', 'meet', 'members', 'memories', 'memory', 'mere', 'merely', 'mess', 'might', 'mind', 'miserable', 'mist', 'mmhm', 'moment', 'monster', 'month', 'months', 'more', 'most', 'mouse', 'move', 'movement', 'much', 'mum', 'mused', 'must', 'my', 'myself', 'n_n', 'nachtmagen', 'name', 'nature', 'near', 'nearing', 'nearly', 'need', 'needed', 'neglecting', 'nest', 'never', 'newfound', 'next', 'night', 'nighttime', 'no', 'nod', 'nods', 'nor', 'normally', 'nostalgia', 'not', 'nothing', 'nothings', 'notice', 'noticed', 'now', 'nudge', 'numbing', 'nyra', 'nyroc', 'o.o', 'observe', 'of', 'off', 'often', 'oh', 'old', 'older', 'on', 'once', 'one', 'ones', 'only', 'onward', 'open', 'opening', 'or', 'other', 'our', 'out', 'outside', 'over', 'overly', 'owl', 'owls', 'own', 'pain', 'pained', 'painful', 'pang', 'paper', 'paranoid', 'parchment', 'parents', 'past', 'pathetic', 'pause', 'peace', 'pebbles', 'perfect', 'performed', 'perhaps', 'person', 'phantom', 'pinches', 'pity', 'planning', 'player', 'pleading', 'please', 'pleek', 'plot', 'plotting', 'plumage', 'pointed', 'pokemonknight', 'pool', 'poor', 'pop', 'populace', 'position', 'positions', 'possibility', 'possible', 'power', 'practice', 'presence', 'pretended', 'pretending', 'pretty', 'prickling', 'probably', 'program', 'prove', 'pt', 'pure', 'pursuing', 'pursuit', 'push', 'put', 'question', 'quick', 'quickly', 'quieted', 'quietly', 'quiver', 'quivering', 'raccdrops', 'rag', 'rage', 'raise', 'rather', 're', 'read', 'reading', 'ready', 'real', 'reality', 'really', 'realm', 'reason', 'red', 'reeling', 'reigned', 'relative', 'release', 'remember', 'remembering', 'reminds', 'replied', 'reprimands', 'reside', 'rest', 'restored', 'retake', 'returned', 'revenge', 'review', 'reviewing', 'revives', 'riddance', 'right', 'ripped', 'ripping', 'rise', 'room', 'rot', 'ruffled', 'rumor', 'rushed', 'rushes', 'rustling', 's', 'sad', 'saddening', 'sadistic', 'said', 'sake', 'same', 'sampd', 'sanity', 'sank', 'saps', 'saw', 'say', 'says', 'scan', 'school', 'scratching', 'scrawled', 'scream', 'seams', 'searing', 'second', 'see', 'seeing', 'seeking', 'seemed', 'seems', 'seep', 'seeping', 'seeps', 'sends', 'sensation', 'sense', 'shake', 'shaking', 'shall', 'shapeshifter', 'she', 'sheafs', 'shed', 'sheer', 'shift', 'shifted', 'shoot', 'shot', 'should', 'shouldn', 'shown', 'shriek', 'shudder', 'silence', 'silent', 'silently', 'sillhouette', 'silver-gray', 'silverrosetail', 'since', 'sink', 'sinned', 'skies', 'sky', 'slam', 'slap', 'slapping', 'slashing', 'slightly', 'small', 'snap', 'snatch', 'snatched', 'so', 'sockets', 'softly', 'softness', 'some', 'someone', 'something', 'somewhere', 'son', 'soon', 'soren', 'sorrow', 'sorry', 'sort', 'soul', 'speaks', 'spinning', 'spins', 'splutter', 'spoil', 'spoke', 'spread', 'spreads', 'squinting', 'stagger', 'stand', 'stare', 'stared', 'stares', 'start', 'started', 'state', 'stay', 'steadiness', 'step', 'steps', 'stiffen', 'still', 'stings', 'stop', 'stopping', 'stories', 'story', 'strange', 'stride', 'strix', 'strumajen', 'stuck', 'stumble', 'stunned', 'stupefied', 'stupid', 'stuttering', 'success', 'such', 'suddenly', 'supposed', 'sure', 'surroundings', 'suspense', 'sweet', 'swells-', 'swoop', 'swooped', 'sympathic', 'sympathy', 't', 't.', 'taint', 'take', 'taking', 'talent', 'talked', 'talons', 'taste', 'team', 'tearing', 'tears', 'tell', 'tender', 'th', 'thank', 'thanks', 'that', 'the', 'their', 'theirs', 'them', 'then', 'there', 'they', 'thing', 'things', 'think', 'thinking', 'this', 'those', 'though', 'thought', 'thoughts', 'thousands', 'three', 'throat', 'throbs', 'throes', 'through', 'till', 'time', 'to', 'told', 'tongue', 'too', 'took', 'torn', 'tracks', 'trained', 'transfixed', 'translate', 'tree', 'tricked', 'tried', 'true', 'truly', 'trust', 'try', 'trying', 'tumble', 'turn', 'turned', 'turns', 'twilight', 'twist', 'twisted', 'twitch', 'twitched', 'ugly', 'uncle', 'unconsciously', 'underneath', 'understand', 'undignified', 'undoubtedly', 'unexpected', 'unfamiliar', 'unfold', 'unraveling', 'until', 'up', 'update', 'upon', 'upwards', 'urging', 'use', 'used', 'uses', 'uttered', 'valor', 've', 'veiled', 'very', 'vision', 'voice', 'wailed', 'wait', 'wake', 'walk', 'wander', 'want', 'wanted', 'wanting', 'warily', 'warning', 'was', 'watched', 'way', 'we', 'weapon', 'well', 'went', 'were', 'wetly', 'what', 'whatever', 'when', 'where', 'while', 'whirlwind', 'whisper', 'who', 'whole', 'why', 'wide', 'widened', 'will', 'wind', 'window-', 'winds', 'wing', 'wings', 'wise', 'wish', 'with', 'withered', 'within', 'without', 'won', 'wonder', 'wonderful', 'words', 'work', 'working', 'world', 'would', 'writing', 'written', 'wrong', 'x', 'xd', 'yeah', 'years', 'yellow', 'yes', 'yet', 'ygryk', 'you', 'young', 'your', 'you~']\n"
     ]
    }
   ],
   "source": [
    "# All possible data in sorted manner\n",
    "print(sorted(data))"
   ]
  },
  {
   "cell_type": "code",
   "execution_count": 246,
   "metadata": {},
   "outputs": [
    {
     "name": "stdout",
     "output_type": "stream",
     "text": [
      "d NOUN VERB ADJ\n",
      "freak NOUN ADJ VERB\n",
      "ll NOUN VERB ADJ\n",
      "love NOUN VERB ADP\n",
      "lutta NOUN X ADJ\n",
      "much ADJ NOUN ADV\n",
      "no DET X NOUN\n",
      "oh X NOUN VERB\n",
      "re VERB NOUN ADJ\n",
      "right ADV ADJ VERB\n",
      "s NOUN VERB ADJ\n",
      "so ADV ADP NOUN\n",
      "t NOUN VERB ADJ ADV\n",
      "though ADP NOUN ADV\n",
      "truly VERB NOUN ADV\n",
      "up PRT ADV NOUN\n"
     ]
    }
   ],
   "source": [
    "# Words which has number of tags used is greater than 2 \n",
    "for word in sorted(data.conditions()):\n",
    "    if len(data[word]) > 2:\n",
    "        tags = [tag for (tag, _) in data[word].most_common()]\n",
    "        print(word, ' '.join(tags))"
   ]
  },
  {
   "cell_type": "code",
   "execution_count": 248,
   "metadata": {},
   "outputs": [],
   "source": [
    "# Default dictionary with 'UNK' parameter\n",
    "from collections import defaultdict\n",
    "mapping = defaultdict(lambda: 'UNK')\n",
    "for v in text1_cfd:\n",
    "    mapping[v] = v"
   ]
  },
  {
   "cell_type": "code",
   "execution_count": 250,
   "metadata": {},
   "outputs": [
    {
     "data": {
      "text/plain": [
       "'UNK'"
      ]
     },
     "execution_count": 250,
     "metadata": {},
     "output_type": "execute_result"
    }
   ],
   "source": [
    "mapping['heyyy']"
   ]
  },
  {
   "cell_type": "code",
   "execution_count": 251,
   "metadata": {},
   "outputs": [
    {
     "data": {
      "text/plain": [
       "1145"
      ]
     },
     "execution_count": 251,
     "metadata": {},
     "output_type": "execute_result"
    }
   ],
   "source": [
    "# Number of tags available\n",
    "len(set(mapping))"
   ]
  },
  {
   "cell_type": "code",
   "execution_count": 255,
   "metadata": {},
   "outputs": [],
   "source": [
    "# Usage of default dict\n",
    "counts = defaultdict(int)\n",
    "for (word, tag) in text1_tagset:\n",
    "    counts[tag] += 1"
   ]
  },
  {
   "cell_type": "code",
   "execution_count": 256,
   "metadata": {},
   "outputs": [
    {
     "data": {
      "text/plain": [
       "989"
      ]
     },
     "execution_count": 256,
     "metadata": {},
     "output_type": "execute_result"
    }
   ],
   "source": [
    "# Number of times Noun tag is used in text\n",
    "counts['NOUN']"
   ]
  },
  {
   "cell_type": "code",
   "execution_count": 257,
   "metadata": {},
   "outputs": [
    {
     "data": {
      "text/plain": [
       "0"
      ]
     },
     "execution_count": 257,
     "metadata": {},
     "output_type": "execute_result"
    }
   ],
   "source": [
    "counts['UNK']"
   ]
  },
  {
   "cell_type": "code",
   "execution_count": 450,
   "metadata": {},
   "outputs": [
    {
     "name": "stdout",
     "output_type": "stream",
     "text": [
      "['.', 'ADJ', 'ADP', 'ADV', 'CONJ', 'DET', 'NOUN', 'NUM', 'PRON', 'PRT', 'UNK', 'VERB', 'X']\n"
     ]
    }
   ],
   "source": [
    "# All possible tags found\n",
    "print(sorted(counts))"
   ]
  },
  {
   "cell_type": "code",
   "execution_count": 265,
   "metadata": {},
   "outputs": [
    {
     "data": {
      "text/plain": [
       "'.'"
      ]
     },
     "execution_count": 265,
     "metadata": {},
     "output_type": "execute_result"
    }
   ],
   "source": [
    "# Finding maximum word used in text1\n",
    "tags = [tag for (word, tag) in text1_tagset]\n",
    "nltk.FreqDist(tags).max()"
   ]
  },
  {
   "cell_type": "code",
   "execution_count": 451,
   "metadata": {},
   "outputs": [
    {
     "name": "stdout",
     "output_type": "stream",
     "text": [
      "[('I', 'NN'), ('shift', 'NN'), ('a', 'NN'), ('bit', 'NN'), (',', 'NN'), ('warily', 'NN'), ('letting', 'NN'), ('my', 'NN'), ('eyes', 'NN'), ('dart', 'NN'), ('from', 'NN'), ('one', 'NN'), ('owl', 'NN'), ('to', 'NN'), ('the', 'NN'), ('other', 'NN'), ('--', 'NN'), ('but', 'NN'), ('my', 'NN'), ('eyes', 'NN'), ('are', 'NN'), ('trained', 'NN'), ('on', 'NN'), ('the', 'NN'), ('Barn', 'NN'), ('Owl', 'NN'), ('the', 'NN'), ('most', 'NN'), ('.', 'NN'), ('Like', 'NN'), ('Hoole', 'NN'), ('...', 'NN'), ('so', 'NN'), ('like', 'NN'), ('Hoole', 'NN'), ('...', 'NN'), ('He', 'NN'), ('turns', 'NN'), ('a', 'NN'), ('bit', 'NN'), (',', 'NN'), ('and', 'NN'), ('our', 'NN'), ('eyes', 'NN'), ('meet', 'NN'), ('directly', 'NN'), ('.', 'NN'), ('I', 'NN'), ('can', 'NN'), (\"''\", 'NN'), ('t', 'NN'), ('describe', 'NN'), ('it', 'NN'), ('...', 'NN'), ('in', 'NN'), ('this', 'NN'), ('next', 'NN'), ('moment', 'NN'), (',', 'NN'), ('I', 'NN'), ('don', 'NN'), (\"''\", 'NN'), ('t', 'NN'), ('look', 'NN'), ('away', 'NN'), (',', 'NN'), ('how', 'NN'), ('awkward', 'NN'), ('it', 'NN'), ('seems', 'NN'), ('.', 'NN'), ('I', 'NN'), ('stare', 'NN'), ('into', 'NN'), ('his', 'NN'), ('eyes', 'NN'), ('.', 'NN'), ('They', 'NN'), (\"''\", 'NN'), ('re', 'NN'), ('like', 'NN'), ('Hoole', 'NN'), (\"''\", 'NN'), ('s', 'NN'), ('...', 'NN'), ('They', 'NN'), ('are', 'NN'), ('Barn', 'NN'), ('Owl', 'NN'), ('eyes', 'NN'), (',', 'NN'), ('but', 'NN'), ('Hoole', 'NN'), (\"''\", 'NN'), ('s', 'NN'), ('eyes', 'NN'), ('.', 'NN'), ('They', 'NN'), (\"''\", 'NN'), ('re', 'NN'), ('his', 'NN'), ('eyes', 'NN'), ('...', 'NN'), ('Hoole', 'NN'), (\"''\", 'NN'), ('s', 'NN'), ('eyes', 'NN'), ('...', 'NN'), ('They', 'NN'), ('hold', 'NN'), ('that', 'NN'), ('light', 'NN'), ('of', 'NN'), ('valor', 'NN'), (',', 'NN'), ('justice', 'NN'), (',', 'NN'), ('that', 'NN'), ('one', 'NN'), ('glow', 'NN'), ('that', 'NN'), ('I', 'NN'), ('always', 'NN'), ('made', 'NN'), ('me', 'NN'), ('feel', 'NN'), ('my', 'NN'), ('gizzard', 'NN'), ('twitch', 'NN'), ('in', 'NN'), ('the', 'NN'), ('bottom', 'NN'), ('of', 'NN'), ('my', 'NN'), ('heart', 'NN'), ('.', 'NN'), ('Hoole', 'NN'), ('...', 'NN'), ('He', 'NN'), ('never', 'NN'), ('wanted', 'NN'), ('me', 'NN'), (',', 'NN'), ('did', 'NN'), ('he', 'NN'), ('?', 'NN'), ('He', 'NN'), ('loved', 'NN'), ('me', 'NN'), (',', 'NN'), ('but', 'NN'), ('only', 'NN'), ('who', 'NN'), ('I', 'NN'), ('was', 'NN'), ('pretending', 'NN'), ('to', 'NN'), ('be', 'NN'), ('.', 'NN'), ('He', 'NN'), ('never', 'NN'), ('loved', 'NN'), ('me', 'NN'), (',', 'NN'), ('only', 'NN'), ('Emerilla', 'NN'), ('...', 'NN'), ('lucky', 'NN'), ('owl', 'NN'), ('.', 'NN'), ('I', 'NN'), ('just', 'NN'), ('wanted', 'NN'), ('to', 'NN'), ('belong', 'NN'), ('--', 'NN'), ('because', 'NN'), ('I', 'NN'), ('was', 'NN'), ('nothing', 'NN'), ('--', 'NN'), ('and', 'NN'), ('he', 'NN'), ('gave', 'NN'), ('me', 'NN'), ('that', 'NN'), ('.', 'NN'), ('He', 'NN'), ('was', 'NN'), ('so', 'NN'), ('fair', 'NN'), (',', 'NN'), ('so', 'NN'), ('kind', 'NN'), ('...', 'NN'), ('he', 'NN'), ('gave', 'NN'), ('me', 'NN'), ('something', 'NN'), ('even', 'NN'), ('Kreeth', 'NN'), ('could', 'NN'), ('not', 'NN'), ('.', 'NN'), ('Mum', 'NN'), ('and', 'NN'), ('Da', 'NN'), ('--', 'NN'), ('Ygryk', 'NN'), ('and', 'NN'), ('Pleek', 'NN'), ('--', 'NN'), ('were', 'NN'), ('supposed', 'NN'), ('to', 'NN'), ('be', 'NN'), ('my', 'NN'), ('parents', 'NN'), ('.', 'NN'), ('I', 'NN'), ('was', 'NN'), ('supposed', 'NN'), ('to', 'NN'), ('be', 'NN'), ('their', 'NN'), ('chick', 'NN'), (',', 'NN'), ('Lutta', 'NN'), ('.', 'NN'), ('Yet', 'NN'), ('they', 'NN'), ('left', 'NN'), ('me', 'NN'), ('.', 'NN'), ('They', 'NN'), ('talked', 'NN'), ('about', 'NN'), ('me', 'NN'), ('behind', 'NN'), ('my', 'NN'), ('back', 'NN'), ('...', 'NN'), ('I', 'NN'), ('was', 'NN'), ('a', 'NN'), ('freak', 'NN'), ('.', 'NN'), ('My', 'NN'), ('own', 'NN'), ('parents', 'NN'), ('loathed', 'NN'), ('me', 'NN'), ('.', 'NN'), ('Oh', 'NN'), (',', 'NN'), ('they', 'NN'), ('tried', 'NN'), (',', 'NN'), ('but', 'NN'), ('they', 'NN'), ('left', 'NN'), ('in', 'NN'), ('the', 'NN'), ('end', 'NN'), ('.', 'NN'), ('They', 'NN'), ('didn', 'NN'), (\"''\", 'NN'), ('t', 'NN'), ('love', 'NN'), ('me', 'NN'), ('.', 'NN'), ('Kreeth', 'NN'), ('used', 'NN'), ('me', 'NN'), ('.', 'NN'), ('No', 'NN'), ('one', 'NN'), ('really', 'NN'), ('loved', 'NN'), ('me', 'NN'), (',', 'NN'), ('or', 'NN'), ('even', 'NN'), ('looked', 'NN'), ('at', 'NN'), ('me', 'NN'), ('normally', 'NN'), ('.', 'NN'), ('All', 'NN'), ('I', 'NN'), ('was', 'NN'), ('was', 'NN'), ('a', 'NN'), ('freak', 'NN'), (',', 'NN'), ('nothing', 'NN'), ('at', 'NN'), ('all', 'NN'), ('.', 'NN'), ('Then', 'NN'), ('he', 'NN'), ('came', 'NN'), ('along', 'NN'), ('.', 'NN'), ('Him', 'NN'), (',', 'NN'), ('Hoole', 'NN'), ('.', 'NN'), ('The', 'NN'), ('only', 'NN'), ('one', 'NN'), ('who', 'NN'), ('let', 'NN'), ('me', 'NN'), ('belong', 'NN'), (',', 'NN'), ('looked', 'NN'), ('at', 'NN'), ('me', 'NN'), ('with', 'NN'), ('kindness', 'NN'), ('in', 'NN'), ('his', 'NN'), ('gaze', 'NN'), (',', 'NN'), ('not', 'NN'), ('looking', 'NN'), ('like', 'NN'), ('I', 'NN'), ('was', 'NN'), ('a', 'NN'), ('...', 'NN'), ('monster', 'NN'), ('...', 'NN'), ('Why', 'NN'), ('was', 'NN'), ('I', 'NN'), ('born', 'NN'), ('?', 'NN'), ('Not', 'NN'), ('one', 'NN'), ('person', 'NN'), ('cared', 'NN'), ('about', 'NN'), ('me', 'NN'), ('.', 'NN'), ('I', 'NN'), ('was', 'NN'), ('just', 'NN'), ('freak', 'NN'), ('my', 'NN'), ('parents', 'NN'), ('didn', 'NN'), (\"''\", 'NN'), ('t', 'NN'), ('want', 'NN'), (',', 'NN'), ('a', 'NN'), ('weapon', 'NN'), ('for', 'NN'), ('auntie', 'NN'), (\"''\", 'NN'), ('s', 'NN'), ('uses', 'NN'), (',', 'NN'), ('and', 'NN'), ('a', 'NN'), ('fake', 'NN'), ('to', 'NN'), ('my', 'NN'), ('only', 'NN'), ('love', 'NN'), ('.', 'NN'), ('He', 'NN'), ('cared', 'NN'), (',', 'NN'), ('but', 'NN'), ('didn', 'NN'), (\"''\", 'NN'), ('t', 'NN'), ('know', 'NN'), ('me', 'NN'), ('.', 'NN'), ('In', 'NN'), ('the', 'NN'), ('end', 'NN'), (',', 'NN'), ('I', 'NN'), ('was', 'NN'), ('a', 'NN'), ('monster', 'NN'), ('to', 'NN'), ('him', 'NN'), ('too', 'NN'), ('.', 'NN'), ('Now', 'NN'), ('I', 'NN'), (\"''\", 'NN'), ('m', 'NN'), ('back', 'NN'), ('.', 'NN'), ('And', 'NN'), ('now', 'NN'), ('I', 'NN'), ('wonder', 'NN'), ('...', 'NN'), ('I', 'NN'), ('suddenly', 'NN'), ('stiffen', 'NN'), ('as', 'NN'), ('I', 'NN'), ('think', 'NN'), ('up', 'NN'), ('to', 'NN'), ('a', 'NN'), ('thought', 'NN'), ('.', 'NN'), ('``', 'NN'), ('What', 'NN'), ('happened', 'NN'), ('?', 'NN'), (\"''\", 'NN'), ('I', 'NN'), ('shoot', 'NN'), ('up', 'NN'), ('and', 'NN'), ('stare', 'NN'), ('into', 'NN'), ('those', 'NN'), ('kind', 'NN'), ('eyes', 'NN'), ('.', 'NN'), ('I', 'NN'), ('trust', 'NN'), ('him', 'NN'), ('to', 'NN'), ('answer', 'NN'), ('.', 'NN'), ('``', 'NN'), ('Please', 'NN'), (',', 'NN'), ('who', 'NN'), ('are', 'NN'), ('you', 'NN'), ('?', 'NN'), ('Where', 'NN'), ('am', 'NN'), ('I', 'NN'), ('?', 'NN'), ('Where', 'NN'), (\"''\", 'NN'), ('s', 'NN'), ('...', 'NN'), ('Where', 'NN'), (\"''\", 'NN'), ('s', 'NN'), (\"''\", 'NN'), ('--', 'NN'), ('I', 'NN'), ('choke', 'NN'), ('up', 'NN'), (',', 'NN'), ('but', 'NN'), ('the', 'NN'), ('question', 'NN'), ('is', 'NN'), ('already', 'NN'), ('on', 'NN'), ('my', 'NN'), ('tongue', 'NN'), ('--', 'NN'), (\"''\", 'NN'), ('Hoole', 'NN'), ('?', 'NN'), (\"''\", 'NN'), ('My', 'NN'), ('talons', 'NN'), ('clench', 'NN'), ('as', 'NN'), ('the', 'NN'), ('name', 'NN'), ('leaves', 'NN'), ('me', 'NN'), ('.', 'NN'), ('At', 'NN'), ('once', 'NN'), (',', 'NN'), ('I', 'NN'), ('see', 'NN'), ('sympathy', 'NN'), ('clearly', 'NN'), ('written', 'NN'), ('over', 'NN'), ('their', 'NN'), ('faces', 'NN'), ('.', 'NN'), ('A', 'NN'), ('pang', 'NN'), ('enters', 'NN'), ('my', 'NN'), ('heart', 'NN'), ('.', 'NN'), ('Sympathy', 'NN'), ('for', 'NN'), ('me', 'NN'), ('?', 'NN'), ('A', 'NN'), ('nothing', 'NN'), ('?', 'NN'), ('``', 'NN'), ('Lutta', 'NN'), ('.', 'NN'), (\"''\", 'NN'), ('Sweet', 'NN'), ('words', 'NN'), ('again', 'NN'), (',', 'NN'), ('and', 'NN'), ('I', 'NN'), ('suddenly', 'NN'), ('wonder', 'NN'), ('how', 'NN'), ('this', 'NN'), ('Barn', 'NN'), ('Owl', 'NN'), ('knows', 'NN'), ('my', 'NN'), ('name', 'NN'), ('.', 'NN'), ('``', 'NN'), ('It', 'NN'), (\"''\", 'NN'), ('s', 'NN'), ('hard', 'NN'), ('to', 'NN'), ('explain', 'NN'), (',', 'NN'), ('but', 'NN'), ('please', 'NN'), ('...', 'NN'), (\"''\", 'NN'), ('``', 'NN'), ('Listen', 'NN'), ('carefully', 'NN'), ('.', 'NN'), (\"''\", 'NN'), ('Everyone', 'NN'), (',', 'NN'), ('including', 'NN'), ('me', 'NN'), (',', 'NN'), ('jumps', 'NN'), ('as', 'NN'), ('the', 'NN'), ('Great', 'NN'), ('Gray', 'NN'), ('speaks', 'NN'), ('--', 'NN'), ('in', 'NN'), ('a', 'NN'), ('rather', 'NN'), ('booming', 'NN'), ('voice', 'NN'), ('--', 'NN'), ('for', 'NN'), ('the', 'NN'), ('first', 'NN'), ('time', 'NN'), ('.', 'NN'), ('The', 'NN'), ('Elf', 'NN'), ('Owl', 'NN'), ('frowns', 'NN'), ('at', 'NN'), ('him', 'NN'), ('.', 'NN'), ('The', 'NN'), ('older', 'NN'), ('Barn', 'NN'), ('Owl', 'NN'), ('gives', 'NN'), ('him', 'NN'), ('a', 'NN'), ('quick', 'NN'), ('nudge', 'NN'), ('.', 'NN'), ('Words', 'NN'), ('tumble', 'NN'), ('from', 'NN'), ('the', 'NN'), ('young', 'NN'), ('Barn', 'NN'), ('Owl', 'NN'), (\"''\", 'NN'), ('s', 'NN'), ('beak', 'NN'), ('.', 'NN'), ('``', 'NN'), ('Lutta', 'NN'), (',', 'NN'), ('we', 'NN'), ('read', 'NN'), ('about', 'NN'), ('you', 'NN'), ('in', 'NN'), ('legends', 'NN'), ('.', 'NN'), ('It', 'NN'), (\"''\", 'NN'), ('s', 'NN'), ('been', 'NN'), ('a', 'NN'), ('long', 'NN'), ('time', 'NN'), ('since', 'NN'), ('you', 'NN'), ('were', 'NN'), ('...', 'NN'), ('``', 'NN'), ('Well', 'NN'), (',', 'NN'), ('you', 'NN'), (\"''\", 'NN'), ('re', 'NN'), ('at', 'NN'), ('the', 'NN'), ('Great', 'NN'), ('Ga', 'NN'), (\"''\", 'NN'), ('Hoole', 'NN'), ('Tree', 'NN'), (',', 'NN'), ('and', 'NN'), ('it', 'NN'), (\"''\", 'NN'), ('s', 'NN'), ('been', 'NN'), ('a', 'NN'), ('long', 'NN'), ('time', 'NN'), ('since', 'NN'), ('you', 'NN'), ('were', 'NN'), ('...', 'NN'), (\"''\", 'NN'), ('His', 'NN'), ('voice', 'NN'), ('dies', 'NN'), ('down', 'NN'), ('as', 'NN'), ('he', 'NN'), ('hesitates', 'NN'), ('.', 'NN'), ('``', 'NN'), ('Dead', 'NN'), (',', 'NN'), (\"''\", 'NN'), ('the', 'NN'), ('older', 'NN'), ('Barn', 'NN'), ('Owl', 'NN'), ('finishes', 'NN'), ('.', 'NN'), ('He', 'NN'), ('says', 'NN'), ('it', 'NN'), ('with', 'NN'), ('that', 'NN'), ('sympathy', 'NN'), ('shown', 'NN'), ('in', 'NN'), ('his', 'NN'), ('eyes', 'NN'), ('.', 'NN'), ('``', 'NN'), ('It', 'NN'), (\"''\", 'NN'), ('s', 'NN'), ('been', 'NN'), ('thousands', 'NN'), ('of', 'NN'), ('years', 'NN'), ('from', 'NN'), ('your', 'NN'), ('time', 'NN'), (',', 'NN'), ('and', 'NN'), ('we', 'NN'), ('read', 'NN'), ('about', 'NN'), ('you', 'NN'), ('from', 'NN'), ('some', 'NN'), ('legends', 'NN'), ('about', 'NN'), ('some', 'NN'), ('...', 'NN'), ('events', 'NN'), ('...', 'NN'), (\"''\", 'NN'), ('He', 'NN'), ('clears', 'NN'), ('his', 'NN'), ('throat', 'NN'), (',', 'NN'), ('determined', 'NN'), ('to', 'NN'), ('go', 'NN'), ('on', 'NN'), ('.', 'NN'), ('``', 'NN'), ('Coryn', 'NN'), ('here', 'NN'), (\"''\", 'NN'), ('--', 'NN'), ('a', 'NN'), ('gesture', 'NN'), ('at', 'NN'), ('the', 'NN'), ('young', 'NN'), ('Barn', 'NN'), ('Owl', 'NN'), ('--', 'NN'), (\"''\", 'NN'), ('is', 'NN'), ('the', 'NN'), ('king', 'NN'), ('.', 'NN'), ('I', 'NN'), (\"''\", 'NN'), ('m', 'NN'), ('his', 'NN'), ('uncle', 'NN'), (',', 'NN'), ('Soren', 'NN'), ('.', 'NN'), ('This', 'NN'), ('is', 'NN'), ('Gylfie', 'NN'), (\"''\", 'NN'), ('--', 'NN'), ('a', 'NN'), ('gesture', 'NN'), ('at', 'NN'), ('the', 'NN'), ('Elf', 'NN'), ('Owl', 'NN'), (',', 'NN'), ('who', 'NN'), ('nods', 'NN'), ('in', 'NN'), ('greeting', 'NN'), ('--', 'NN'), (\"''\", 'NN'), ('Twilight', 'NN'), (',', 'NN'), (\"''\", 'NN'), ('the', 'NN'), ('Great', 'NN'), ('Gray', 'NN'), (',', 'NN'), ('``', 'NN'), ('and', 'NN'), ('Digger', 'NN'), (\"''\", 'NN'), ('--', 'NN'), ('what', 'NN'), ('a', 'NN'), ('funny', 'NN'), ('looking', 'NN'), ('Burrowing', 'NN'), ('Owl', 'NN'), ('.', 'NN'), ('``', 'NN'), ('My', 'NN'), ('uncle', 'NN'), ('and', 'NN'), ('his', 'NN'), ('friends', 'NN'), ('are', 'NN'), ('called', 'NN'), ('the', 'NN'), ('Band', 'NN'), (',', 'NN'), (\"''\", 'NN'), ('Coryn', 'NN'), ('adds', 'NN'), ('.', 'NN'), ('I', 'NN'), ('let', 'NN'), ('this', 'NN'), ('newfound', 'NN'), ('information', 'NN'), ('seep', 'NN'), ('in', 'NN'), ('.', 'NN'), ('Thousands', 'NN'), ('of', 'NN'), ('years', 'NN'), ('?', 'NN'), ('Could', 'NN'), ('this', 'NN'), ('be', 'NN'), ('possible', 'NN'), ('?', 'NN'), ('I', 'NN'), ('was', 'NN'), ('dead', 'NN'), (',', 'NN'), ('right', 'NN'), ('?', 'NN'), ('It', 'NN'), (\"''\", 'NN'), ('s', 'NN'), ('been', 'NN'), ('so', 'NN'), ('long', 'NN'), ('--', 'NN'), ('and', 'NN'), ('...', 'NN'), ('I', 'NN'), ('was', 'NN'), ('dead', 'NN'), ('?', 'NN'), ('How', 'NN'), ('...', 'NN'), ('?', 'NN'), ('``', 'NN'), ('I', 'NN'), ('have', 'NN'), ('a', 'NN'), ('GIZZARD', 'NN'), ('!', 'NN'), (\"''\", 'NN'), ('``', 'NN'), ('You', 'NN'), ('do', 'NN'), ('not', 'NN'), ('have', 'NN'), ('a', 'NN'), ('gizzard', 'NN'), (',', 'NN'), ('you', 'NN'), ('fool', 'NN'), ('!', 'NN'), ('you', 'NN'), ('idiot', 'NN'), ('!', 'NN'), ('I', 'NN'), ('created', 'NN'), ('you', 'NN'), ('.', 'NN'), (\"''\", 'NN'), ('``', 'NN'), ('You', 'NN'), ('created', 'NN'), ('me', 'NN'), (',', 'NN'), ('but', 'NN'), ('I', 'NN'), ('created', 'NN'), ('this', 'NN'), ('gizzard', 'NN'), ('!', 'NN'), (\"''\", 'NN'), ('``', 'NN'), ('No', 'NN'), ('!', 'NN'), (\"''\", 'NN'), ('What', 'NN'), ('is', 'NN'), ('this', 'NN'), ('?', 'NN'), ('``', 'NN'), ('Emerilla', 'NN'), ('?', 'NN'), (\"''\", 'NN'), ('He', 'NN'), ('turns', 'NN'), ('as', 'NN'), ('I', 'NN'), ('change', 'NN'), ('.', 'NN'), ('He', 'NN'), ('knows', 'NN'), ('now', 'NN'), ('...', 'NN'), ('what', 'NN'), ('am', 'NN'), ('I', 'NN'), ('to', 'NN'), ('do', 'NN'), ('?', 'NN'), ('Dismay', 'NN'), ('spreads', 'NN'), ('through', 'NN'), ('my', 'NN'), ('body', 'NN'), ('.', 'NN'), ('He', 'NN'), (\"''\", 'NN'), ('ll', 'NN'), ('probably', 'NN'), ('think', 'NN'), ('I', 'NN'), (\"''\", 'NN'), ('m', 'NN'), ('a', 'NN'), ('freak', 'NN'), ('too', 'NN'), (',', 'NN'), ('and', 'NN'), ('he', 'NN'), (\"''\", 'NN'), ('ll', 'NN'), ('hate', 'NN'), ('me', 'NN'), ('.', 'NN'), ('But', 'NN'), ('I', 'NN'), ('love', 'NN'), ('him', 'NN'), ('!', 'NN'), ('In', 'NN'), ('the', 'NN'), ('next', 'NN'), ('second', 'NN'), (',', 'NN'), ('I', 'NN'), (\"''\", 'NN'), ('m', 'NN'), ('flying', 'NN'), ('at', 'NN'), ('him', 'NN'), ('.', 'NN'), ('Adrenline', 'NN'), ('floods', 'NN'), ('me', 'NN'), ('as', 'NN'), ('I', 'NN'), ('feel', 'NN'), ('...', 'NN'), ('am', 'NN'), ('I', 'NN'), ('losing', 'NN'), ('myself', 'NN'), ('?', 'NN'), ('This', 'NN'), ('gref', 'NN'), ('...', 'NN'), ('He', 'NN'), (\"''\", 'NN'), ('ll', 'NN'), ('hate', 'NN'), ('me', 'NN'), ('now', 'NN'), ('.', 'NN'), ('I', 'NN'), ('slam', 'NN'), ('into', 'NN'), ('him', 'NN'), (',', 'NN'), ('and', 'NN'), ('he', 'NN'), ('flies', 'NN'), ('backward', 'NN'), ('.', 'NN'), ('``', 'NN'), ('I', 'NN'), ('love', 'NN'), ('you', 'NN'), ('!', 'NN'), (\"''\", 'NN'), ('I', 'NN'), ('want', 'NN'), ('to', 'NN'), ('scream', 'NN'), ('.', 'NN'), ('I', 'NN'), ('want', 'NN'), ('to', 'NN'), ('scream', 'NN'), ('those', 'NN'), ('three', 'NN'), ('words', 'NN'), ('.', 'NN'), ('To', 'NN'), ('let', 'NN'), ('him', 'NN'), ('understand', 'NN'), ('.', 'NN'), ('I', 'NN'), ('want', 'NN'), ('to', 'NN'), ('scream', 'NN'), (',', 'NN'), ('``', 'NN'), ('I', 'NN'), ('love', 'NN'), ('you', 'NN'), ('!', 'NN'), (\"''\", 'NN'), ('Then', 'NN'), (',', 'NN'), ('an', 'NN'), ('enexpected', 'NN'), ('blow', 'NN'), ('to', 'NN'), ('the', 'NN'), ('back', 'NN'), ('of', 'NN'), ('my', 'NN'), ('head', 'NN'), ('.', 'NN'), ('Pain', 'NN'), ('.', 'NN'), ('Unexpected', 'NN'), ('pain', 'NN'), ('.', 'NN'), ('Then', 'NN'), ('talons', 'NN'), (',', 'NN'), ('stopping', 'NN'), ('me', 'NN'), ('in', 'NN'), ('my', 'NN'), ('tracks', 'NN'), ('.', 'NN'), ('Talons', 'NN'), ('...', 'NN'), ('digging', 'NN'), ('into', 'NN'), ('me', 'NN'), (',', 'NN'), ('slashing', 'NN'), ('everywhere', 'NN'), ('.', 'NN'), ('My', 'NN'), ('vision', 'NN'), ('spins', 'NN'), ('to', 'NN'), ('red', 'NN'), ('.', 'NN'), ('I', 'NN'), (\"''\", 'NN'), ('m', 'NN'), ('being', 'NN'), ('ripped', 'NN'), ('apart', 'NN'), ('at', 'NN'), ('the', 'NN'), ('seams', 'NN'), ('.', 'NN'), ('Torn', 'NN'), ('.', 'NN'), ('No', 'NN'), ('...', 'NN'), ('Why', 'NN'), ('are', 'NN'), ('you', 'NN'), ('...', 'NN'), ('?', 'NN'), ('I', 'NN'), ('sink', 'NN'), (',', 'NN'), ('and', 'NN'), ('I', 'NN'), ('fall', 'NN'), ('apart', 'NN'), (',', 'NN'), ('literally', 'NN'), ('.', 'NN'), ('My', 'NN'), ('feathers', 'NN'), ('fall', 'NN'), ('off', 'NN'), (',', 'NN'), ('as', 'NN'), ('my', 'NN'), ('body', 'NN'), ('becomes', 'NN'), ('a', 'NN'), ('lump', 'NN'), ('of', 'NN'), ('darkness', 'NN'), ('.', 'NN'), ('A', 'NN'), ('lump', 'NN'), ('of', 'NN'), ('feathers', 'NN'), ('.', 'NN'), ('I', 'NN'), ('truly', 'NN'), ('am', 'NN'), ('nothing', 'NN'), ('...', 'NN'), ('You', 'NN'), (\"''\", 'NN'), ('d', 'NN'), ('expect', 'NN'), ('a', 'NN'), ('real', 'NN'), ('body', 'NN'), ('when', 'NN'), ('one', 'NN'), ('is', 'NN'), ('torn', 'NN'), ('by', 'NN'), ('claws', 'NN'), ('--', 'NN'), ('and', 'NN'), ('yet', 'NN'), ('...', 'NN'), ('feathers', 'NN'), ('only', 'NN'), ('.', 'NN'), ('My', 'NN'), ('phantom', 'NN'), ('gizzard', 'NN'), ('lurches', 'NN'), ('.', 'NN'), ('``', 'NN'), ('Half-hags', 'NN'), ('!', 'NN'), (\"''\", 'NN'), ('``', 'NN'), ('I', 'NN'), ('had', 'NN'), ('to', 'NN'), ('kill', 'NN'), ('her', 'NN'), ('.', 'NN'), (\"''\", 'NN'), ('WHY', 'NN'), ('?', 'NN'), ('``', 'NN'), ('She', 'NN'), ('pretended', 'NN'), ('to', 'NN'), ('be', 'NN'), ('my', 'NN'), ('Emerilla', 'NN'), ('.', 'NN'), (\"''\", 'NN'), ('Is', 'NN'), ('that', 'NN'), ('all', 'NN'), ('!', 'NN'), ('I', 'NN'), (\"''\", 'NN'), ('m', 'NN'), ('going', 'NN'), ('to', 'NN'), ('die', 'NN'), ('like', 'NN'), ('this', 'NN'), ('!', 'NN'), ('Just', 'NN'), ('because', 'NN'), ('I', 'NN'), ('was', 'NN'), ('an', 'NN'), ('imposter', 'NN'), ('!', 'NN'), ('``', 'NN'), ('I', 'NN'), ('knew', 'NN'), ('from', 'NN'), ('the', 'NN'), ('start', 'NN'), ('that', 'NN'), ('something', 'NN'), ('was', 'NN'), ('not', 'NN'), ('right', 'NN'), ('about', 'NN'), ('her', 'NN'), ('.', 'NN'), ('A', 'NN'), ('blood', 'NN'), ('deception', 'NN'), ('she', 'NN'), ('was', 'NN'), ('--', 'NN'), ('a', 'NN'), ('hagsfiend', 'NN'), ('.', 'NN'), (\"''\", 'NN'), ('Anger', 'NN'), ('--', 'NN'), ('hot', 'NN'), (',', 'NN'), ('seeping', 'NN'), ('rage', 'NN'), ('enters', 'NN'), ('me', 'NN'), ('.', 'NN'), ('And', 'NN'), ('cold', 'NN'), ('feelings', 'NN'), ('.', 'NN'), ('Feeling', 'NN'), ('that', 'NN'), ('make', 'NN'), ('me', 'NN'), ('want', 'NN'), ('to', 'NN'), ('shed', 'NN'), ('tears', 'NN'), ('.', 'NN'), ('``', 'NN'), ('No', 'NN'), ('!', 'NN'), (\"''\", 'NN'), ('I', 'NN'), ('manage', 'NN'), ('.', 'NN'), ('``', 'NN'), ('Who', 'NN'), ('are', 'NN'), ('you', 'NN'), ('?', 'NN'), (\"''\", 'NN'), ('Who', 'NN'), ('?', 'NN'), ('Hoole', 'NN'), ('...', 'NN'), ('you', 'NN'), ('accept', 'NN'), ('me', 'NN'), ('as', 'NN'), ('someone', 'NN'), ('?', 'NN'), ('Hoole', 'NN'), ('...', 'NN'), ('``', 'NN'), ('I', 'NN'), ('am', 'NN'), ('nothing', 'NN'), ('...', 'NN'), ('and', 'NN'), ('yet', 'NN'), (',', 'NN'), ('I', 'NN'), ('loved', 'NN'), ('...', 'NN'), (\"''\", 'NN'), ('I', 'NN'), ('loved', 'NN'), ('...', 'NN'), ('``', 'NN'), ('Lutta', 'NN'), ('?', 'NN'), (\"''\", 'NN'), ('``', 'NN'), ('Hey', 'NN'), ('!', 'NN'), ('Are', 'NN'), ('you', 'NN'), ('all', 'NN'), ('right', 'NN'), ('?', 'NN'), (\"''\", 'NN'), ('``', 'NN'), ('What', 'NN'), (\"''\", 'NN'), ('s', 'NN'), ('wrong', 'NN'), ('?', 'NN'), ('Lutta', 'NN'), ('!', 'NN'), (\"''\", 'NN'), ('I', 'NN'), ('sink', 'NN'), ('down', 'NN'), ('as', 'NN'), ('my', 'NN'), ('mind', 'NN'), ('spins', 'NN'), ('.', 'NN'), ('Then', 'NN'), (',', 'NN'), ('I', 'NN'), ('black', 'NN'), ('out', 'NN'), ('.', 'NN'), ('All', 'NN'), ('was', 'NN'), ('dark', 'NN'), ('except', 'NN'), ('for', 'NN'), ('the', 'NN'), ('fluttering', 'NN'), ('movement', 'NN'), ('of', 'NN'), ('wings', 'NN'), ('--', 'NN'), ('brown', 'NN'), ('wings', 'NN'), ('.', 'NN'), ('A', 'NN'), ('Barn', 'NN'), ('Owl', 'NN'), ('shifted', 'NN'), ('in', 'NN'), ('the', 'NN'), ('branches', 'NN'), ('of', 'NN'), ('the', 'NN'), ('magnificent', 'NN'), ('tree', 'NN'), (',', 'NN'), ('her', 'NN'), ('dark', 'NN'), ('eyes', 'NN'), ('gleaming', 'NN'), ('as', 'NN'), ('she', 'NN'), ('looked', 'NN'), ('into', 'NN'), ('the', 'NN'), ('hollow', 'NN'), ('.', 'NN'), ('How', 'NN'), ('strange', 'NN'), ('that', 'NN'), ('she', 'NN'), ('could', 'NN'), ('get', 'NN'), ('so', 'NN'), ('close', 'NN'), ('to', 'NN'), ('the', 'NN'), ('tree', 'NN'), ('so', 'NN'), ('easily', 'NN'), ('.', 'NN'), ('She', 'NN'), ('was', 'NN'), ('but', 'NN'), ('a', 'NN'), ('sillhouette', 'NN'), ('against', 'NN'), ('the', 'NN'), ('branched', 'NN'), ('skies', 'NN'), ('.', 'NN'), ('She', 'NN'), ('eyed', 'NN'), ('the', 'NN'), ('hollow', 'NN'), (',', 'NN'), ('and', 'NN'), ('the', 'NN'), ('inhabitants', 'NN'), ('.', 'NN'), ('Her', 'NN'), ('son', 'NN'), ('...', 'NN'), ('too', 'NN'), ('bad', 'NN'), ('she', 'NN'), ('would', 'NN'), ('have', 'NN'), ('to', 'NN'), ('kill', 'NN'), ('him', 'NN'), ('.', 'NN'), ('He', 'NN'), ('would', 'NN'), ('have', 'NN'), ('made', 'NN'), ('a', 'NN'), ('fine', 'NN'), ('pure', 'NN'), ('owl', 'NN'), (',', 'NN'), ('had', 'NN'), ('he', 'NN'), ('not', 'NN'), ('inherited', 'NN'), ('his', 'NN'), ('uncle', 'NN'), (\"''\", 'NN'), ('s', 'NN'), ('stupid', 'NN'), ('softness', 'NN'), ('.', 'NN'), ('She', 'NN'), ('could', 'NN'), ('just', 'NN'), ('kill', 'NN'), ('him', 'NN'), (',', 'NN'), ('right', 'NN'), ('there', 'NN'), ('and', 'NN'), ('then', 'NN'), ('.', 'NN'), ('How', 'NN'), ('easy', 'NN'), (',', 'NN'), ('that', 'NN'), ('everything', 'NN'), ('she', 'NN'), ('had', 'NN'), ('been', 'NN'), ('working', 'NN'), ('for', 'NN'), ('for', 'NN'), ('the', 'NN'), ('last', 'NN'), ('few', 'NN'), ('months', 'NN'), ('would', 'NN'), ('just', 'NN'), ('be', 'NN'), ('completed', 'NN'), ('now', 'NN'), (',', 'NN'), ('so', 'NN'), ('easily', 'NN'), ('.', 'NN'), ('She', 'NN'), ('could', 'NN'), ('easily', 'NN'), ('snatch', 'NN'), ('the', 'NN'), ('ember', 'NN'), (',', 'NN'), ('then', 'NN'), ('swoop', 'NN'), ('in', 'NN'), ('and', 'NN'), ('kill', 'NN'), ('Coryn', 'NN'), (',', 'NN'), ('his', 'NN'), ('disgraceful', 'NN'), ('uncle', 'NN'), (',', 'NN'), ('and', 'NN'), ('get', 'NN'), ('her', 'NN'), ('dear', 'NN'), ('mate', 'NN'), (\"''\", 'NN'), ('s', 'NN'), ('--', 'NN'), ('rest', 'NN'), ('his', 'NN'), ('soul', 'NN'), ('--', 'NN'), ('revenge', 'NN'), ('.', 'NN'), ('Then', 'NN'), (',', 'NN'), ('kill', 'NN'), ('those', 'NN'), ('pathetic', 'NN'), ('owls', 'NN'), ('that', 'NN'), ('were', 'NN'), ('always', 'NN'), ('around', 'NN'), ('Soren', 'NN'), (',', 'NN'), ('and', 'NN'), ('anyone', 'NN'), ('else', 'NN'), ('she', 'NN'), ('comes', 'NN'), ('across', 'NN'), ('in', 'NN'), ('the', 'NN'), ('tree', 'NN'), (',', 'NN'), ('just', 'NN'), ('for', 'NN'), ('a', 'NN'), ('bonus', 'NN'), ('.', 'NN'), ('It', 'NN'), ('would', 'NN'), ('be', 'NN'), ('wonderful', 'NN'), ('to', 'NN'), ('see', 'NN'), ('their', 'NN'), ('pained', 'NN'), (',', 'NN'), ('stupefied', 'NN'), ('faces', 'NN'), ('as', 'NN'), ('she', 'NN'), ('sank', 'NN'), ('her', 'NN'), ('claws', 'NN'), ('through', 'NN'), ('their', 'NN'), ('feathers', 'NN'), (',', 'NN'), ('one', 'NN'), ('by', 'NN'), ('one', 'NN'), ('.', 'NN'), ('Then', 'NN'), ('she', 'NN'), ('saw', 'NN'), ('the', 'NN'), ('hagsfiend', 'NN'), (',', 'NN'), ('and', 'NN'), ('her', 'NN'), ('eyes', 'NN'), ('widened', 'NN'), ('in', 'NN'), ('horror', 'NN'), ('.', 'NN'), ('I', 'NN'), ('am', 'NN'), ('the', 'NN'), ('last', 'NN'), ('!', 'NN'), ('How', 'NN'), ('is', 'NN'), ('this', 'NN'), ('possible', 'NN'), ('?', 'NN'), ('Why', 'NN'), ('is', 'NN'), ('she', 'NN'), ('in', 'NN'), ('that', 'NN'), ('hollow', 'NN'), ('!', 'NN'), ('She', 'NN'), ('could', 'NN'), ('just', 'NN'), ('kill', 'NN'), ('her', 'NN'), ('as', 'NN'), ('well', 'NN'), ('--', 'NN'), ('but', 'NN'), ('her', 'NN'), ('eyes', 'NN'), ('caught', 'NN'), ('something', 'NN'), (',', 'NN'), ('and', 'NN'), ('her', 'NN'), ('gizzard', 'NN'), ('twitched', 'NN'), ('.', 'NN'), ('No', 'NN'), ('...', 'NN'), ('she', 'NN'), (\"''\", 'NN'), ('ll', 'NN'), ('just', 'NN'), ('stay', 'NN'), ('back', 'NN'), ('and', 'NN'), ('observe', 'NN'), ('.', 'NN'), ('This', 'NN'), ('hagsfiend', 'NN'), ('could', 'NN'), ('prove', 'NN'), ('some', 'NN'), ('use', 'NN'), ('to', 'NN'), ('her', 'NN'), ('and', 'NN'), ('...', 'NN'), ('Sadistic', 'NN'), ('impulse', 'NN'), ('shot', 'NN'), ('through', 'NN'), ('Nyra', 'NN'), (\"''\", 'NN'), ('s', 'NN'), ('gizzard', 'NN'), ('.', 'NN'), ('The', 'NN'), ('adoring', 'NN'), ('gleam', 'NN'), ('in', 'NN'), ('the', 'NN'), ('hagsfiend', 'NN'), (\"''\", 'NN'), ('s', 'NN'), ('eye', 'NN'), ('as', 'NN'), ('she', 'NN'), ('stared', 'NN'), ('at', 'NN'), ('Nyroc', 'NN'), ('.', 'NN'), ('No', 'NN'), (',', 'NN'), ('she', 'NN'), (\"''\", 'NN'), ('ll', 'NN'), ('wait', 'NN'), ('.', 'NN'), ('Nyra', 'NN'), ('silently', 'NN'), ('spread', 'NN'), ('her', 'NN'), ('wings', 'NN'), ('and', 'NN'), ('swooped', 'NN'), ('into', 'NN'), ('the', 'NN'), ('night', 'NN'), ('sky', 'NN'), ('.', 'NN'), ('She', 'NN'), ('had', 'NN'), ('plotting', 'NN'), ('to', 'NN'), ('do', 'NN'), ('.', 'NN'), ('PT', 'NN'), (':', 'NN'), ('Please', 'NN'), (',', 'NN'), ('enjoy', 'NN'), (':', 'NN'), (')', 'NN'), ('I', 'NN'), ('hope', 'NN'), ('I', 'NN'), ('can', 'NN'), ('fill', 'NN'), ('up', 'NN'), ('some', 'NN'), ('holes', 'NN'), ('in', 'NN'), ('the', 'NN'), ('story', 'NN'), ('as', 'NN'), ('soon', 'NN'), ('as', 'NN'), ('I', 'NN'), ('can', 'NN'), ('.', 'NN'), ('Though', 'NN'), (',', 'NN'), ('they', 'NN'), (\"''\", 'NN'), ('re', 'NN'), ('there', 'NN'), ('for', 'NN'), ('suspense', 'NN'), ('.', 'NN'), ('Please', 'NN'), ('review', 'NN'), ('!', 'NN'), ('Nothing', 'NN'), (',', 'NN'), ('Yet', 'NN'), ('A', 'NN'), ('Love', 'NN'), ('Never', 'NN'), ('Dying', 'NN'), ('PT', 'NN'), (':', 'NN'), ('THANKS', 'NN'), ('SO', 'NN'), ('MUCH', 'NN'), ('FOR', 'NN'), ('READING', 'NN'), (',', 'NN'), ('EVERYONE', 'NN'), ('!', 'NN'), ('!', 'NN'), ('Enjoy', 'NN'), ('!', 'NN'), ('I', 'NN'), ('have', 'NN'), ('a', 'NN'), ('little', 'NN'), ('more', 'NN'), ('to', 'NN'), ('say', 'NN'), (':', 'NN'), ('I', 'NN'), ('know', 'NN'), ('the', 'NN'), ('last', 'NN'), ('book', 'NN'), ('already', 'NN'), ('came', 'NN'), ('out', 'NN'), (',', 'NN'), ('and', 'NN'), ('I', 'NN'), (\"''\", 'NN'), ('ve', 'NN'), ('finished', 'NN'), ('it', 'NN'), ('already', 'NN'), ('.', 'NN'), ('I', 'NN'), (\"''\", 'NN'), ('m', 'NN'), ('a', 'NN'), ('little', 'NN'), ('stunned', 'NN'), (',', 'NN'), ('but', 'NN'), ('in', 'NN'), ('courtesy', 'NN'), ('of', 'NN'), ('those', 'NN'), ('who', 'NN'), ('have', 'NN'), ('not', 'NN'), ('yet', 'NN'), ('finished', 'NN'), ('it', 'NN'), (',', 'NN'), ('I', 'NN'), ('won', 'NN'), (\"''\", 'NN'), ('t', 'NN'), ('spoil', 'NN'), ('it', 'NN'), ('.', 'NN'), ('However', 'NN'), (',', 'NN'), ('despite', 'NN'), ('the', 'NN'), ('end', 'NN'), (',', 'NN'), ('I', 'NN'), (\"''\", 'NN'), ('m', 'NN'), ('continuing', 'NN'), ('the', 'NN'), ('fic', 'NN'), ('the', 'NN'), ('way', 'NN'), ('it', 'NN'), ('is', 'NN'), ('.', 'NN'), ('I', 'NN'), (\"''\", 'NN'), ('ve', 'NN'), ('just', 'NN'), ('noticed', 'NN'), ('how', 'NN'), ('much', 'NN'), ('I', 'NN'), (\"''\", 'NN'), ('ve', 'NN'), ('been', 'NN'), ('neglecting', 'NN'), ('the', 'NN'), ('story', 'NN'), ('O.o', 'NN'), ('Anyways', 'NN'), (',', 'NN'), ('I', 'NN'), ('was', 'NN'), ('rather', 'NN'), ('...', 'NN'), ('displeased', 'NN'), ('with', 'NN'), ('a', 'NN'), ('few', 'NN'), ('stories', 'NN'), ('stuck', 'NN'), ('in', 'NN'), ('the', 'NN'), ('GoGH', 'NN'), ('fandom', 'NN'), (',', 'NN'), ('and', 'NN'), ('while', 'NN'), ('I', 'NN'), ('was', 'NN'), ('planning', 'NN'), ('to', 'NN'), ('leave', 'NN'), ('it', 'NN'), ('after', 'NN'), ('finishing', 'NN'), ('this', 'NN'), ('fic', 'NN'), (',', 'NN'), ('I', 'NN'), ('might', 'NN'), ('a', 'NN'), ('few', 'NN'), ('more', 'NN'), ('fics', 'NN'), ('for', 'NN'), ('this', 'NN'), ('.', 'NN'), ('Not', 'NN'), ('that', 'NN'), ('I', 'NN'), ('have', 'NN'), ('hubris', 'NN'), ('...', 'NN'), ('I', 'NN'), ('just', 'NN'), ('...', 'NN'), ('don', 'NN'), (\"''\", 'NN'), ('t', 'NN'), ('know', 'NN'), ('...', 'NN'), ('I', 'NN'), ('just', 'NN'), ('think', 'NN'), ('I', 'NN'), (\"''\", 'NN'), ('ll', 'NN'), ('contribute', 'NN'), ('to', 'NN'), ('the', 'NN'), ('fandom', 'NN'), ('with', 'NN'), ('a', 'NN'), ('few', 'NN'), ('fics', 'NN'), ('of', 'NN'), ('angst', 'NN'), (':', 'NN'), ('D', 'NN'), ('Anani', 'NN'), ('Mouse', 'NN'), ('Thank', 'NN'), ('you', 'NN'), (',', 'NN'), ('thank', 'NN'), ('you', 'NN'), ('so', 'NN'), ('much', 'NN'), (':', 'NN'), ('D', 'NN'), ('-Head', 'NN'), ('swells-', 'NN'), ('Frosted', 'NN'), ('Fate', 'NN'), ('Yeah', 'NN'), (',', 'NN'), ('poor', 'NN'), ('Lutta', 'NN'), ('D', 'NN'), (':', 'NN'), ('Wish', 'NN'), ('Hoole', 'NN'), ('ended', 'NN'), ('up', 'NN'), ('with', 'NN'), ('her', 'NN'), ('.', 'NN'), ('One', 'NN'), ('of', 'NN'), ('the', 'NN'), ('Populace', 'NN'), ('Oh', 'NN'), ('...', 'NN'), ('-sobs-', 'NN'), ('Hi', 'NN'), ('!', 'NN'), (':', 'NN'), ('D', 'NN'), ('FlamingSerpent', 'NN'), ('Thanks', 'NN'), ('!', 'NN'), ('I', 'NN'), (\"''\", 'NN'), ('m', 'NN'), ('flattered', 'NN'), ('x', 'NN'), (')', 'NN'), ('True', 'NN'), (',', 'NN'), ('Nyra', 'NN'), (\"''\", 'NN'), ('s', 'NN'), ('so', 'NN'), ('important', 'NN'), ('to', 'NN'), ('the', 'NN'), ('plot', 'NN'), ('--', 'NN'), ('being', 'NN'), ('sadistic', 'NN'), ('and', 'NN'), ('plotting', 'NN'), ('revenge', 'NN'), (',', 'NN'), ('among', 'NN'), ('other', 'NN'), ('things', 'NN'), (':', 'NN'), (')', 'NN'), ('Hawkrain', 'NN'), ('I', 'NN'), (\"''\", 'NN'), ('m', 'NN'), ('glad', 'NN'), ('you', 'NN'), (\"''\", 'NN'), ('re', 'NN'), ('eager', 'NN'), (':', 'NN'), ('D', 'NN'), ('Thanks', 'NN'), ('for', 'NN'), ('reviewing', 'NN'), ('and', 'NN'), ('liking', 'NN'), ('it', 'NN'), ('!', 'NN'), (':', 'NN'), (')', 'NN'), ('Lara-Van', 'NN'), ('Thank', 'NN'), ('you', 'NN'), (',', 'NN'), ('thank', 'NN'), ('you', 'NN'), ('-bows-', 'NN'), ('X', 'NN'), (')', 'NN'), ('It', 'NN'), (\"''\", 'NN'), ('s', 'NN'), ('great', 'NN'), ('that', 'NN'), ('you', 'NN'), ('think', 'NN'), ('that', 'NN'), (';', 'NN'), ('cheered', 'NN'), ('me', 'NN'), ('right', 'NN'), ('up', 'NN'), (';', 'NN'), (')', 'NN'), ('The', 'NN'), ('Great', 'NN'), ('Tree', 'NN'), ('I', 'NN'), ('can', 'NN'), ('make', 'NN'), ('them', 'NN'), ('hurt', 'NN'), ('...', 'NN'), ('My', 'NN'), ('Mum', 'NN'), ('and', 'NN'), ('Da', 'NN'), ('.', 'NN'), ('I', 'NN'), ('can', 'NN'), ('make', 'NN'), ('them', 'NN'), ('feel', 'NN'), ('the', 'NN'), ('pain', 'NN'), ('that', 'NN'), ('they', 'NN'), (\"''\", 'NN'), ('ve', 'NN'), ('put', 'NN'), ('on', 'NN'), ('me', 'NN'), ('.', 'NN'), ('They', 'NN'), ('can', 'NN'), ('hurt', 'NN'), (',', 'NN'), ('and', 'NN'), ('I', 'NN'), (\"''\", 'NN'), ('d', 'NN'), ('be', 'NN'), ('able', 'NN'), ('to', 'NN'), ('do', 'NN'), ('it', 'NN'), ('to', 'NN'), ('them', 'NN'), ('.', 'NN'), ('A', 'NN'), ('change', 'NN'), ('in', 'NN'), ('our', 'NN'), ('positions', 'NN'), ('is', 'NN'), ('want', 'NN'), ('I', 'NN'), ('want', 'NN'), ('so', 'NN'), ('badly', 'NN'), (',', 'NN'), ('and', 'NN'), ('they', 'NN'), (\"''\", 'NN'), ('d', 'NN'), ('taste', 'NN'), ('the', 'NN'), ('bile', 'NN'), ('they', 'NN'), ('stuck', 'NN'), ('in', 'NN'), ('my', 'NN'), ('throat', 'NN'), ('.', 'NN'), ('They', 'NN'), ('left', 'NN'), ('me', 'NN'), ('...', 'NN'), ('they', 'NN'), ('left', 'NN'), ('me', 'NN'), (',', 'NN'), ('their', 'NN'), ('chick', 'NN'), ('Lutta', 'NN'), ('.', 'NN'), ('Theirs', 'NN'), ('.', 'NN'), ('I', 'NN'), ('have', 'NN'), ('the', 'NN'), ('power', 'NN'), ('now', 'NN'), ('--', 'NN'), ('to', 'NN'), ('make', 'NN'), ('them', 'NN'), ('hurt', 'NN'), ('.', 'NN'), ('I', 'NN'), ('can', 'NN'), ('make', 'NN'), ('them', 'NN'), ('hurt', 'NN'), ('.', 'NN'), ('I', 'NN'), ('can', 'NN'), ('make', 'NN'), ('them', 'NN'), ('hurt', 'NN'), ('...', 'NN'), ('``', 'NN'), ('Lutta', 'NN'), ('!', 'NN'), (\"''\", 'NN'), ('Stop', 'NN'), ('slapping', 'NN'), ('me', 'NN'), ('.', 'NN'), ('``', 'NN'), ('Lutta', 'NN'), (',', 'NN'), ('wake', 'NN'), ('up', 'NN'), ('!', 'NN'), (\"''\", 'NN'), ('Slap', 'NN'), ('.', 'NN'), ('Stop', 'NN'), ('slapping', 'NN'), ('me', 'NN'), ('with', 'NN'), ('your', 'NN'), ('wing', 'NN'), (',', 'NN'), ('it', 'NN'), ('stings', 'NN'), ('.', 'NN'), ('Slap', 'NN'), ('.', 'NN'), ('Slap', 'NN'), ('.', 'NN'), ('``', 'NN'), ('WAKE', 'NN'), ('UP', 'NN'), (',', 'NN'), ('Lutta', 'NN'), ('.', 'NN'), (\"''\", 'NN'), ('Slap', 'NN'), ('.', 'NN'), ('Slap', 'NN'), ('.', 'NN'), ('Stop', 'NN'), ('it', 'NN'), ('!', 'NN'), ('I', 'NN'), (\"''\", 'NN'), ('m', 'NN'), ('trying', 'NN'), ('to', 'NN'), ('--', 'NN'), ('``', 'NN'), ('Lutta', 'NN'), (',', 'NN'), ('please', 'NN'), ('!', 'NN'), (\"''\", 'NN'), ('...', 'NN'), ('Hoole', 'NN'), ('?', 'NN'), ('Hoole', 'NN'), (\"''\", 'NN'), ('s', 'NN'), ('voice', 'NN'), ('!', 'NN'), ('I', 'NN'), ('flick', 'NN'), ('my', 'NN'), ('eyelids', 'NN'), ('open', 'NN'), ('--', 'NN'), ('all', 'NN'), ('four', 'NN'), ('of', 'NN'), ('them', 'NN'), ('--', 'NN'), ('at', 'NN'), ('the', 'NN'), ('same', 'NN'), ('time', 'NN'), ('.', 'NN'), ('Hoole', 'NN'), ('?', 'NN'), ('No', 'NN'), (',', 'NN'), ('it', 'NN'), (\"''\", 'NN'), ('s', 'NN'), ('Coryn', 'NN'), ('.', 'NN'), ('Just', 'NN'), ('Coryn', 'NN'), ('.', 'NN'), ('``', 'NN'), ('Lutta', 'NN'), (',', 'NN'), ('are', 'NN'), ('you', 'NN'), ('all', 'NN'), ('right', 'NN'), ('?', 'NN'), (\"''\", 'NN'), ('The', 'NN'), ('way', 'NN'), ('he', 'NN'), ('looks', 'NN'), ('at', 'NN'), ('me', 'NN'), ('...', 'NN'), ('it', 'NN'), (\"''\", 'NN'), ('s', 'NN'), ('like', 'NN'), ('Hoole', 'NN'), ('.', 'NN'), ('So', 'NN'), ('much', 'NN'), ('like', 'NN'), ('Hoole', 'NN'), ('.', 'NN'), ('``', 'NN'), ('I', 'NN'), (\"''\", 'NN'), ('m', 'NN'), ('fine', 'NN'), (',', 'NN'), (\"''\", 'NN'), ('I', 'NN'), ('answer', 'NN'), (',', 'NN'), ('and', 'NN'), ('immediately', 'NN'), ('scan', 'NN'), ('my', 'NN'), ('surroundings', 'NN'), ('.', 'NN'), ('Perhaps', 'NN'), ('I', 'NN'), ('have', 'NN'), ('become', 'NN'), ('overly', 'NN'), ('paranoid', 'NN'), ('with', 'NN'), ('time', 'NN'), (',', 'NN'), ('but', 'NN'), ('I', 'NN'), ('can', 'NN'), (\"''\", 'NN'), ('t', 'NN'), ('be', 'NN'), ('sure', 'NN'), ('.', 'NN'), ('In', 'NN'), ('any', 'NN'), ('case', 'NN'), (',', 'NN'), ('I', 'NN'), ('can', 'NN'), (\"''\", 'NN'), ('t', 'NN'), ('let', 'NN'), ('my', 'NN'), ('guard', 'NN'), ('down', 'NN'), ('in', 'NN'), ('this', 'NN'), ('case', 'NN'), (';', 'NN'), ('I', 'NN'), ('could', 'NN'), ('find', 'NN'), ('myself', 'NN'), ('dead', 'NN'), ('in', 'NN'), ('a', 'NN'), ('second', 'NN'), (',', 'NN'), ('just', 'NN'), ('like', 'NN'), ('that', 'NN'), ('I', 'NN'), ('died', 'NN'), ('in', 'NN'), ('an', 'NN'), ('instant', 'NN'), ('--', 'NN'), ('killed', 'NN'), ('by', 'NN'), ('Strix', 'NN'), ('Strumajen', 'NN'), ('.', 'NN'), ('I', 'NN'), ('shudder', 'NN'), (',', 'NN'), ('remembering', 'NN'), ('the', 'NN'), ('memory', 'NN'), ('of', 'NN'), ('being', 'NN'), ('ripped', 'NN'), ('.', 'NN'), ('Ripping', 'NN'), (',', 'NN'), ('ripping', 'NN'), (',', 'NN'), ('tearing', 'NN'), (',', 'NN'), ('blood', 'NN'), (',', 'NN'), ('pain', 'NN'), ('--', 'NN'), ('Death', 'NN'), ('.', 'NN'), ('And', 'NN'), ('then', 'NN'), ('...', 'NN'), ('Well', 'NN'), (',', 'NN'), ('I', 'NN'), ('don', 'NN'), (\"''\", 'NN'), ('t', 'NN'), ('want', 'NN'), ('to', 'NN'), ('think', 'NN'), ('about', 'NN'), ('what', 'NN'), ('I', 'NN'), ('don', 'NN'), (\"''\", 'NN'), ('t', 'NN'), ('remember', 'NN'), ('.', 'NN'), ('After', 'NN'), ('that', 'NN'), (',', 'NN'), ('there', 'NN'), ('was', 'NN'), ('nothing', 'NN'), ('but', 'NN'), ('a', 'NN'), ('cluster', 'NN'), ('of', 'NN'), ('memories', 'NN'), ('of', 'NN'), ('what', 'NN'), ('happened', 'NN'), ('within', 'NN'), ('death', 'NN'), ('--', 'NN'), ('Falling', 'NN'), ('.', 'NN'), ('Falling', 'NN'), ('...', 'NN'), ('Floating', 'NN'), ('...', 'NN'), ('unraveling', 'NN'), ('...', 'NN'), ('flowing', 'NN'), ('through', 'NN'), ('the', 'NN'), ('winds', 'NN'), ('...', 'NN'), ('becoming', 'NN'), ('one', 'NN'), ('with', 'NN'), ('nature', 'NN'), ('...', 'NN'), ('then', 'NN'), ('falling', 'NN'), ('...', 'NN'), ('.', 'NN'), ('Falling', 'NN'), (',', 'NN'), ('falling', 'NN'), ('downwards', 'NN'), (',', 'NN'), ('a', 'NN'), ('curse', 'NN'), ('uttered', 'NN'), ('upon', 'NN'), ('my', 'NN'), ('kind', 'NN'), (':', 'NN'), ('``', 'NN'), ('To', 'NN'), ('hagsmire', 'NN'), ('.', 'NN'), (\"''\", 'NN'), ('Hagsmire', 'NN'), (',', 'NN'), ('where', 'NN'), ('the', 'NN'), ('ones', 'NN'), ('who', 'NN'), ('have', 'NN'), ('sinned', 'NN'), ('within', 'NN'), ('their', 'NN'), ('lives', 'NN'), ('went', 'NN'), (',', 'NN'), ('for', 'NN'), ('eternal', 'NN'), ('damnation', 'NN'), ('.', 'NN'), ('Hagsmire', 'NN'), (',', 'NN'), ('for', 'NN'), ('hagsfiends', 'NN'), (',', 'NN'), ('and', 'NN'), ('...', 'NN'), ('and', 'NN'), ('...', 'NN'), ('Nothings', 'NN'), ('.', 'NN'), ('Nothings', 'NN'), ('--', 'NN'), ('they', 'NN'), ('who', 'NN'), ('mean', 'NN'), ('nothing', 'NN'), ('to', 'NN'), ('the', 'NN'), ('world', 'NN'), (',', 'NN'), ('who', 'NN'), ('should', 'NN'), ('never', 'NN'), ('have', 'NN'), ('entered', 'NN'), ('this', 'NN'), ('life', 'NN'), (',', 'NN'), ('this', 'NN'), ('realm', 'NN'), ('of', 'NN'), ('breathing', 'NN'), ('.', 'NN'), ('Falling', 'NN'), (',', 'NN'), ('agony', 'NN'), (',', 'NN'), ('curses', 'NN'), (',', 'NN'), ('darkness', 'NN'), (',', 'NN'), ('cold', 'NN'), ('hate', 'NN'), ('.', 'NN'), ('Those', 'NN'), ('flaws', 'NN'), ('of', 'NN'), ('what', 'NN'), ('life', 'NN'), ('and', 'NN'), ('death', 'NN'), ('decide', 'NN'), ('.', 'NN'), ('And', 'NN'), ('nothings', 'NN'), ('.', 'NN'), ('Nothings', 'NN'), (',', 'NN'), ('like', 'NN'), ('me', 'NN'), ('.', 'NN'), ('Nothing', 'NN'), ('.', 'NN'), ('Snap', 'NN'), ('out', 'NN'), ('of', 'NN'), ('it', 'NN'), ('.', 'NN'), ('I', 'NN'), ('don', 'NN'), (\"''\", 'NN'), ('t', 'NN'), ('want', 'NN'), ('to', 'NN'), ('remember', 'NN'), ('.', 'NN'), ('Of', 'NN'), ('being', 'NN'), ('one', 'NN'), ('of', 'NN'), ('the', 'NN'), ('damned', 'NN'), ('.', 'NN'), ('And', 'NN'), ('now', 'NN'), ('I', 'NN'), (\"''\", 'NN'), ('m', 'NN'), ('back', 'NN'), ('.', 'NN'), ('Why', 'NN'), ('?', 'NN'), ('``', 'NN'), ('Lutta', 'NN'), ('?', 'NN'), (\"''\", 'NN'), ('--', 'NN'), ('and', 'NN'), ('I', 'NN'), ('look', 'NN'), ('up', 'NN'), ('.', 'NN'), ('Hoole', 'NN'), ('--', 'NN'), ('no', 'NN'), (',', 'NN'), ('Coryn', 'NN'), ('.', 'NN'), ('Coryn', 'NN'), (',', 'NN'), ('the', 'NN'), ('Barn', 'NN'), ('Owl', 'NN'), ('.', 'NN'), ('Unconsciously', 'NN'), (',', 'NN'), ('I', 'NN'), ('stare', 'NN'), ('at', 'NN'), ('him', 'NN'), ('with', 'NN'), ('huge', 'NN'), ('eyes', 'NN'), ('that', 'NN'), ('deserve', 'NN'), ('to', 'NN'), ('pop', 'NN'), ('out', 'NN'), ('of', 'NN'), ('their', 'NN'), ('sockets', 'NN'), ('.', 'NN'), ('``', 'NN'), ('Yes', 'NN'), ('?', 'NN'), (\"''\", 'NN'), ('I', 'NN'), ('say', 'NN'), ('.', 'NN'), ('Oh', 'NN'), ('Coryn', 'NN'), (',', 'NN'), ('please', 'NN'), ('don', 'NN'), (\"''\", 'NN'), ('t', 'NN'), ('look', 'NN'), ('at', 'NN'), ('me', 'NN'), ('like', 'NN'), ('that', 'NN'), ('.', 'NN'), ('You', 'NN'), ('look', 'NN'), ('like', 'NN'), ('Hoole', 'NN'), (',', 'NN'), ('please', 'NN'), (',', 'NN'), ('don', 'NN'), (\"''\", 'NN'), ('t', 'NN'), ('look', 'NN'), ('sympathic', 'NN'), ('...', 'NN'), ('please', 'NN'), ('don', 'NN'), (\"''\", 'NN'), ('t', 'NN'), ('...', 'NN'), ('I', 'NN'), ('want', 'NN'), ('it', 'NN'), ('but', 'NN'), ('you', 'NN'), ('don', 'NN'), (\"''\", 'NN'), ('t', 'NN'), ('have', 'NN'), ('to', 'NN'), ('give', 'NN'), ('it', 'NN'), ('.', 'NN'), ('Can', 'NN'), ('you', 'NN'), ('not', 'NN'), ('see', 'NN'), ('that', 'NN'), ('my', 'NN'), ('heart', 'NN'), ('has', 'NN'), ('already', 'NN'), ('been', 'NN'), ('broken', 'NN'), ('?', 'NN'), ('``', 'NN'), ('Lutta', 'NN'), (',', 'NN'), (\"''\", 'NN'), ('he', 'NN'), ('says', 'NN'), (',', 'NN'), ('softly', 'NN'), (',', 'NN'), ('and', 'NN'), ('gives', 'NN'), ('me', 'NN'), ('a', 'NN'), ('tender', 'NN'), ('nudge', 'NN'), ('with', 'NN'), ('his', 'NN'), ('wing', 'NN'), ('.', 'NN'), ('``', 'NN'), ('Can', 'NN'), ('you', 'NN'), ('stand', 'NN'), ('?', 'NN'), (\"''\", 'NN'), ('I', 'NN'), ('nod', 'NN'), (',', 'NN'), ('because', 'NN'), ('I', 'NN'), ('can', 'NN'), ('not', 'NN'), ('find', 'NN'), ('myself', 'NN'), ('shaking', 'NN'), ('my', 'NN'), ('head', 'NN'), ('.', 'NN'), ('``', 'NN'), ('Yes', 'NN'), ('.', 'NN'), (\"''\", 'NN'), ('Can', 'NN'), ('my', 'NN'), ('legs', 'NN'), ('work', 'NN'), ('?', 'NN'), ('He', 'NN'), ('steps', 'NN'), ('back', 'NN'), ('slightly', 'NN'), (',', 'NN'), ('to', 'NN'), ('give', 'NN'), ('me', 'NN'), ('room', 'NN'), (',', 'NN'), ('and', 'NN'), ('I', 'NN'), ('try', 'NN'), ('to', 'NN'), ('remember', 'NN'), ('how', 'NN'), ('to', 'NN'), ('use', 'NN'), ('legs', 'NN'), ('again', 'NN'), ('.', 'NN'), ('Now', 'NN'), (',', 'NN'), ('I', 'NN'), ('just', 'NN'), ('...', 'NN'), ('position', 'NN'), ('them', 'NN'), ('...', 'NN'), ('and', 'NN'), ('push', 'NN'), ('upwards', 'NN'), ('...', 'NN'), ('A', 'NN'), ('searing', 'NN'), ('pain', 'NN'), ('.', 'NN'), ('My', 'NN'), ('legs', 'NN'), ('!', 'NN'), ('They', 'NN'), ('hurt', 'NN'), ('!', 'NN'), ('They', 'NN'), ('hurt', 'NN'), ('!', 'NN'), ('Fall', 'NN'), ('down', 'NN'), ('again', 'NN'), ('--', 'NN'), ('No', 'NN'), (',', 'NN'), ('I', 'NN'), ('can', 'NN'), (\"''\", 'NN'), ('t.', 'NN'), ('I', 'NN'), ('can', 'NN'), (\"''\", 'NN'), ('t', 'NN'), ('fall', 'NN'), (';', 'NN'), ('I', 'NN'), (\"''\", 'NN'), ('ve', 'NN'), ('told', 'NN'), ('Coryn', 'NN'), ('that', 'NN'), ('I', 'NN'), ('will', 'NN'), ('stand', 'NN'), (',', 'NN'), ('will', 'NN'), ('be', 'NN'), ('able', 'NN'), (',', 'NN'), ('and', 'NN'), ('I', 'NN'), ('will', 'NN'), ('not', 'NN'), ('lie', 'NN'), (';', 'NN'), ('not', 'NN'), ('anymore', 'NN'), (';', 'NN'), ('I', 'NN'), ('have', 'NN'), ('already', 'NN'), ('lied', 'NN'), ('and', 'NN'), ('tricked', 'NN'), ('Hoole', 'NN'), (',', 'NN'), ('I', 'NN'), ('will', 'NN'), ('not', 'NN'), ('do', 'NN'), ('so', 'NN'), ('again', 'NN'), (',', 'NN'), ('not', 'NN'), ('to', 'NN'), ('any', 'NN'), ('owl', 'NN'), ('.', 'NN'), ('Nor', 'NN'), ('this', 'NN'), ('owl', 'NN'), ('.', 'NN'), ('This', 'NN'), ('owl', 'NN'), (',', 'NN'), ('who', 'NN'), ('stares', 'NN'), ('with', 'NN'), ('the', 'NN'), ('eyes', 'NN'), ('of', 'NN'), ('a', 'NN'), ('true', 'NN'), ('king', 'NN'), ('.', 'NN'), ('A', 'NN'), ('young', 'NN'), ('king', 'NN'), (',', 'NN'), ('but', 'NN'), ('a', 'NN'), ('wise', 'NN'), ('one', 'NN'), (',', 'NN'), ('and', 'NN'), ('a', 'NN'), ('good', 'NN'), ('one', 'NN'), ('.', 'NN'), ('With', 'NN'), ('difficulty', 'NN'), (',', 'NN'), ('I', 'NN'), ('stagger', 'NN'), ('forward', 'NN'), (',', 'NN'), ('out', 'NN'), ('of', 'NN'), ('the', 'NN'), ('small', 'NN'), ('nest', 'NN'), ('.', 'NN'), ('I', 'NN'), ('feel', 'NN'), ('the', 'NN'), ('bark', 'NN'), ('underneath', 'NN'), ('my', 'NN'), ('claws', 'NN'), ('as', 'NN'), ('I', 'NN'), ('step', 'NN'), ('on', 'NN'), ('it', 'NN'), (';', 'NN'), ('bark', 'NN'), ('again', 'NN'), (',', 'NN'), ('how', 'NN'), ('it', 'NN'), ('brings', 'NN'), ('back', 'NN'), ('thoughts', 'NN'), ('of', 'NN'), ('those', 'NN'), ('days', 'NN'), ('.', 'NN'), ('It', 'NN'), ('feels', 'NN'), ('a', 'NN'), ('bit', 'NN'), ('unfamiliar', 'NN'), (',', 'NN'), ('but', 'NN'), ('I', 'NN'), ('can', 'NN'), ('not', 'NN'), ('forget', 'NN'), ('bark', 'NN'), ('.', 'NN'), ('Such', 'NN'), ('a', 'NN'), ('thing', 'NN'), ('is', 'NN'), ('pathetic', 'NN'), ('.', 'NN'), ('I', 'NN'), ('feel', 'NN'), ('my', 'NN'), ('legs', 'NN'), ('quivering', 'NN'), (',', 'NN'), ('wanting', 'NN'), ('to', 'NN'), ('give', 'NN'), ('way', 'NN'), (',', 'NN'), ('but', 'NN'), ('no', 'NN'), ('.', 'NN'), ('No', 'NN'), ('.', 'NN'), ('I', 'NN'), ('have', 'NN'), ('said', 'NN'), ('that', 'NN'), ('I', 'NN'), ('will', 'NN'), ('stand', 'NN'), ('.', 'NN'), ('How', 'NN'), ('they', 'NN'), ('quiver', 'NN'), ('!', 'NN'), ('--', 'NN'), ('stop', 'NN'), ('it', 'NN'), ('.', 'NN'), ('Stop', 'NN'), ('quivering', 'NN'), ('!', 'NN'), ('I', 'NN'), ('have', 'NN'), ('said', 'NN'), ('I', 'NN'), ('will', 'NN'), ('walk', 'NN'), (',', 'NN'), ('and', 'NN'), ('I', 'NN'), ('will', 'NN'), ('walk', 'NN'), (',', 'NN'), ('even', 'NN'), ('if', 'NN'), ('this', 'NN'), ('pain', 'NN'), ('continues', 'NN'), ('--', 'NN'), ('like', 'NN'), ('fire', 'NN'), ('searing', 'NN'), ('at', 'NN'), ('me', 'NN'), (',', 'NN'), ('numbing', 'NN'), ('in', 'NN'), ('a', 'NN'), ('way', 'NN'), ('.', 'NN'), ('I', 'NN'), ('will', 'NN'), ('not', 'NN'), ('lie', 'NN'), ('again', 'NN'), ('.', 'NN'), ('Deception', 'NN'), ('has', 'NN'), ('torn', 'NN'), ('me', 'NN'), ('once', 'NN'), ('before', 'NN'), (';', 'NN'), ('never', 'NN'), ('again', 'NN'), ('.', 'NN'), ('I', 'NN'), ('look', 'NN'), ('at', 'NN'), ('Coryn', 'NN'), (',', 'NN'), ('see', 'NN'), ('the', 'NN'), ('concern', 'NN'), ('in', 'NN'), ('his', 'NN'), ('eyes', 'NN'), (';', 'NN'), ('he', 'NN'), ('hesitates', 'NN'), ('to', 'NN'), ('step', 'NN'), ('forward', 'NN'), (',', 'NN'), ('wanting', 'NN'), ('to', 'NN'), ('help', 'NN'), ('.', 'NN'), ('No', 'NN'), (',', 'NN'), ('I', 'NN'), ('can', 'NN'), ('do', 'NN'), ('it', 'NN'), ('.', 'NN'), ('Please', 'NN'), ('.', 'NN'), ('Let', 'NN'), ('me', 'NN'), ('.', 'NN'), ('I', 'NN'), ('walk', 'NN'), (',', 'NN'), ('a', 'NN'), ('little', 'NN'), ('faster', 'NN'), (',', 'NN'), ('wanting', 'NN'), ('my', 'NN'), ('legs', 'NN'), ('to', 'NN'), ('stride', 'NN'), ('.', 'NN'), ('They', 'NN'), ('work', 'NN'), (',', 'NN'), ('a', 'NN'), ('little', 'NN'), ('better', 'NN'), ('.', 'NN'), ('I', 'NN'), ('look', 'NN'), ('at', 'NN'), ('Coryn', 'NN'), ('again', 'NN'), (',', 'NN'), ('and', 'NN'), ('I', 'NN'), ('ask', 'NN'), (',', 'NN'), ('``', 'NN'), ('Where', 'NN'), ('am', 'NN'), ('I', 'NN'), ('?', 'NN'), (\"''\", 'NN'), ('``', 'NN'), ('The', 'NN'), ('Great', 'NN'), ('Ga', 'NN'), (\"''\", 'NN'), ('Hoole', 'NN'), ('Tree', 'NN'), ('.', 'NN'), (\"''\", 'NN'), ('Silence', 'NN'), ('.', 'NN'), ('My', 'NN'), ('breathe', 'NN'), ('hitches', 'NN'), ('quickly', 'NN'), ('.', 'NN'), ('``', 'NN'), ('The', 'NN'), ('...', 'NN'), (\"''\", 'NN'), ('I', 'NN'), ('pause', 'NN'), (',', 'NN'), ('mind', 'NN'), ('spinning', 'NN'), ('and', 'NN'), ('reeling', 'NN'), ('.', 'NN'), ('The', 'NN'), ('Tree', 'NN'), ('?', 'NN'), ('The', 'NN'), ('Great', 'NN'), ('Ga', 'NN'), (\"''\", 'NN'), ('Hoole', 'NN'), ('Tree', 'NN'), (',', 'NN'), ('that', 'NN'), ('was', 'NN'), ('reigned', 'NN'), ('over', 'NN'), ('by', 'NN'), ('...', 'NN'), ('Hoole', 'NN'), ('?', 'NN'), ('``', 'NN'), ('Tree', 'NN'), ('?', 'NN'), (\"''\", 'NN'), ('The', 'NN'), ('Tree', 'NN'), ('.', 'NN'), ('The', 'NN'), ('Great', 'NN'), ('Ga', 'NN'), (\"''\", 'NN'), ('Hoole', 'NN'), ('Tree', 'NN'), ('.', 'NN'), ('And', 'NN'), ('my', 'NN'), ('mind', 'NN'), ('explodes', 'NN'), ('.', 'NN'), ('``', 'NN'), ('Th', 'NN'), ('--', 'NN'), ('Then', 'NN'), ('!', 'NN'), (\"''\", 'NN'), ('I', 'NN'), ('jump', 'NN'), ('as', 'NN'), ('I', 'NN'), ('begin', 'NN'), ('stuttering', 'NN'), ('.', 'NN'), ('``', 'NN'), ('The', 'NN'), ('Ga', 'NN'), (\"''\", 'NN'), ('Hoole', 'NN'), ('Tree', 'NN'), ('!', 'NN'), ('I', 'NN'), ('--', 'NN'), ('I', 'NN'), ('don', 'NN'), (\"''\", 'NN'), ('t', 'NN'), ('belong', 'NN'), ('here', 'NN'), ('!', 'NN'), ('I', 'NN'), ('am', 'NN'), ('nothing', 'NN'), ('!', 'NN'), ('I', 'NN'), ('lo', 'NN'), ('--', 'NN'), ('``', 'NN'), ('Hoole', 'NN'), (',', 'NN'), ('he', 'NN'), ('...', 'NN'), ('NO', 'NN'), ('!', 'NN'), ('I', 'NN'), ('am', 'NN'), ('a', 'NN'), ('disgrace', 'NN'), ('!', 'NN'), ('My', 'NN'), ('presence', 'NN'), ('is', 'NN'), ('dirtying', 'NN'), ('this', 'NN'), ('tree', 'NN'), ('!', 'NN'), (\"''\", 'NN'), ('I', 'NN'), ('back', 'NN'), ('away', 'NN'), (',', 'NN'), ('seeking', 'NN'), ('some', 'NN'), ('sort', 'NN'), ('of', 'NN'), ('exit', 'NN'), ('.', 'NN'), ('I', 'NN'), ('don', 'NN'), (\"''\", 'NN'), ('t', 'NN'), ('belong', 'NN'), ('here', 'NN'), ('.', 'NN'), ('No', 'NN'), ('.', 'NN'), ('I', 'NN'), ('am', 'NN'), ('defiling', 'NN'), ('the', 'NN'), ('Tree', 'NN'), ('.', 'NN'), ('How', 'NN'), ('long', 'NN'), ('has', 'NN'), ('it', 'NN'), ('been', 'NN'), ('since', 'NN'), ('the', 'NN'), ('last', 'NN'), ('time', 'NN'), ('I', 'NN'), ('was', 'NN'), ('here', 'NN'), ('?', 'NN'), ('I', 'NN'), ('deceived', 'NN'), ('the', 'NN'), ('good', 'NN'), ('king', 'NN'), (',', 'NN'), ('I', 'NN'), ('nearly', 'NN'), ('killed', 'NN'), ('him', 'NN'), ('--', 'NN'), ('he', 'NN'), ('was', 'NN'), ('a', 'NN'), ('great', 'NN'), ('king', 'NN'), (',', 'NN'), ('and', 'NN'), ('a', 'NN'), ('great', 'NN'), ('owl', 'NN'), ('!', 'NN'), ('I', 'NN'), ('don', 'NN'), (\"''\", 'NN'), ('t', 'NN'), ('deserve', 'NN'), ('to', 'NN'), ('be', 'NN'), ('here', 'NN'), ('!', 'NN'), ('How', 'NN'), ('many', 'NN'), ('good', 'NN'), ('owls', 'NN'), ('reside', 'NN'), ('in', 'NN'), ('this', 'NN'), ('tree', 'NN'), ('now', 'NN'), (',', 'NN'), ('the', 'NN'), ('Tree', 'NN'), ('that', 'NN'), ('was', 'NN'), ('grown', 'NN'), ('by', 'NN'), ('--', 'NN'), ('as', 'NN'), ('rumor', 'NN'), ('says', 'NN'), ('--', 'NN'), ('the', 'NN'), ('sorrow', 'NN'), ('and', 'NN'), ('goodness', 'NN'), ('of', 'NN'), ('Hoole', 'NN'), ('?', 'NN'), ('I', 'NN'), ('don', 'NN'), (\"''\", 'NN'), ('t', 'NN'), ('belong', 'NN'), ('here', 'NN'), ('!', 'NN'), ('Coryn', 'NN'), ('jumps', 'NN'), ('now', 'NN'), ('.', 'NN'), ('Please', 'NN'), (',', 'NN'), ('no', 'NN'), ('!', 'NN'), ('``', 'NN'), ('Lutta', 'NN'), ('!', 'NN'), (\"''\", 'NN'), ('he', 'NN'), ('says', 'NN'), (',', 'NN'), ('eyes', 'NN'), ('flashing', 'NN'), ('with', 'NN'), ('some', 'NN'), ('sort', 'NN'), ('of', 'NN'), ('fire', 'NN'), ('that', 'NN'), ('started', 'NN'), ('.', 'NN'), ('``', 'NN'), ('You', 'NN'), ('are', 'NN'), ('not', 'NN'), ('!', 'NN'), (\"''\", 'NN'), ('Not', 'NN'), ('?', 'NN'), ('But', 'NN'), ('...', 'NN'), ('Hoole', 'NN'), ('!', 'NN'), ('Hoole', 'NN'), ('!', 'NN'), ('--', 'NN'), ('please', 'NN'), ('no', 'NN'), ('!', 'NN'), ('You', 'NN'), ('--', 'NN'), ('!', 'NN'), ('I', 'NN'), ('stare', 'NN'), (',', 'NN'), ('transfixed', 'NN'), (',', 'NN'), ('as', 'NN'), ('I', 'NN'), ('see', 'NN'), ('Coryn', 'NN'), ('change', 'NN'), ('.', 'NN'), ('I', 'NN'), ('don', 'NN'), (\"''\", 'NN'), ('t', 'NN'), ('see', 'NN'), ('Coryn', 'NN'), ('anymore', 'NN'), ('.', 'NN'), ('I', 'NN'), ('see', 'NN'), ('...', 'NN'), ('you', 'NN'), ('.', 'NN'), ('Hoole', 'NN'), ('.', 'NN'), ('Eyes', 'NN'), (',', 'NN'), ('eyes', 'NN'), ('that', 'NN'), ('spoke', 'NN'), ('of', 'NN'), ('what', 'NN'), ('you', 'NN'), ('believed', 'NN'), ('in', 'NN'), ('.', 'NN'), ('Your', 'NN'), ('sense', 'NN'), ('of', 'NN'), ('love', 'NN'), ('for', 'NN'), ('those', 'NN'), ('close', 'NN'), ('to', 'NN'), ('you', 'NN'), (',', 'NN'), ('your', 'NN'), ('fiery', 'NN'), ('will', 'NN'), ('that', 'NN'), ('would', 'NN'), ('see', 'NN'), ('indiscrimation', 'NN'), ('to', 'NN'), ('the', 'NN'), ('very', 'NN'), ('end', 'NN'), ('.', 'NN'), ('I', 'NN'), (\"''\", 'NN'), ('m', 'NN'), ('sorry', 'NN'), ('Hoole', 'NN'), ('!', 'NN'), ('I', 'NN'), ('deceived', 'NN'), ('you', 'NN'), ('!', 'NN'), ('I', 'NN'), ('am', 'NN'), ('everything', 'NN'), ('you', 'NN'), ('are', 'NN'), ('not', 'NN'), ('!', 'NN'), ('--', 'NN'), ('and', 'NN'), ('should', 'NN'), ('not', 'NN'), ('be', 'NN'), ('!', 'NN'), ('I', 'NN'), ('am', 'NN'), ('NOTHING', 'NN'), ('!', 'NN'), ('I', 'NN'), ('back', 'NN'), ('away', 'NN'), (',', 'NN'), ('seeing', 'NN'), ('Hoole', 'NN'), ('.', 'NN'), ('He', 'NN'), ('steps', 'NN'), ('forward', 'NN'), (',', 'NN'), ('that', 'NN'), ('look', 'NN'), ('in', 'NN'), ('his', 'NN'), ('eyes', 'NN'), ('--', 'NN'), ('``', 'NN'), ('You', 'NN'), ('deserve', 'NN'), ('to', 'NN'), ('be', 'NN'), ('here', 'NN'), ('!', 'NN'), ('You', 'NN'), ('--', 'NN'), (\"''\", 'NN'), ('I', 'NN'), ('stumble', 'NN'), ('backwards', 'NN'), ('as', 'NN'), ('I', 'NN'), ('shriek', 'NN'), (',', 'NN'), ('``', 'NN'), ('Hoole', 'NN'), ('!', 'NN'), ('Don', 'NN'), (\"''\", 'NN'), ('t', 'NN'), ('!', 'NN'), ('Don', 'NN'), (\"''\", 'NN'), ('t', 'NN'), ('you', 'NN'), ('understand', 'NN'), ('!', 'NN'), (\"''\", 'NN'), ('Now', 'NN'), ('is', 'NN'), ('my', 'NN'), ('time', 'NN'), ('to', 'NN'), ('confess', 'NN'), ('!', 'NN'), ('I', 'NN'), ('never', 'NN'), ('told', 'NN'), ('him', 'NN'), ('that', 'NN'), ('I', 'NN'), ('was', 'NN'), ('--', 'NN'), ('I', 'NN'), (\"''\", 'NN'), ('m', 'NN'), ('sorry', 'NN'), ('Hoole', 'NN'), ('.', 'NN'), ('I', 'NN'), (\"''\", 'NN'), ('m', 'NN'), ('so', 'NN'), ('sorry', 'NN'), ('!', 'NN'), ('``', 'NN'), ('Lutta', 'NN'), ('!', 'NN'), (\"''\", 'NN'), ('The', 'NN'), ('owl', 'NN'), ('before', 'NN'), ('me', 'NN'), ('is', 'NN'), ('--', 'NN'), ('He', 'NN'), (\"''\", 'NN'), ('s', 'NN'), ('pleading', 'NN'), ('!', 'NN'), ('No', 'NN'), (',', 'NN'), ('I', 'NN'), ('don', 'NN'), (\"''\", 'NN'), ('t', 'NN'), ('deserve', 'NN'), ('it', 'NN'), ('!', 'NN'), ('``', 'NN'), ('Lutta', 'NN'), (',', 'NN'), ('you', 'NN'), ('do', 'NN'), ('!', 'NN'), ('Just', 'NN'), ('as', 'NN'), ('any', 'NN'), ('owl', 'NN'), ('!', 'NN'), (\"''\", 'NN'), ('My', 'NN'), ('gizzard', 'NN'), ('throbs', 'NN'), (',', 'NN'), ('beating', 'NN'), ('against', 'NN'), ('its', 'NN'), ('surroundings', 'NN'), ('.', 'NN'), ('I', 'NN'), ('stare', 'NN'), ('upwards', 'NN'), (',', 'NN'), ('feeling', 'NN'), ('it', 'NN'), ('grow', 'NN'), ('cold', 'NN'), ('.', 'NN'), ('``', 'NN'), ('NO', 'NN'), ('!', 'NN'), ('I', 'NN'), ('DON', 'NN'), (\"''\", 'NN'), ('T', 'NN'), ('DESERVE', 'NN'), ('TO', 'NN'), ('BE', 'NN'), ('HERE', 'NN'), ('!', 'NN'), ('I', 'NN'), ('AM', 'NN'), ('NOTHING', 'NN'), ('!', 'NN'), ('I', 'NN'), ('--', 'NN'), ('DO', 'NN'), ('--', 'NN'), ('NOT', 'NN'), ('--', 'NN'), ('BELONG', 'NN'), ('--', 'NN'), ('HERE', 'NN'), ('!', 'NN'), ('I', 'NN'), ('AM', 'NN'), ('...', 'NN'), (\"''\", 'NN'), ('My', 'NN'), ('gizzard', 'NN'), ('gives', 'NN'), ('a', 'NN'), ('jerk', 'NN'), ('.', 'NN'), ('My', 'NN'), ('throat', 'NN'), ('fills', 'NN'), ('with', 'NN'), ('pebbles', 'NN'), (';', 'NN'), ('``', 'NN'), ('Nothing', 'NN'), ('...', 'NN'), ('.', 'NN'), (\"''\", 'NN'), ('My', 'NN'), ('words', 'NN'), ('are', 'NN'), ('choked', 'NN'), ('.', 'NN'), ('It', 'NN'), (\"''\", 'NN'), ('s', 'NN'), ('true', 'NN'), ('.', 'NN'), ('I', 'NN'), ('am', 'NN'), ('nothing', 'NN'), ('.', 'NN'), ('I', 'NN'), ('don', 'NN'), (\"''\", 'NN'), ('t', 'NN'), ('deserve', 'NN'), ('to', 'NN'), ('be', 'NN'), ('here', 'NN'), (',', 'NN'), ('at', 'NN'), ('the', 'NN'), ('Great', 'NN'), ('Tree', 'NN'), ('.', 'NN'), ('PT', 'NN'), (':', 'NN'), ('Like', 'NN'), ('?', 'NN'), ('Hate', 'NN'), ('?', 'NN'), ('Please', 'NN'), ('review', 'NN'), ('.', 'NN'), ('I', 'NN'), ('hope', 'NN'), ('to', 'NN'), ('update', 'NN'), ('soon', 'NN'), ('.', 'NN'), ('Fill', 'NN'), ('up', 'NN'), ('the', 'NN'), ('plot', 'NN'), ('holes', 'NN'), (',', 'NN'), ('twist', 'NN'), ('the', 'NN'), ('story', 'NN'), ('...', 'NN'), ('you', 'NN'), ('know', 'NN'), ('.', 'NN'), ('Nothing', 'NN'), (',', 'NN'), ('Yet', 'NN'), ('A', 'NN'), ('Love', 'NN'), ('Never', 'NN'), ('Dying', 'NN'), ('PT', 'NN'), (':', 'NN'), ('I', 'NN'), ('really', 'NN'), ('need', 'NN'), ('to', 'NN'), ('update', 'NN'), ('more', 'NN'), ('often', 'NN'), ('.', 'NN'), ('xD', 'NN'), ('-Shot-', 'NN'), ('...', 'NN'), ('-looks', 'NN'), ('out', 'NN'), ('window-', 'NN'), ('Well', 'NN'), (',', 'NN'), ('I', 'NN'), ('thought', 'NN'), ('I', 'NN'), (\"''\", 'NN'), ('d', 'NN'), ('take', 'NN'), ('some', 'NN'), ('advantage', 'NN'), ('.', 'NN'), ('Now', 'NN'), ('that', 'NN'), ('I', 'NN'), (\"''\", 'NN'), ('m', 'NN'), ('in', 'NN'), ('high', 'NN'), ('school', 'NN'), (',', 'NN'), ('and', 'NN'), ('in', 'NN'), ('the', 'NN'), ('JROTC', 'NN'), ('program', 'NN'), (',', 'NN'), ('I', 'NN'), (\"''\", 'NN'), ('ve', 'NN'), ('joined', 'NN'), ('the', 'NN'), ('drill', 'NN'), ('team', 'NN'), ('that', 'NN'), ('saps', 'NN'), ('up', 'NN'), ('all', 'NN'), ('the', 'NN'), ('members', 'NN'), (\"''\", 'NN'), ('time', 'NN'), ('.', 'NN'), ('But', 'NN'), ('as', 'NN'), ('of', 'NN'), ('this', 'NN'), ('month', 'NN'), ('practice', 'NN'), ('has', 'NN'), ('been', 'NN'), ('cancelled', 'NN'), ('until', 'NN'), ('further', 'NN'), ('notice', 'NN'), ('.', 'NN'), ('Now', 'NN'), ('I', 'NN'), ('have', 'NN'), ('the', 'NN'), ('energy', 'NN'), ('and', 'NN'), ('time', 'NN'), ('for', 'NN'), ('writing', 'NN'), (',', 'NN'), ('so', 'NN'), ('yeah', 'NN'), ('-shrugs-', 'NN'), ('FlamingSerpent', 'NN'), ('I', 'NN'), ('know', 'NN'), (',', 'NN'), ('right', 'NN'), ('?', 'NN'), ('So', 'NN'), ('sad', 'NN'), ('...', 'NN'), ('last', 'NN'), ('book', 'NN'), ('...', 'NN'), ('oh', 'NN'), ('the', 'NN'), ('nostalgia', 'NN'), ('...', 'NN'), ('.', 'NN'), ('PokemonKnight', 'NN'), ('Yes', 'NN'), (',', 'NN'), ('isn', 'NN'), (\"''\", 'NN'), ('t', 'NN'), ('that', 'NN'), ('talent', 'NN'), ('just', 'NN'), ('so', 'NN'), ('impressive', 'NN'), ('?', 'NN'), ('x', 'NN'), (')', 'NN'), ('-shot-', 'NN'), ('Thank', 'NN'), ('you', 'NN'), ('.', 'NN'), ('silverrosetail', 'NN'), ('Thank', 'NN'), ('you', 'NN'), (',', 'NN'), ('and', 'NN'), ('thanks', 'NN'), ('for', 'NN'), ('the', 'NN'), ('further', 'NN'), ('information', 'NN'), ('^^', 'NN'), ('Hopefully', 'NN'), (',', 'NN'), ('once', 'NN'), ('this', 'NN'), ('is', 'NN'), ('pointed', 'NN'), ('out', 'NN'), (',', 'NN'), ('things', 'NN'), ('will', 'NN'), ('definitely', 'NN'), ('unfold', 'NN'), ('a', 'NN'), ('little', 'NN'), ('more', 'NN'), ('.', 'NN'), ('SamPD', 'NN'), ('Mmhm', 'NN'), ('...', 'NN'), ('since', 'NN'), ('I', 'NN'), (\"''\", 'NN'), ('ve', 'NN'), ('already', 'NN'), ('replied', 'NN'), ('to', 'NN'), ('you', 'NN'), ('...', 'NN'), ('Crazydragonlord', 'NN'), ('Thank', 'NN'), ('you~', 'NN'), ('!', 'NN'), ('n_n', 'NN'), ('I', 'NN'), ('appreciate', 'NN'), ('that', 'NN'), ('.', 'NN'), ('Move', 'NN'), ('Again', 'NN'), (',', 'NN'), ('Step', 'NN'), ('By', 'NN'), ('Step', 'NN'), ('Nyra', 'NN'), ('glanced', 'NN'), ('down', 'NN'), ('at', 'NN'), ('the', 'NN'), ('small', 'NN'), ('bit', 'NN'), ('of', 'NN'), ('parchment', 'NN'), ('in', 'NN'), ('her', 'NN'), ('right', 'NN'), ('claw', 'NN'), (',', 'NN'), ('squinting', 'NN'), ('slightly', 'NN'), ('to', 'NN'), ('make', 'NN'), ('out', 'NN'), ('the', 'NN'), ('ancient', 'NN'), ('words', 'NN'), ('.', 'NN'), ('The', 'NN'), ('Kraakish', 'NN'), ('scrawled', 'NN'), ('upon', 'NN'), ('it', 'NN'), ('was', 'NN'), ('old', 'NN'), (',', 'NN'), ('but', 'NN'), ('young', 'NN'), ('enough', 'NN'), ('for', 'NN'), ('her', 'NN'), ('to', 'NN'), ('translate', 'NN'), ('.', 'NN'), ('The', 'NN'), ('general', 'NN'), ('of', 'NN'), ('the', 'NN'), ('Pure', 'NN'), ('Ones', 'NN'), ('had', 'NN'), ('to', 'NN'), ('stop', 'NN'), ('the', 'NN'), ('glee', 'NN'), ('that', 'NN'), ('was', 'NN'), ('bubbling', 'NN'), ('upwards', 'NN'), ('in', 'NN'), ('her', 'NN'), ('gizzard', 'NN'), ('--', 'NN'), ('no', 'NN'), (',', 'NN'), ('not', 'NN'), ('yet', 'NN'), (',', 'NN'), ('when', 'NN'), ('this', 'NN'), ('isn', 'NN'), (\"''\", 'NN'), ('t', 'NN'), ('confirmed', 'NN'), ('to', 'NN'), ('work', 'NN'), ('--', 'NN'), ('but', 'NN'), ('she', 'NN'), ('allowed', 'NN'), ('herself', 'NN'), ('to', 'NN'), ('flush', 'NN'), ('slightly', 'NN'), ('with', 'NN'), ('success', 'NN'), ('.', 'NN'), ('For', 'NN'), ('the', 'NN'), ('sake', 'NN'), ('of', 'NN'), ('her', 'NN'), ('sanity', 'NN'), ('and', 'NN'), ('her', 'NN'), ('own', 'NN'), ('feelings', 'NN'), ('of', 'NN'), ('encouragement', 'NN'), ('.', 'NN'), ('Success', 'NN'), ('was', 'NN'), ('near', 'NN'), ('...', 'NN'), ('Nearing', 'NN'), ('...', 'NN'), ('...', 'NN'), ('Bit', 'NN'), ('--', 'NN'), ('by', 'NN'), ('--', 'NN'), ('bit', 'NN'), ('.', 'NN'), ('``', 'NN'), ('Yes', 'NN'), ('.', 'NN'), (\"''\", 'NN'), ('A', 'NN'), ('glint', 'NN'), ('came', 'NN'), ('to', 'NN'), ('concentrated', 'NN'), ('eyes', 'NN'), ('.', 'NN'), ('``', 'NN'), ('This', 'NN'), ('is', 'NN'), ('it', 'NN'), ('.', 'NN'), (\"''\", 'NN'), ('I', 'NN'), ('look', 'NN'), ('up', 'NN'), ('.', 'NN'), ('Consciousness', 'NN'), ('is', 'NN'), ('drifting', 'NN'), ('back', 'NN'), ('with', 'NN'), ('a', 'NN'), ('comforting', 'NN'), ('steadiness', 'NN'), ('.', 'NN'), ('It', 'NN'), ('comes', 'NN'), ('kindly', 'NN'), (',', 'NN'), ('but', 'NN'), ('firmly', 'NN'), ('.', 'NN'), ('But', 'NN'), ('I', 'NN'), ('let', 'NN'), ('it', 'NN'), ('come', 'NN'), ('.', 'NN'), ('Hell', 'NN'), ('.', 'NN'), ('My', 'NN'), ('body', 'NN'), ('aches', 'NN'), ('--', 'NN'), ('all', 'NN'), ('of', 'NN'), ('it', 'NN'), (',', 'NN'), ('it', 'NN'), ('aches', 'NN'), ('and', 'NN'), ('hurts', 'NN'), ('and', 'NN'), ('pinches', 'NN'), ('itself', 'NN'), ('.', 'NN'), ('It', 'NN'), (\"''\", 'NN'), ('s', 'NN'), ('a', 'NN'), ('twisted', 'NN'), ('rag', 'NN'), ('--', 'NN'), ('I', 'NN'), (\"''\", 'NN'), ('m', 'NN'), ('a', 'NN'), ('twisted', 'NN'), ('rag', 'NN'), ('.', 'NN'), ('Hoole', 'NN'), ('.', 'NN'), ('Coryn', 'NN'), ('.', 'NN'), ('Oh', 'NN'), ('...', 'NN'), ('I', 'NN'), ('shouldn', 'NN'), (\"''\", 'NN'), ('t', 'NN'), ('be', 'NN'), ('here', 'NN'), ('.', 'NN'), ('The', 'NN'), ('thought', 'NN'), ('is', 'NN'), ('fire', 'NN'), (',', 'NN'), ('or', 'NN'), ('else', 'NN'), ('ice', 'NN'), ('.', 'NN'), ('I', 'NN'), ('shouldn', 'NN'), (\"''\", 'NN'), ('t', 'NN'), ('be', 'NN'), ('here', 'NN'), ('.', 'NN'), ('I', 'NN'), ('don', 'NN'), (\"''\", 'NN'), ('t', 'NN'), ('deserve', 'NN'), ('to', 'NN'), ('be', 'NN'), ('here', 'NN'), ('.', 'NN'), ('My', 'NN'), ('thoughts', 'NN'), ('are', 'NN'), ('taking', 'NN'), ('flight', 'NN'), ('from', 'NN'), ('where', 'NN'), ('they', 'NN'), ('have', 'NN'), ('left', 'NN'), ('off', 'NN'), ('.', 'NN'), ('I', 'NN'), ('don', 'NN'), (\"''\", 'NN'), ('t', 'NN'), ('deserve', 'NN'), ('to', 'NN'), ('be', 'NN'), ('here', 'NN'), ('.', 'NN'), ('Of', 'NN'), ('course', 'NN'), ('I', 'NN'), ('don', 'NN'), (\"''\", 'NN'), ('t.', 'NN'), ('I', 'NN'), ('look', 'NN'), ('around', 'NN'), ('as', 'NN'), ('my', 'NN'), ('vision', 'NN'), ('clears', 'NN'), (';', 'NN'), ('he', 'NN'), ('is', 'NN'), ('not', 'NN'), ('here', 'NN'), ('...', 'NN'), ('Coryn', 'NN'), (',', 'NN'), ('was', 'NN'), ('it', 'NN'), ('?', 'NN'), ('No', 'NN'), ('one', 'NN'), ('is', 'NN'), ('here', 'NN'), ('.', 'NN'), ('My', 'NN'), ('phantom', 'NN'), ('gizzard', 'NN'), ('--', 'NN'), ('phantom', 'NN'), (',', 'NN'), ('yes', 'NN'), ('...', 'NN'), ('--', 'NN'), ('speaks', 'NN'), ('...', 'NN'), ('it', 'NN'), ('sends', 'NN'), ('a', 'NN'), ('jolt', 'NN'), ('of', 'NN'), ('alarm', 'NN'), ('.', 'NN'), ('Warning', 'NN'), ('.', 'NN'), ('They', 'NN'), ('have', 'NN'), ('left', 'NN'), ('me', 'NN'), ('.', 'NN'), ('They', 'NN'), ('must', 'NN'), ('have', 'NN'), ('.', 'NN'), ('Kind', 'NN'), ('as', 'NN'), ('they', 'NN'), ('seemed', 'NN'), ('to', 'NN'), ('be', 'NN'), (',', 'NN'), ('they', 'NN'), ('must', 'NN'), ('have', 'NN'), ('left', 'NN'), ('me', 'NN'), ('here', 'NN'), ('...', 'NN'), ('in', 'NN'), ('this', 'NN'), ('hollow', 'NN'), ('...', 'NN'), ('perhaps', 'NN'), ('wanting', 'NN'), ('me', 'NN'), ('to', 'NN'), ('leave', 'NN'), ('on', 'NN'), ('my', 'NN'), ('own', 'NN'), (',', 'NN'), ('too', 'NN'), ('disgusted', 'NN'), ('to', 'NN'), ('act', 'NN'), ('.', 'NN'), ('A', 'NN'), ('saddening', 'NN'), ('thought', 'NN'), ('.', 'NN'), ('They', 'NN'), ('acknowledged', 'NN'), ('me', 'NN'), (',', 'NN'), ('though', 'NN'), (',', 'NN'), ('and', 'NN'), ('they', 'NN'), ('were', 'NN'), ('kind', 'NN'), ('.', 'NN'), ('Perhaps', 'NN'), ('they', 'NN'), ('saw', 'NN'), ('through', 'NN'), ('to', 'NN'), ('something', 'NN'), ('...', 'NN'), ('But', 'NN'), ('that', 'NN'), (\"''\", 'NN'), ('s', 'NN'), ('reality', 'NN'), (',', 'NN'), ('is', 'NN'), ('it', 'NN'), ('not', 'NN'), ('?', 'NN'), ('--', 'NN'), ('of', 'NN'), ('course', 'NN'), (',', 'NN'), ('freak', 'NN'), ('that', 'NN'), ('I', 'NN'), ('am', 'NN'), (';', 'NN'), ('player', 'NN'), ('of', 'NN'), ('the', 'NN'), ('confidant', 'NN'), ('game', 'NN'), ('that', 'NN'), ('I', 'NN'), ('am', 'NN'), ('...', 'NN'), ('an', 'NN'), ('actor', 'NN'), (',', 'NN'), ('nothing', 'NN'), ('more', 'NN'), ('.', 'NN'), ('There', 'NN'), ('is', 'NN'), ('no', 'NN'), ('real', 'NN'), ('me', 'NN'), ('.', 'NN'), ('My', 'NN'), ('grief', 'NN'), ('has', 'NN'), ('quieted', 'NN'), ('.', 'NN'), ('I', 'NN'), ('should', 'NN'), ('leave', 'NN'), ('then', 'NN'), ('--', 'NN'), ('it', 'NN'), ('cracks', 'NN'), ('my', 'NN'), ('phantom', 'NN'), ('gizzard', 'NN'), ('in', 'NN'), ('half', 'NN'), ('--', 'NN'), ('this', 'NN'), ('is', 'NN'), ('the', 'NN'), ('tree', 'NN'), (';', 'NN'), ('and', 'NN'), ('I', 'NN'), ('am', 'NN'), ('nothing', 'NN'), ('.', 'NN'), ('I', 'NN'), ('shall', 'NN'), ('leave', 'NN'), ('then', 'NN'), ('...', 'NN'), ('go', 'NN'), ('somewhere', 'NN'), ('else', 'NN'), ('to', 'NN'), ('rot', 'NN'), (',', 'NN'), ('quietly', 'NN'), (',', 'NN'), ('for', 'NN'), ('the', 'NN'), ('peace', 'NN'), ('.', 'NN'), ('This', 'NN'), ('tree', 'NN'), ('has', 'NN'), ('something', 'NN'), ('...', 'NN'), ('something', 'NN'), ('...', 'NN'), ('that', 'NN'), ('revives', 'NN'), ('Hoole', 'NN'), (\"''\", 'NN'), ('s', 'NN'), ('life', 'NN'), ('.', 'NN'), ('I', 'NN'), ('wonder', 'NN'), (',', 'NN'), ('then', 'NN'), ('...', 'NN'), ('if', 'NN'), ('he', 'NN'), ('is', 'NN'), ('looking', 'NN'), ('down', 'NN'), ('here', 'NN'), ('.', 'NN'), ('I', 'NN'), ('wonder', 'NN'), ('what', 'NN'), ('he', 'NN'), ('is', 'NN'), ('thinking', 'NN'), ('.', 'NN'), ('At', 'NN'), ('least', 'NN'), ('he', 'NN'), ('is', 'NN'), ('at', 'NN'), ('peace', 'NN'), ('.', 'NN'), ('There', 'NN'), ('is', 'NN'), ('no', 'NN'), ('me', 'NN'), ('to', 'NN'), ('disturb', 'NN'), ('him', 'NN'), (',', 'NN'), ('and', 'NN'), ('I', 'NN'), ('shall', 'NN'), ('bother', 'NN'), ('him', 'NN'), ('no', 'NN'), ('more', 'NN'), ('in', 'NN'), ('this', 'NN'), ('tree', 'NN'), ('.', 'NN'), ('Hoole', 'NN'), ('.', 'NN'), ('I', 'NN'), ('am', 'NN'), ('sorry', 'NN'), ('.', 'NN'), ('I', 'NN'), ('don', 'NN'), (\"''\", 'NN'), ('t', 'NN'), ('deserve', 'NN'), ('any', 'NN'), ('of', 'NN'), ('your', 'NN'), ('love', 'NN'), ('.', 'NN'), ('And', 'NN'), ('I', 'NN'), ('will', 'NN'), ('not', 'NN'), ('bother', 'NN'), ('Coryn', 'NN'), ('.', 'NN'), ('He', 'NN'), ('reminds', 'NN'), ('me', 'NN'), ('so', 'NN'), ('much', 'NN'), ('of', 'NN'), ('you', 'NN'), ('.', 'NN'), ('I', 'NN'), ('turn', 'NN'), ('to', 'NN'), ('face', 'NN'), ('the', 'NN'), ('opening', 'NN'), ('of', 'NN'), ('the', 'NN'), ('hollow', 'NN'), (',', 'NN'), ('veiled', 'NN'), ('by', 'NN'), ('lichen', 'NN'), ('.', 'NN'), ('Pretty', 'NN'), ('.', 'NN'), ('How', 'NN'), ('alive', 'NN'), ('.', 'NN'), ('There', 'NN'), ('is', 'NN'), ('air', 'NN'), ('outside', 'NN'), (';', 'NN'), ('nighttime', 'NN'), ('seeps', 'NN'), ('through', 'NN'), ('the', 'NN'), ('fleshy', 'NN'), ('fibers', 'NN'), ('.', 'NN'), ('Cool', 'NN'), ('air', 'NN'), (',', 'NN'), ('and', 'NN'), ('a', 'NN'), ('wide', 'NN'), ('expanse', 'NN'), ('.', 'NN'), ('Shall', 'NN'), ('I', 'NN'), ('fly', 'NN'), ('till', 'NN'), ('the', 'NN'), ('end', 'NN'), ('of', 'NN'), ('my', 'NN'), ('miserable', 'NN'), ('days', 'NN'), ('?', 'NN'), ('I', 'NN'), ('shift', 'NN'), (';', 'NN'), ('I', 'NN'), ('can', 'NN'), ('move', 'NN'), ('.', 'NN'), ('Then', 'NN'), ('I', 'NN'), ('can', 'NN'), ('leave', 'NN'), ('.', 'NN'), ('There', 'NN'), ('is', 'NN'), ('no', 'NN'), ('reason', 'NN'), ('to', 'NN'), ('stay', 'NN'), ('here', 'NN'), (',', 'NN'), ('of', 'NN'), ('course', 'NN'), ('...', 'NN'), ('this', 'NN'), ('is', 'NN'), ('Hoole', 'NN'), (\"''\", 'NN'), ('s', 'NN'), ('home', 'NN'), (';', 'NN'), ('I', 'NN'), ('shall', 'NN'), ('not', 'NN'), ('taint', 'NN'), ('it', 'NN'), ('.', 'NN'), ('Oh', 'NN'), (',', 'NN'), ('it', 'NN'), (\"''\", 'NN'), ('s', 'NN'), ('silent', 'NN'), ('--', 'NN'), ('I', 'NN'), ('can', 'NN'), (\"''\", 'NN'), ('t', 'NN'), ('believe', 'NN'), ('it', 'NN'), ('took', 'NN'), ('so', 'NN'), ('long', 'NN'), ('for', 'NN'), ('me', 'NN'), ('to', 'NN'), ('notice', 'NN'), ('it', 'NN'), (';', 'NN'), ('my', 'NN'), ('feathers', 'NN'), ('are', 'NN'), ('rustling', 'NN'), ('--', 'NN'), ('I', 'NN'), ('must', 'NN'), ('look', 'NN'), ('ugly', 'NN'), ('--', 'NN'), ('and', 'NN'), ('my', 'NN'), ('feet', 'NN'), ('shift', 'NN'), ('.', 'NN'), ('I', 'NN'), ('can', 'NN'), ('move', 'NN'), ('.', 'NN'), ('This', 'NN'), ('is', 'NN'), ('life', 'NN'), ('.', 'NN'), ('I', 'NN'), ('am', 'NN'), ('alive', 'NN'), ('.', 'NN'), ('Truly', 'NN'), (',', 'NN'), ('truly', 'NN'), ('alive', 'NN'), ('.', 'NN'), ('I', 'NN'), ('can', 'NN'), ('not', 'NN'), ('tell', 'NN'), ('what', 'NN'), ('exact', 'NN'), ('state', 'NN'), ('I', 'NN'), ('am', 'NN'), ('in', 'NN'), (',', 'NN'), ('but', 'NN'), ('I', 'NN'), ('know', 'NN'), ('I', 'NN'), ('must', 'NN'), ('be', 'NN'), ('a', 'NN'), ('mess', 'NN'), ('.', 'NN'), ('But', 'NN'), ('outside', 'NN'), ('I', 'NN'), ('can', 'NN'), ('release', 'NN'), (',', 'NN'), ('can', 'NN'), ('I', 'NN'), ('not', 'NN'), ('?', 'NN'), ('Release', 'NN'), (',', 'NN'), ('and', 'NN'), ('perhaps', 'NN'), ('become', 'NN'), ('one', 'NN'), ('with', 'NN'), ('nature', 'NN'), (',', 'NN'), ('earth', 'NN'), ('or', 'NN'), ('sky', 'NN'), ('.', 'NN'), ('There', 'NN'), ('is', 'NN'), ('a', 'NN'), ('whole', 'NN'), ('world', 'NN'), ('out', 'NN'), ('there', 'NN'), (',', 'NN'), ('limitless', 'NN'), ('.', 'NN'), ('I', 'NN'), ('can', 'NN'), ('wander', 'NN'), ('till', 'NN'), ('the', 'NN'), ('end', 'NN'), ('of', 'NN'), ('my', 'NN'), ('days', 'NN'), (',', 'NN'), ('past', 'NN'), ('even', 'NN'), ('the', 'NN'), ('confinements', 'NN'), ('of', 'NN'), ('the', 'NN'), ('land', 'NN'), ('we', 'NN'), ('owls', 'NN'), ('know', 'NN'), ('.', 'NN'), ('Beyond', 'NN'), ('the', 'NN'), ('beyond', 'NN'), ('the', 'NN'), ('beyond', 'NN'), ('.', 'NN'), ('I', 'NN'), ('fear', 'NN'), ('no', 'NN'), ('danger', 'NN'), (';', 'NN'), ('in', 'NN'), ('fact', 'NN'), (',', 'NN'), ('the', 'NN'), ('danger', 'NN'), ('can', 'NN'), ('come', 'NN'), (',', 'NN'), ('and', 'NN'), ('I', 'NN'), ('shall', 'NN'), ('not', 'NN'), ('care', 'NN'), ('if', 'NN'), ('it', 'NN'), ('kills', 'NN'), ('me', 'NN'), ('.', 'NN'), ('I', 'NN'), ('am', 'NN'), ('an', 'NN'), ('owl', 'NN'), ('--', 'NN'), ('whatever', 'NN'), ('I', 'NN'), ('am', 'NN'), ('--', 'NN'), ('with', 'NN'), ('nothing', 'NN'), ('to', 'NN'), ('lose', 'NN'), ('and', 'NN'), ('nothing', 'NN'), ('to', 'NN'), ('gain', 'NN'), ('.', 'NN'), ('Then', 'NN'), ('I', 'NN'), ('am', 'NN'), ('ready', 'NN'), ('.', 'NN'), ('I', 'NN'), ('listen', 'NN'), ('one', 'NN'), ('more', 'NN'), ('time', 'NN'), (',', 'NN'), ('pause', 'NN'), (',', 'NN'), ('before', 'NN'), ('beginning', 'NN'), ('the', 'NN'), ('endless', 'NN'), ('journey', 'NN'), ('.', 'NN'), ('Nothing', 'NN'), ('.', 'NN'), ('There', 'NN'), ('is', 'NN'), ('nothing', 'NN'), ('but', 'NN'), ('the', 'NN'), ('hum', 'NN'), ('of', 'NN'), ('silence', 'NN'), (',', 'NN'), ('scratching', 'NN'), ('in', 'NN'), ('cadence', 'NN'), ('.', 'NN'), ('I', 'NN'), ('must', 'NN'), ('be', 'NN'), ('desperate', 'NN'), ('to', 'NN'), ('stay', 'NN'), (',', 'NN'), ('as', 'NN'), ('if', 'NN'), ('I', 'NN'), ('truly', 'NN'), ('deserve', 'NN'), ('it', 'NN'), ('.', 'NN'), ('I', 'NN'), ('don', 'NN'), (\"''\", 'NN'), ('t.', 'NN'), ('I', 'NN'), ('can', 'NN'), ('not', 'NN'), ('stop', 'NN'), ('thinking', 'NN'), ('about', 'NN'), ('this', 'NN'), (';', 'NN'), ('I', 'NN'), ('deserve', 'NN'), ('nothing', 'NN'), ('.', 'NN'), ('I', 'NN'), ('am', 'NN'), ('nothing', 'NN'), (',', 'NN'), ('after', 'NN'), ('all', 'NN'), ('.', 'NN'), ('If', 'NN'), ('I', 'NN'), ('am', 'NN'), ('damned', 'NN'), ('to', 'NN'), ('this', 'NN'), ('line', 'NN'), ('of', 'NN'), ('reality', 'NN'), ('for', 'NN'), ('this', 'NN'), ('whole', 'NN'), ('retake', 'NN'), ('at', 'NN'), ('life', 'NN'), (',', 'NN'), ('then', 'NN'), ('so', 'NN'), ('be', 'NN'), ('it', 'NN'), ('.', 'NN'), ('Then', 'NN'), (',', 'NN'), ('I', 'NN'), ('will', 'NN'), ('take', 'NN'), ('my', 'NN'), ('leave', 'NN'), ('.', 'NN'), ('Good', 'NN'), ('riddance', 'NN'), (',', 'NN'), ('then', 'NN'), ('.', 'NN'), ('My', 'NN'), ('eyes', 'NN'), ('mist', 'NN'), ('.', 'NN'), ('When', 'NN'), ('I', 'NN'), ('shake', 'NN'), ('my', 'NN'), ('head', 'NN'), ('to', 'NN'), ('clear', 'NN'), ('the', 'NN'), ('fog', 'NN'), (',', 'NN'), ('I', 'NN'), ('hop', 'NN'), ('forward', 'NN'), ('--', 'NN'), ('painful', 'NN'), ('--', 'NN'), ('and', 'NN'), ('I', 'NN'), ('manage', 'NN'), ('to', 'NN'), ('walk', 'NN'), ('.', 'NN'), ('I', 'NN'), ('can', 'NN'), ('do', 'NN'), ('this', 'NN'), ('.', 'NN'), ('There', 'NN'), ('is', 'NN'), ('the', 'NN'), ('opening', 'NN'), (';', 'NN'), ('I', 'NN'), ('will', 'NN'), ('go', 'NN'), ('now', 'NN'), ('.', 'NN'), ('I', 'NN'), ('must', 'NN'), ('be', 'NN'), ('cherishing', 'NN'), ('the', 'NN'), ('whisper', 'NN'), ('of', 'NN'), ('lush', 'NN'), ('wind', 'NN'), ('.', 'NN'), ('I', 'NN'), ('will', 'NN'), ('go', 'NN'), ('.', 'NN'), ('I', 'NN'), ('will', 'NN'), ('go', 'NN'), ('.', 'NN'), ('With', 'NN'), ('a', 'NN'), ('shake', 'NN'), ('of', 'NN'), ('my', 'NN'), ('ruffled', 'NN'), ('feathers', 'NN'), (',', 'NN'), ('I', 'NN'), ('jump', 'NN'), ('out', 'NN'), (',', 'NN'), ('brush', 'NN'), ('through', 'NN'), ('the', 'NN'), ('lichen', 'NN'), ('that', 'NN'), ('caresses', 'NN'), ('my', 'NN'), ('wings', 'NN'), ('in', 'NN'), ('farewell', 'NN'), ('--', 'NN'), ('with', 'NN'), ('pity', 'NN'), ('?', 'NN'), ('--', 'NN'), ('and', 'NN'), ('snap', 'NN'), ('my', 'NN'), ('wings', 'NN'), ('open', 'NN'), ('.', 'NN'), ('A', 'NN'), ('prickling', 'NN'), ('sensation', 'NN'), ('.', 'NN'), ('With', 'NN'), ('a', 'NN'), ('quick', 'NN'), ('look', 'NN'), ('downwards', 'NN'), (',', 'NN'), ('as', 'NN'), ('the', 'NN'), ('world', 'NN'), ('rushes', 'NN'), ('in', 'NN'), (',', 'NN'), ('I', 'NN'), ('see', 'NN'), ('the', 'NN'), ('silver-gray', 'NN'), ('plumage', 'NN'), ('restored', 'NN'), ('to', 'NN'), ('my', 'NN'), ('chest', 'NN'), ('.', 'NN'), ('A', 'NN'), ('shapeshifter', 'NN'), ('again', 'NN'), ('.', 'NN'), ('Coryn', 'NN'), ('watched', 'NN'), ('the', 'NN'), ('candle', 'NN'), ('before', 'NN'), ('him', 'NN'), ('splutter', 'NN'), ('wetly', 'NN'), (',', 'NN'), ('in', 'NN'), ('its', 'NN'), ('final', 'NN'), ('throes', 'NN'), ('of', 'NN'), ('death', 'NN'), ('.', 'NN'), ('Though', 'NN'), ('fire', 'NN'), ('was', 'NN'), ('life', 'NN'), (',', 'NN'), ('it', 'NN'), ('needed', 'NN'), ('something', 'NN'), ('to', 'NN'), ('last', 'NN'), ('.', 'NN'), ('Something', 'NN'), ('that', 'NN'), ('helped', 'NN'), ('it', 'NN'), (',', 'NN'), ('hurled', 'NN'), ('it', 'NN'), ('onward', 'NN'), ('.', 'NN'), ('Without', 'NN'), (',', 'NN'), ('it', 'NN'), ('would', 'NN'), ('die', 'NN'), (',', 'NN'), ('die', 'NN'), ('and', 'NN'), ('scream', 'NN'), ('.', 'NN'), ('Then', 'NN'), ('it', 'NN'), ('would', 'NN'), ('fall', 'NN'), ('silent', 'NN'), ('and', 'NN'), ('blow', 'NN'), ('out', 'NN'), ('of', 'NN'), ('existence', 'NN'), ('.', 'NN'), ('And', 'NN'), ('that', 'NN'), ('would', 'NN'), ('be', 'NN'), ('that', 'NN'), ('.', 'NN'), ('Died', 'NN'), (',', 'NN'), ('and', 'NN'), ('was', 'NN'), ('dead', 'NN'), ('.', 'NN'), ('But', 'NN'), ('undoubtedly', 'NN'), (',', 'NN'), ('irrevocably', 'NN'), (',', 'NN'), ('dead', 'NN'), ('.', 'NN'), ('How', 'NN'), (',', 'NN'), ('then', 'NN'), ('...', 'NN'), ('how', 'NN'), ('?', 'NN'), ('--', 'NN'), ('how', 'NN'), ('did', 'NN'), ('a', 'NN'), ('dead', 'NN'), ('owl', 'NN'), (',', 'NN'), ('undoubtedly', 'NN'), ('gone', 'NN'), ('for', 'NN'), ('years', 'NN'), ('upon', 'NN'), ('years', 'NN'), ('upon', 'NN'), ('years', 'NN'), ('...', 'NN'), ('how', 'NN'), ('could', 'NN'), ('a', 'NN'), ('dead', 'NN'), ('owl', 'NN'), ('rise', 'NN'), (',', 'NN'), ('fresh', 'NN'), ('and', 'NN'), ('breathing', 'NN'), (',', 'NN'), ('from', 'NN'), ('the', 'NN'), ('dead', 'NN'), ('?', 'NN'), ('This', 'NN'), ('was', 'NN'), ('illogical', 'NN'), (',', 'NN'), ('and', 'NN'), ('beyond', 'NN'), ('the', 'NN'), ('illogical', 'NN'), ('itself', 'NN'), ('.', 'NN'), ('Of', 'NN'), ('course', 'NN'), ('there', 'NN'), ('could', 'NN'), ('be', 'NN'), ('attempts', 'NN'), ('to', 'NN'), ('raise', 'NN'), ('the', 'NN'), ('dead', 'NN'), (',', 'NN'), ('but', 'NN'), ('...', 'NN'), ('the', 'NN'), ('body', 'NN'), ('.', 'NN'), ('And', 'NN'), ('the', 'NN'), ('sheer', 'NN'), ('closeness', 'NN'), ('to', 'NN'), ('impossibility', 'NN'), ('.', 'NN'), ('Lutta', 'NN'), (',', 'NN'), ('the', 'NN'), ('owl', 'NN'), ('of', 'NN'), ('legend', 'NN'), (',', 'NN'), ('was', 'NN'), ('alive', 'NN'), ('after', 'NN'), ('being', 'NN'), ('dead', 'NN'), ('for', 'NN'), ('so', 'NN'), ('long', 'NN'), ('.', 'NN'), ('How', 'NN'), ('...', 'NN'), ('?', 'NN'), ('Her', 'NN'), ('body', 'NN'), ('must', 'NN'), ('have', 'NN'), ('withered', 'NN'), ('and', 'NN'), ('become', 'NN'), ('nothing', 'NN'), ('but', 'NN'), ('food', 'NN'), ('for', 'NN'), ('the', 'NN'), ('earth', 'NN'), ('to', 'NN'), ('devour', 'NN'), ('greedily', 'NN'), ('.', 'NN'), ('Though', 'NN'), ('the', 'NN'), ('beyond', 'NN'), ('of', 'NN'), ('the', 'NN'), ('horizon', 'NN'), ('of', 'NN'), ('the', 'NN'), ('logical', 'NN'), ('was', 'NN'), ('boundless', 'NN'), (',', 'NN'), ('this', 'NN'), ('was', 'NN'), ('still', 'NN'), ('...', 'NN'), ('How', 'NN'), (',', 'NN'), ('he', 'NN'), ('mused', 'NN'), ('.', 'NN'), ('How', 'NN'), ('.', 'NN'), ('That', 'NN'), ('was', 'NN'), ('what', 'NN'), ('he', 'NN'), ('was', 'NN'), ('pursuing', 'NN'), ('.', 'NN'), ('How', 'NN'), ('?', 'NN'), ('How', 'NN'), ('?', 'NN'), ('How', 'NN'), ('?', 'NN'), ('How', 'NN'), ('had', 'NN'), ('she', 'NN'), ('returned', 'NN'), ('to', 'NN'), ('the', 'NN'), ('earth', 'NN'), ('?', 'NN'), ('Was', 'NN'), ('she', 'NN'), ('an', 'NN'), ('illusion', 'NN'), ('?', 'NN'), ('--', 'NN'), ('if', 'NN'), ('so', 'NN'), (',', 'NN'), ('she', 'NN'), ('was', 'NN'), ('something', 'NN'), ('beyond', 'NN'), ('illusion', 'NN'), ('...', 'NN'), ('she', 'NN'), ('was', 'NN'), ('too', 'NN'), ('perfect', 'NN'), ('to', 'NN'), ('be', 'NN'), ('something', 'NN'), ('to', 'NN'), ('be', 'NN'), ('called', 'NN'), ('a', 'NN'), ('mere', 'NN'), ('illusion', 'NN'), ('.', 'NN'), ('Coryn', 'NN'), ('mused', 'NN'), ('onward', 'NN'), ('as', 'NN'), ('he', 'NN'), ('turned', 'NN'), ('back', 'NN'), ('to', 'NN'), ('the', 'NN'), ('sheafs', 'NN'), ('of', 'NN'), ('paper', 'NN'), ('--', 'NN'), ('he', 'NN'), ('had', 'NN'), ('left', 'NN'), ('Lutta', 'NN'), ('for', 'NN'), ('the', 'NN'), ('pursuit', 'NN'), ('of', 'NN'), ('something', 'NN'), ('...', 'NN'), ('something', 'NN'), ('that', 'NN'), ('could', 'NN'), ('shed', 'NN'), ('its', 'NN'), ('light', 'NN'), ('upon', 'NN'), ('the', 'NN'), ('happenings', 'NN'), ('.', 'NN'), ('So', 'NN'), ('long', 'NN'), ('ago', 'NN'), ('.', 'NN'), ('Lutta', 'NN'), ('.', 'NN'), ('Was', 'NN'), ('this', 'NN'), ('a', 'NN'), ('work', 'NN'), ('of', 'NN'), ('nachtmagen', 'NN'), ('?', 'NN'), ('There', 'NN'), ('was', 'NN'), ('that', 'NN'), ('possibility', 'NN'), (',', 'NN'), ('faded', 'NN'), ('as', 'NN'), ('the', 'NN'), ('yellow', 'NN'), ('craft', 'NN'), ('was', 'NN'), ('.', 'NN'), ('Then', 'NN'), ('who', 'NN'), ('had', 'NN'), ('performed', 'NN'), ('it', 'NN'), ('?', 'NN'), ('Coryn', 'NN'), ('could', 'NN'), ('not', 'NN'), ('grab', 'NN'), ('it', 'NN'), (';', 'NN'), ('he', 'NN'), ('snatched', 'NN'), ('at', 'NN'), ('empty', 'NN'), ('air', 'NN'), ('.', 'NN'), ('There', 'NN'), ('was', 'NN'), ('nothing', 'NN'), ('to', 'NN'), ('tell', 'NN'), ('him', 'NN'), ('.', 'NN'), ('Nothing', 'NN'), ('that', 'NN'), ('anything', 'NN'), ('could', 'NN'), ('tell', 'NN'), ('him', 'NN'), (',', 'NN'), ('nor', 'NN'), ('aid', 'NN'), ('him', 'NN'), ('.', 'NN'), ('This', 'NN'), ('was', 'NN'), ('an', 'NN'), ('enigma', 'NN'), ('beyond', 'NN'), ('most', 'NN'), ('anagrams', 'NN'), ('of', 'NN'), ('matters', 'NN'), ('.', 'NN'), ('This', 'NN'), ('was', 'NN'), ('a', 'NN'), ('mess', 'NN'), ('.', 'NN'), ('He', 'NN'), ('had', 'NN'), ('found', 'NN'), ('her', 'NN'), (',', 'NN'), ('Lutta', 'NN'), (',', 'NN'), ('merely', 'NN'), ('lying', 'NN'), ('on', 'NN'), ('some', 'NN'), ('branch', 'NN'), ('of', 'NN'), ('the', 'NN'), ('tree', 'NN'), ('.', 'NN'), ('And', 'NN'), (',', 'NN'), ('through', 'NN'), ('some', 'NN'), ('urging', 'NN'), ('of', 'NN'), ('the', 'NN'), ('gizzard', 'NN'), (',', 'NN'), ('he', 'NN'), ('had', 'NN'), ('brought', 'NN'), ('her', 'NN'), ('back', 'NN'), ('into', 'NN'), ('the', 'NN'), ('tree', 'NN'), ('itself', 'NN'), ('.', 'NN'), ('This', 'NN'), ('made', 'NN'), ('little', 'NN'), ('sense', 'NN'), ('.', 'NN'), ('He', 'NN'), ('dived', 'NN'), ('into', 'NN'), ('another', 'NN'), ('pool', 'NN'), ('of', 'NN'), ('thoughts', 'NN'), ('.', 'NN'), ('What', 'NN'), ('if', 'NN'), ('...', 'NN'), ('?', 'NN'), ('There', 'NN'), ('was', 'NN'), ('a', 'NN'), ('bang', 'NN'), (';', 'NN'), ('he', 'NN'), ('jumped', 'NN'), ('and', 'NN'), ('turned', 'NN'), ('.', 'NN'), ('There', 'NN'), ('was', 'NN'), ('a', 'NN'), ('curse', 'NN'), ('of', 'NN'), ('``', 'NN'), ('raccdrops', 'NN'), ('!', 'NN'), (\"''\", 'NN'), ('Twilight', 'NN'), ('.', 'NN'), ('Coryn', 'NN'), ('called', 'NN'), (',', 'NN'), ('one', 'NN'), ('wing', 'NN'), ('still', 'NN'), ('laid', 'NN'), ('flat', 'NN'), ('over', 'NN'), ('a', 'NN'), ('book', 'NN'), (',', 'NN'), ('``', 'NN'), ('What', 'NN'), (\"''\", 'NN'), ('s', 'NN'), ('going', 'NN'), ('on', 'NN'), ('?', 'NN'), (\"''\", 'NN'), ('More', 'NN'), ('cursing', 'NN'), (',', 'NN'), ('followed', 'NN'), ('by', 'NN'), ('Gylfie', 'NN'), (\"''\", 'NN'), ('s', 'NN'), ('reprimands', 'NN'), ('.', 'NN'), ('There', 'NN'), ('was', 'NN'), ('a', 'NN'), ('loud', 'NN'), ('whirlwind', 'NN'), ('of', 'NN'), ('a', 'NN'), ('flutter', 'NN'), (',', 'NN'), ('and', 'NN'), ('soon', 'NN'), ('the', 'NN'), ('whole', 'NN'), ('Band', 'NN'), ('was', 'NN'), ('within', 'NN'), ('the', 'NN'), ('room', 'NN'), ('!', 'NN'), ('``', 'NN'), ('What', 'NN'), ('?', 'NN'), (\"''\", 'NN'), ('Coryn', 'NN'), ('said', 'NN'), ('loudly', 'NN'), ('at', 'NN'), ('the', 'NN'), ('undignified', 'NN'), ('relative', 'NN'), ('of', 'NN'), ('a', 'NN'), ('heap', 'NN'), ('before', 'NN'), ('him', 'NN'), ('.', 'NN'), ('``', 'NN'), ('What', 'NN'), (\"''\", 'NN'), ('s', 'NN'), ('happened', 'NN'), ('?', 'NN'), (\"''\", 'NN'), ('Something', 'NN'), ('shot', 'NN'), ('through', 'NN'), ('his', 'NN'), ('gizzard', 'NN'), ('.', 'NN'), ('Soren', 'NN'), ('spoke', 'NN'), ('first', 'NN'), (',', 'NN'), ('in', 'NN'), ('a', 'NN'), ('rushed', 'NN'), ('but', 'NN'), ('determined', 'NN'), ('voice', 'NN'), ('.', 'NN'), ('``', 'NN'), ('She', 'NN'), (\"''\", 'NN'), ('s', 'NN'), ('gone', 'NN'), ('!', 'NN'), (\"''\", 'NN'), ('Another', 'NN'), ('shot', 'NN'), ('.', 'NN'), ('Something', 'NN'), ('like', 'NN'), ('cold', 'NN'), ('fear', 'NN'), ('and', 'NN'), ('wonder', 'NN'), ('.', 'NN'), ('``', 'NN'), ('She', 'NN'), (\"''\", 'NN'), ('s', 'NN'), ('gone', 'NN'), ('!', 'NN'), (\"''\", 'NN'), ('Gylfie', 'NN'), ('wailed', 'NN'), ('.', 'NN'), ('``', 'NN'), ('Lutta', 'NN'), (\"''\", 'NN'), ('s', 'NN'), ('gone', 'NN'), ('!', 'NN'), (\"''\", 'NN')]\n"
     ]
    }
   ],
   "source": [
    "# Default Tagger (Not Required)\n",
    "tokens = nltk.word_tokenize(TrainingDataList[0]['pair'][0])\n",
    "default_tagger = nltk.DefaultTagger('NN') #noun, sg. or mass\n",
    "print(default_tagger.tag(tokens))"
   ]
  },
  {
   "cell_type": "code",
   "execution_count": 268,
   "metadata": {},
   "outputs": [
    {
     "data": {
      "text/plain": [
       "1.0"
      ]
     },
     "execution_count": 268,
     "metadata": {},
     "output_type": "execute_result"
    }
   ],
   "source": [
    "default_tagger.evaluate([list(default_tagger.tag(tokens))])"
   ]
  },
  {
   "cell_type": "markdown",
   "metadata": {},
   "source": [
    "# Regular Expression Tagger"
   ]
  },
  {
   "cell_type": "code",
   "execution_count": 270,
   "metadata": {},
   "outputs": [],
   "source": [
    "patterns = [\n",
    "    (r'.*ing$', 'VBG'),               # gerunds\n",
    "    (r'.*ed$', 'VBD'),                # simple past\n",
    "    (r'.*es$', 'VBZ'),                # 3rd singular present\n",
    "    (r'.*ould$', 'MD'),               # modals\n",
    "    (r'.*\\'s$', 'NN$'),               # possessive nouns\n",
    "    (r'.*s$', 'NNS'),                 # plural nouns\n",
    "    (r'^-?[0-9]+(\\.[0-9]+)?$', 'CD'),  # cardinal numbers\n",
    "    (r'.*', 'NN')                    # nouns (default)  \n",
    "] "
   ]
  },
  {
   "cell_type": "code",
   "execution_count": 279,
   "metadata": {},
   "outputs": [
    {
     "name": "stdout",
     "output_type": "stream",
     "text": [
      "[('I', 'NN'), ('shift', 'NN'), ('a', 'NN'), ('bit', 'NN'), (',', 'NN'), ('warily', 'NN'), ('letting', 'VBG'), ('my', 'NN'), ('eyes', 'VBZ'), ('dart', 'NN'), ('from', 'NN'), ('one', 'NN'), ('owl', 'NN'), ('to', 'NN'), ('the', 'NN'), ('other', 'NN'), ('--', 'NN'), ('but', 'NN'), ('my', 'NN'), ('eyes', 'VBZ'), ('are', 'NN'), ('trained', 'VBD'), ('on', 'NN'), ('the', 'NN'), ('Barn', 'NN'), ('Owl', 'NN'), ('the', 'NN'), ('most', 'NN'), ('.', 'NN')]\n"
     ]
    }
   ],
   "source": [
    "regexp_tagger = nltk.RegexpTagger(patterns)\n",
    "complete_sentences=sent_tokenize(TrainingDataList[0]['pair'][0])\n",
    "print(regexp_tagger.tag(word_tokenize(complete_sentences[0])))"
   ]
  },
  {
   "cell_type": "code",
   "execution_count": 292,
   "metadata": {},
   "outputs": [
    {
     "data": {
      "text/plain": [
       "0.10344827586206896"
      ]
     },
     "execution_count": 292,
     "metadata": {},
     "output_type": "execute_result"
    }
   ],
   "source": [
    "regexp_tagger.evaluate([nltk.pos_tag(word_tokenize(complete_sentences[0]))])\n",
    "# complete_sentences"
   ]
  },
  {
   "cell_type": "code",
   "execution_count": 350,
   "metadata": {},
   "outputs": [],
   "source": [
    "# Sentences which are tagged using POS_Tag\n",
    "complete_sentences_tagged=[]\n",
    "for sentence in complete_sentences:\n",
    "    complete_sentences_tagged.append(nltk.pos_tag(word_tokenize(sentence)))"
   ]
  },
  {
   "cell_type": "code",
   "execution_count": 371,
   "metadata": {},
   "outputs": [
    {
     "data": {
      "text/plain": [
       "0.1464980177458939"
      ]
     },
     "execution_count": 371,
     "metadata": {},
     "output_type": "execute_result"
    }
   ],
   "source": [
    "regexp_tagger.evaluate(complete_sentences_tagged)\n",
    "# complete_sentences"
   ]
  },
  {
   "cell_type": "code",
   "execution_count": 289,
   "metadata": {},
   "outputs": [
    {
     "name": "stdout",
     "output_type": "stream",
     "text": [
      "[('I', 'PRP'), ('shift', 'VBP'), ('a', 'DT'), ('bit', 'NN'), (',', ','), ('warily', 'RB'), ('letting', 'VBG'), ('my', 'PRP$'), ('eyes', 'NNS'), ('dart', 'VBP'), ('from', 'IN'), ('one', 'CD'), ('owl', 'NN'), ('to', 'TO'), ('the', 'DT'), ('other', 'JJ'), ('--', ':'), ('but', 'CC'), ('my', 'PRP$'), ('eyes', 'NNS'), ('are', 'VBP'), ('trained', 'VBN'), ('on', 'IN'), ('the', 'DT'), ('Barn', 'NNP'), ('Owl', 'NNP'), ('the', 'DT'), ('most', 'RBS'), ('.', '.')]\n"
     ]
    }
   ],
   "source": [
    "print(nltk.pos_tag(word_tokenize(sent_tokenize(TrainingDataList[0]['pair'][0])[0])))"
   ]
  },
  {
   "cell_type": "markdown",
   "metadata": {},
   "source": [
    "# Look up Tagger"
   ]
  },
  {
   "cell_type": "code",
   "execution_count": 452,
   "metadata": {},
   "outputs": [
    {
     "data": {
      "text/plain": [
       "0.0932603360392675"
      ]
     },
     "execution_count": 452,
     "metadata": {},
     "output_type": "execute_result"
    }
   ],
   "source": [
    "# Look up Tagger\n",
    "text1_fd = nltk.FreqDist(word_tokenize(TrainingDataList[0]['pair'][0]))\n",
    "text1_cfd = nltk.ConditionalFreqDist(text1_tagset)\n",
    "most_freq_words = text1_fd.most_common(16)\n",
    "likely_tags = dict((word, text1_cfd[word].max()) for (word, _) in most_freq_words)\n",
    "baseline_tagger = nltk.UnigramTagger(model=likely_tags)\n",
    "baseline_tagger.evaluate(complete_sentences_tagged)"
   ]
  },
  {
   "cell_type": "code",
   "execution_count": 453,
   "metadata": {},
   "outputs": [
    {
     "data": {
      "text/plain": [
       "0.034482758620689655"
      ]
     },
     "execution_count": 453,
     "metadata": {},
     "output_type": "execute_result"
    }
   ],
   "source": [
    "baseline_tagger.evaluate([nltk.pos_tag(word_tokenize(complete_sentences[0]))])"
   ]
  },
  {
   "cell_type": "code",
   "execution_count": 454,
   "metadata": {},
   "outputs": [
    {
     "name": "stdout",
     "output_type": "stream",
     "text": [
      "[('I', 'PRON'), ('shift', None), ('a', 'DET'), ('bit', None), (',', '.'), ('warily', None), ('letting', None), ('my', None), ('eyes', None), ('dart', None), ('from', None), ('one', None), ('owl', None), ('to', 'PRT'), ('the', 'DET'), ('other', None), ('--', '.'), ('but', None), ('my', None), ('eyes', None), ('are', None), ('trained', None), ('on', None), ('the', 'DET'), ('Barn', None), ('Owl', None), ('the', 'DET'), ('most', None), ('.', '.')]\n"
     ]
    }
   ],
   "source": [
    "print(baseline_tagger.tag(word_tokenize(complete_sentences[0])))"
   ]
  },
  {
   "cell_type": "code",
   "execution_count": 411,
   "metadata": {},
   "outputs": [],
   "source": [
    "# Unigram tagger with default tagger as backoff\n",
    "baseline_tagger = nltk.UnigramTagger(model=likely_tags, backoff=nltk.DefaultTagger('NN'))"
   ]
  },
  {
   "cell_type": "code",
   "execution_count": 412,
   "metadata": {},
   "outputs": [
    {
     "data": {
      "text/plain": [
       "0.20445535208608645"
      ]
     },
     "execution_count": 412,
     "metadata": {},
     "output_type": "execute_result"
    }
   ],
   "source": [
    "baseline_tagger.evaluate(complete_sentences_tagged)"
   ]
  },
  {
   "cell_type": "code",
   "execution_count": 413,
   "metadata": {},
   "outputs": [],
   "source": [
    "# Checking performances of the taggers used\n",
    "def performance(cfd, wordlist):\n",
    "    lt = dict((word, cfd[word].max()) for word in wordlist)\n",
    "    baseline_tagger = nltk.UnigramTagger(model=lt, backoff=nltk.DefaultTagger('NN'))\n",
    "    return baseline_tagger.evaluate(complete_sentences_tagged)\n",
    "def display():\n",
    "    import pylab\n",
    "    word_freqs = nltk.FreqDist(word_tokenize(TrainingDataList[0]['pair'][0])).most_common()\n",
    "    words_by_freq = [w for (w, _) in word_freqs]\n",
    "    cfd = nltk.ConditionalFreqDist(text1_tagset)\n",
    "    sizes = 2 ** pylab.arange(6)\n",
    "    perfs = [performance(cfd, words_by_freq[:size]) for size in sizes]\n",
    "    pylab.plot(sizes, perfs, '-bo')\n",
    "    pylab.title('Lookup Tagger Performance with Varying Model Size')\n",
    "    pylab.xlabel('Model Size')\n",
    "    pylab.ylabel('Performance')\n",
    "    pylab.show()"
   ]
  },
  {
   "cell_type": "code",
   "execution_count": 414,
   "metadata": {},
   "outputs": [
    {
     "data": {
      "image/png": "[encoded data removed]",
      "text/plain": [
       "<Figure size 432x288 with 1 Axes>"
      ]
     },
     "metadata": {
      "needs_background": "light"
     },
     "output_type": "display_data"
    }
   ],
   "source": [
    "display()"
   ]
  },
  {
   "cell_type": "code",
   "execution_count": 458,
   "metadata": {},
   "outputs": [
    {
     "name": "stdout",
     "output_type": "stream",
     "text": [
      "[('I', 'PRP'), ('shift', 'VBP'), ('a', 'DT'), ('bit', 'NN'), (',', ','), ('warily', 'RB'), ('letting', 'VBG'), ('my', 'PRP$'), ('eyes', 'NNS'), ('dart', 'VBP'), ('from', 'IN'), ('one', 'CD'), ('owl', 'NN'), ('to', 'TO'), ('the', 'DT'), ('other', 'JJ'), ('--', ':'), ('but', 'CC'), ('my', 'PRP$'), ('eyes', 'NNS'), ('are', 'VBP'), ('trained', 'VBN'), ('on', 'IN'), ('the', 'DT'), ('Barn', 'NNP'), ('Owl', 'NNP'), ('the', 'DT'), ('most', 'RBS'), ('.', '.')]\n"
     ]
    }
   ],
   "source": [
    "# Unigram tagging for entire sentences\n",
    "unigram_tagger = nltk.UnigramTagger(complete_sentences_tagged)\n",
    "print(unigram_tagger.tag(word_tokenize(complete_sentences[0])))"
   ]
  },
  {
   "cell_type": "code",
   "execution_count": 459,
   "metadata": {},
   "outputs": [
    {
     "data": {
      "text/plain": [
       "0.9522371153483103"
      ]
     },
     "execution_count": 459,
     "metadata": {},
     "output_type": "execute_result"
    }
   ],
   "source": [
    "unigram_tagger.evaluate(complete_sentences_tagged)"
   ]
  },
  {
   "cell_type": "code",
   "execution_count": 460,
   "metadata": {},
   "outputs": [
    {
     "data": {
      "text/plain": [
       "453"
      ]
     },
     "execution_count": 460,
     "metadata": {},
     "output_type": "execute_result"
    }
   ],
   "source": [
    "size = int(len(complete_sentences_tagged) * 0.9)\n",
    "size"
   ]
  },
  {
   "cell_type": "code",
   "execution_count": 461,
   "metadata": {},
   "outputs": [
    {
     "data": {
      "text/plain": [
       "0.7804878048780488"
      ]
     },
     "execution_count": 461,
     "metadata": {},
     "output_type": "execute_result"
    }
   ],
   "source": [
    "train_sents = complete_sentences_tagged[:size]\n",
    "test_sents = complete_sentences_tagged[size:]\n",
    "unigram_tagger = nltk.UnigramTagger(train_sents)\n",
    "unigram_tagger.evaluate(test_sents)"
   ]
  },
  {
   "cell_type": "code",
   "execution_count": 463,
   "metadata": {},
   "outputs": [
    {
     "name": "stdout",
     "output_type": "stream",
     "text": [
      "[('I', 'PRP'), ('shift', 'VBP'), ('a', 'DT'), ('bit', 'NN'), (',', ','), ('warily', 'RB'), ('letting', 'VBG'), ('my', 'PRP$'), ('eyes', 'NNS'), ('dart', 'VBP'), ('from', 'IN'), ('one', 'CD'), ('owl', 'NN'), ('to', 'TO'), ('the', 'DT'), ('other', 'JJ'), ('--', ':'), ('but', 'CC'), ('my', 'PRP$'), ('eyes', 'NNS'), ('are', 'VBP'), ('trained', 'VBN'), ('on', 'IN'), ('the', 'DT'), ('Barn', 'NNP'), ('Owl', 'NNP'), ('the', 'DT'), ('most', 'RBS'), ('.', '.')]\n"
     ]
    }
   ],
   "source": [
    "# Bi-gram tagger\n",
    "bigram_tagger = nltk.BigramTagger(train_sents)\n",
    "print(bigram_tagger.tag(word_tokenize(complete_sentences[0])))"
   ]
  },
  {
   "cell_type": "code",
   "execution_count": 464,
   "metadata": {},
   "outputs": [
    {
     "name": "stdout",
     "output_type": "stream",
     "text": [
      "[('-', None), ('-', None), (' ', None), ('h', None), ('o', None), ('w', None), (' ', None), ('d', None), ('i', None), ('d', None), (' ', None), ('a', None), (' ', None), ('d', None), ('e', None), ('a', None), ('d', None), (' ', None), ('o', None), ('w', None), ('l', None), (',', None), (' ', None), ('u', None), ('n', None), ('d', None), ('o', None), ('u', None), ('b', None), ('t', None), ('e', None), ('d', None), ('l', None), ('y', None), (' ', None), ('g', None), ('o', None), ('n', None), ('e', None), (' ', None), ('f', None), ('o', None), ('r', None), (' ', None), ('y', None), ('e', None), ('a', None), ('r', None), ('s', None), (' ', None), ('u', None), ('p', None), ('o', None), ('n', None), (' ', None), ('y', None), ('e', None), ('a', None), ('r', None), ('s', None), (' ', None), ('u', None), ('p', None), ('o', None), ('n', None), (' ', None), ('y', None), ('e', None), ('a', None), ('r', None), ('s', None), ('.', None), ('.', None), ('.', None), ('h', None), ('o', None), ('w', None), (' ', None), ('c', None), ('o', None), ('u', None), ('l', None), ('d', None), (' ', None), ('a', None), (' ', None), ('d', None), ('e', None), ('a', None), ('d', None), (' ', None), ('o', None), ('w', None), ('l', None), (' ', None), ('r', None), ('i', None), ('s', None), ('e', None), (',', None), (' ', None), ('f', None), ('r', None), ('e', None), ('s', None), ('h', None), (' ', None), ('a', None), ('n', None), ('d', None), (' ', None), ('b', None), ('r', None), ('e', None), ('a', None), ('t', None), ('h', None), ('i', None), ('n', None), ('g', None), (',', None), (' ', None), ('f', None), ('r', None), ('o', None), ('m', None), (' ', None), ('t', None), ('h', None), ('e', None), (' ', None), ('d', None), ('e', None), ('a', None), ('d', None), ('?', None)]\n"
     ]
    }
   ],
   "source": [
    "unseen_sent = complete_sentences[455]\n",
    "print(bigram_tagger.tag(unseen_sent))"
   ]
  },
  {
   "cell_type": "code",
   "execution_count": 465,
   "metadata": {},
   "outputs": [
    {
     "data": {
      "text/plain": [
       "0.19715447154471544"
      ]
     },
     "execution_count": 465,
     "metadata": {},
     "output_type": "execute_result"
    }
   ],
   "source": [
    "bigram_tagger.evaluate(test_sents)"
   ]
  },
  {
   "cell_type": "code",
   "execution_count": 428,
   "metadata": {},
   "outputs": [
    {
     "data": {
      "text/plain": [
       "0.8373983739837398"
      ]
     },
     "execution_count": 428,
     "metadata": {},
     "output_type": "execute_result"
    }
   ],
   "source": [
    "# Combination of Default tagger, Uni gram tagger and bigram tagger\n",
    "t0 = nltk.DefaultTagger('NN')\n",
    "t1 = nltk.UnigramTagger(train_sents, backoff=t0)\n",
    "t2 = nltk.BigramTagger(train_sents, backoff=t1)\n",
    "t2.evaluate(test_sents)"
   ]
  },
  {
   "cell_type": "code",
   "execution_count": 429,
   "metadata": {},
   "outputs": [
    {
     "data": {
      "text/plain": [
       "0.8414634146341463"
      ]
     },
     "execution_count": 429,
     "metadata": {},
     "output_type": "execute_result"
    }
   ],
   "source": [
    "# Combination of Default tagger, Uni gram tagger, bigram tagger and trigram tagger\n",
    "t0 = nltk.DefaultTagger('NN')\n",
    "t1 = nltk.UnigramTagger(train_sents, backoff=t0)\n",
    "t2 = nltk.BigramTagger(train_sents, backoff=t1)\n",
    "t3 = nltk.TrigramTagger(train_sents, backoff=t2)\n",
    "t3.evaluate(test_sents)"
   ]
  },
  {
   "cell_type": "code",
   "execution_count": null,
   "metadata": {},
   "outputs": [],
   "source": []
  }
 ],
 "metadata": {
  "kernelspec": {
   "display_name": "Python 3",
   "language": "python",
   "name": "python3"
  },
  "language_info": {
   "codemirror_mode": {
    "name": "ipython",
    "version": 3
   },
   "file_extension": ".py",
   "mimetype": "text/x-python",
   "name": "python",
   "nbconvert_exporter": "python",
   "pygments_lexer": "ipython3",
   "version": "3.7.3"
  }
 },
 "nbformat": 4,
 "nbformat_minor": 2
}
