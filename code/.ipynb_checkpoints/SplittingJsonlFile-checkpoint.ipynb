{
 "cells": [
  {
   "cell_type": "code",
   "execution_count": 1,
   "metadata": {},
   "outputs": [],
   "source": [
    "# Libraries\n",
    "import json\n",
    "import nltk, re, pprint\n",
    "from nltk import word_tokenize"
   ]
  },
  {
   "cell_type": "code",
   "execution_count": 3,
   "metadata": {},
   "outputs": [],
   "source": [
    "# Opening Files and loading data\n",
    "def LoadAllData(path):\n",
    "    with open(path, 'r') as json_file:\n",
    "        JsonList = list(json_file)\n",
    "    return JsonList\n",
    "GroundTruth_jsonlist=LoadAllData('.\\\\Datasets\\\\pan20-authorship-verification-training-small\\\\pan20-authorship-verification-training-small-truth.jsonl')\n",
    "TrainingData_jsonlist=LoadAllData('.\\\\Datasets\\\\pan20-authorship-verification-training-small\\\\pan20-authorship-verification-training-small.jsonl')"
   ]
  },
  {
   "cell_type": "code",
   "execution_count": 11,
   "metadata": {},
   "outputs": [],
   "source": [
    "# Dividing into training and test\n",
    "cut = int(0.9 * len(TrainingData_jsonlist))\n",
    "testcut=cut+cut*10\n",
    "training_data, test_data = TrainingData_jsonlist[:cut]+TrainingData_jsonlist[32200:32300], TrainingData_jsonlist[cut:testcut]\n",
    "groundTruth_training_data,groundTruth_test_data  =GroundTruth_jsonlist[:cut], GroundTruth_jsonlist[cut:testcut]"
   ]
  },
  {
   "cell_type": "code",
   "execution_count": 15,
   "metadata": {},
   "outputs": [],
   "source": [
    "# Creating training and test files\n",
    "def CreateTrainingAndTestFiles(path, data):\n",
    "    with open('.\\\\Datasets\\\\pan20-authorship-verification-training\\\\pairs.jsonl', 'w') as outfile:\n",
    "        for entry in training_data:\n",
    "            json.dump(json.loads(entry[:-1]), outfile)\n",
    "            outfile.write('\\n')\n",
    "CreateTrainingAndTestFiles('.\\\\Datasets\\\\pan20-authorship-verification-training\\\\pairs.jsonl',training_data)\n",
    "CreateTrainingAndTestFiles('.\\\\Datasets\\\\pan20-authorship-verification-training\\\\truth.jsonl',groundTruth_training_data)\n",
    "CreateTrainingAndTestFiles('.\\\\Datasets\\\\pan20-authorship-verification-test\\\\pairs.jsonl',test_data)\n",
    "CreateTrainingAndTestFiles('.\\\\Datasets\\\\pan20-authorship-verification-test\\\\truth.jsonl',groundTruth_test_data)"
   ]
  },
  {
   "cell_type": "code",
   "execution_count": 16,
   "metadata": {},
   "outputs": [
    {
     "name": "stdout",
     "output_type": "stream",
     "text": [
      "Training Data length: 200 100\n",
      "Test Data length: 1000 1000\n",
      "Total Data length: 52601\n"
     ]
    }
   ],
   "source": [
    "print('Training Data length:',len(training_data), len(groundTruth_training_data))\n",
    "print('Test Data length:',len(test_data), len(groundTruth_test_data))\n",
    "print('Total Data length:',len(TrainingData_jsonlist))"
   ]
  },
  {
   "cell_type": "code",
   "execution_count": 13,
   "metadata": {},
   "outputs": [
    {
     "data": {
      "text/plain": [
       "52601"
      ]
     },
     "execution_count": 13,
     "metadata": {},
     "output_type": "execute_result"
    }
   ],
   "source": [
    "len(GroundTruth_jsonlist)"
   ]
  },
  {
   "cell_type": "code",
   "execution_count": 14,
   "metadata": {},
   "outputs": [
    {
     "data": {
      "text/plain": [
       "200"
      ]
     },
     "execution_count": 14,
     "metadata": {},
     "output_type": "execute_result"
    }
   ],
   "source": [
    "len(training_data)"
   ]
  },
  {
   "cell_type": "code",
   "execution_count": null,
   "metadata": {},
   "outputs": [],
   "source": []
  }
 ],
 "metadata": {
  "kernelspec": {
   "display_name": "Python 3",
   "language": "python",
   "name": "python3"
  },
  "language_info": {
   "codemirror_mode": {
    "name": "ipython",
    "version": 3
   },
   "file_extension": ".py",
   "mimetype": "text/x-python",
   "name": "python",
   "nbconvert_exporter": "python",
   "pygments_lexer": "ipython3",
   "version": "3.7.3"
  }
 },
 "nbformat": 4,
 "nbformat_minor": 2
}
