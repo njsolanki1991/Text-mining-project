{
 "cells": [
  {
   "cell_type": "code",
   "execution_count": 1,
   "metadata": {},
   "outputs": [],
   "source": [
    "# Libraries\n",
    "import nltk\n",
    "import sys\n",
    "# For Extracting zip file and creating training and test dataset for baseline algorithm\n",
    "# and training, validation and test dataset for dissimilarity algorithm. Result is stored in *.jsonl files\n",
    "import ExtractAndSplitDataset as Ex\n",
    "# For checking the time taken by algorithm\n",
    "from time import perf_counter\n",
    "# Getting Date and Time information\n",
    "from datetime import datetime"
   ]
  },
  {
   "cell_type": "code",
   "execution_count": 3,
   "metadata": {},
   "outputs": [
    {
     "name": "stdout",
     "output_type": "stream",
     "text": [
      "Requirement already satisfied: joblib in c:\\users\\s_mohapatra\\appdata\\local\\continuum\\anaconda3\\lib\\site-packages (0.13.2)\n",
      "Requirement already satisfied: tqdm in c:\\users\\s_mohapatra\\appdata\\local\\continuum\\anaconda3\\lib\\site-packages (4.32.1)\n"
     ]
    },
    {
     "name": "stderr",
     "output_type": "stream",
     "text": [
      "[nltk_data] Downloading package punkt to\n",
      "[nltk_data]     C:\\Users\\s_Mohapatra\\AppData\\Roaming\\nltk_data...\n",
      "[nltk_data]   Package punkt is already up-to-date!\n",
      "[nltk_data] Downloading package universal_tagset to\n",
      "[nltk_data]     C:\\Users\\s_Mohapatra\\AppData\\Roaming\\nltk_data...\n",
      "[nltk_data]   Package universal_tagset is already up-to-date!\n",
      "[nltk_data] Downloading package averaged_perceptron_tagger to\n",
      "[nltk_data]     C:\\Users\\s_Mohapatra\\AppData\\Roaming\\nltk_data...\n",
      "[nltk_data]   Package averaged_perceptron_tagger is already up-to-\n",
      "[nltk_data]       date!\n"
     ]
    }
   ],
   "source": [
    "# Function to install packages to be used for both baseline and dissinilarity method\n",
    "def InstallingPackages():\n",
    "    # Install a pip package in the current Jupyter kernel\n",
    "    !{sys.executable} -m pip install joblib\n",
    "    !{sys.executable} -m pip install tqdm\n",
    "    nltk.download('punkt')\n",
    "    nltk.download('universal_tagset')\n",
    "    nltk.download('averaged_perceptron_tagger')   "
   ]
  },
  {
   "cell_type": "code",
   "execution_count": null,
   "metadata": {},
   "outputs": [],
   "source": [
    "def ExtractionOfZipAndSplitingOfDataset():\n",
    "    # To run only once\n",
    "    RootPath='./Datasets'\n",
    "    print('Extracting zip file and extracting of dataset Starts: ',datetime.now())\n",
    "    StartExtractAndSplitDataset=perf_counter()\n",
    "    Ex.main(RootPath)\n",
    "    DurationExtractAndSplitDataset=perf_counter() -StartExtractAndSplitDataset\n",
    "    print('Time taken for Extracting and split of Dataset: '+ format(DurationExtractAndSplitDataset))\n",
    "    print('Extracting zip file and extracting of dataset Ends: ',datetime.now())"
   ]
  },
  {
   "cell_type": "code",
   "execution_count": null,
   "metadata": {},
   "outputs": [],
   "source": [
    "# Run this once only for installation of required packages and Extraction of Pan-20 zip file \n",
    "# and Splitting of dataset\n",
    "\n",
    "def main():\n",
    "    InstallingPackages()\n",
    "    ExtractionOfZipAndSplitingOfDataset()"
   ]
  },
  {
   "cell_type": "code",
   "execution_count": null,
   "metadata": {},
   "outputs": [],
   "source": [
    "# To run once and make sure that zip file is in RootPath\n",
    "main()"
   ]
  }
 ],
 "metadata": {
  "kernelspec": {
   "display_name": "Python 3",
   "language": "python",
   "name": "python3"
  },
  "language_info": {
   "codemirror_mode": {
    "name": "ipython",
    "version": 3
   },
   "file_extension": ".py",
   "mimetype": "text/x-python",
   "name": "python",
   "nbconvert_exporter": "python",
   "pygments_lexer": "ipython3",
   "version": "3.7.3"
  }
 },
 "nbformat": 4,
 "nbformat_minor": 2
}
